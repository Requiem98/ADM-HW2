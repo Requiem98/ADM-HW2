{
 "cells": [
  {
   "cell_type": "markdown",
   "id": "38ff6d46-6134-484e-b3c2-1f1e7e13becd",
   "metadata": {},
   "source": [
    "Importo le librerie necessarie"
   ]
  },
  {
   "cell_type": "code",
   "execution_count": 4,
   "id": "fdf9f519-278f-43bb-9d2f-9b14233efd15",
   "metadata": {},
   "outputs": [
    {
     "name": "stdout",
     "output_type": "stream",
     "text": [
      "1.2.4\n",
      "1.20.1\n"
     ]
    }
   ],
   "source": [
    "import pandas as pd\n",
    "import numpy as np\n",
    "print(pd.__version__)\n",
    "print(np.__version__)\n"
   ]
  },
  {
   "cell_type": "markdown",
   "id": "94e13353-d855-4df5-90d4-a9ffeb00693a",
   "metadata": {},
   "source": [
    "Carico il dataset"
   ]
  },
  {
   "cell_type": "code",
   "execution_count": 6,
   "id": "953d4317-1bc3-4e08-8cab-79327d4596eb",
   "metadata": {},
   "outputs": [
    {
     "name": "stdout",
     "output_type": "stream",
     "text": [
      "<class 'pandas.core.frame.DataFrame'>\n",
      "RangeIndex: 2000 entries, 0 to 1999\n",
      "Data columns (total 23 columns):\n",
      " #   Column                          Non-Null Count  Dtype  \n",
      "---  ------                          --------------  -----  \n",
      " 0   Unnamed: 0                      2000 non-null   int64  \n",
      " 1   app_id                          2000 non-null   int64  \n",
      " 2   app_name                        2000 non-null   object \n",
      " 3   review_id                       2000 non-null   int64  \n",
      " 4   language                        2000 non-null   object \n",
      " 5   review                          1993 non-null   object \n",
      " 6   timestamp_created               2000 non-null   int64  \n",
      " 7   timestamp_updated               2000 non-null   int64  \n",
      " 8   recommended                     2000 non-null   bool   \n",
      " 9   votes_helpful                   2000 non-null   int64  \n",
      " 10  votes_funny                     2000 non-null   int64  \n",
      " 11  weighted_vote_score             2000 non-null   float64\n",
      " 12  comment_count                   2000 non-null   int64  \n",
      " 13  steam_purchase                  2000 non-null   bool   \n",
      " 14  received_for_free               2000 non-null   bool   \n",
      " 15  written_during_early_access     2000 non-null   bool   \n",
      " 16  author.steamid                  2000 non-null   int64  \n",
      " 17  author.num_games_owned          2000 non-null   int64  \n",
      " 18  author.num_reviews              2000 non-null   int64  \n",
      " 19  author.playtime_forever         2000 non-null   float64\n",
      " 20  author.playtime_last_two_weeks  2000 non-null   float64\n",
      " 21  author.playtime_at_review       2000 non-null   float64\n",
      " 22  author.last_played              2000 non-null   float64\n",
      "dtypes: bool(4), float64(5), int64(11), object(3)\n",
      "memory usage: 304.8+ KB\n"
     ]
    }
   ],
   "source": [
    "dataset = pd.read_csv(\"./steam_reviews.csv\", header=\"infer\", nrows=2000)\n",
    "dataset.info()"
   ]
  }
 ],
 "metadata": {
  "kernelspec": {
   "display_name": "Python 3",
   "language": "python",
   "name": "python3"
  },
  "language_info": {
   "codemirror_mode": {
    "name": "ipython",
    "version": 3
   },
   "file_extension": ".py",
   "mimetype": "text/x-python",
   "name": "python",
   "nbconvert_exporter": "python",
   "pygments_lexer": "ipython3",
   "version": "3.8.8"
  }
 },
 "nbformat": 4,
 "nbformat_minor": 5
}
