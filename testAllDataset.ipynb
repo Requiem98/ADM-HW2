{
 "cells": [
  {
   "cell_type": "markdown",
   "id": "19bdfa41-4ab8-4dd9-8d97-a797e73fd5bf",
   "metadata": {},
   "source": [
    "# CARICO IL DATASET"
   ]
  },
  {
   "cell_type": "code",
   "execution_count": 1,
   "id": "d0561193-990f-469a-90c0-2eca3a28aeec",
   "metadata": {},
   "outputs": [],
   "source": [
    "import DS_functions as df"
   ]
  },
  {
   "cell_type": "code",
   "execution_count": 19,
   "id": "f89807a9-d298-4201-bf8e-e6b16caae491",
   "metadata": {},
   "outputs": [],
   "source": [
    "from DS_functions import steam\n",
    "from DS_functions import plt\n",
    "import matplotlib"
   ]
  },
  {
   "cell_type": "code",
   "execution_count": null,
   "id": "29aba3b9-3f96-4a89-b78a-f8010d5a3ebc",
   "metadata": {},
   "outputs": [],
   "source": [
    "df.steam.head()"
   ]
  },
  {
   "cell_type": "markdown",
   "id": "101f401f-1e3c-4ae1-80e0-e2845751d148",
   "metadata": {},
   "source": [
    "# RQ3 test\n",
    "\n",
    "#### What is the most common time that authors review an application? For example, authors usually write a review at 17:44.\n",
    "\n",
    "La domanda che ci è stata posta non ha una risposta diretta. Per rispondere a quest'ultima, inizialmente abbiamo plotted, con la funzione richiesta nell'esercizio, il numero di recenzioni in intervalli di tempo da 15 minuti. In questa prima rappresentazione (figura 1) abbiamo notato due massimi: Il primo tra le 14 e le 16 ed il secondo tra le 18 e le 19. Tuttavia i bar del grafico in quegli intorni sono piuttosto costanti, quindi una rappresentazione con intervalli più larghi potrebbe rappresentare meglio i dati (figura 2).\n",
    "\n",
    "## Forse la media?\n"
   ]
  },
  {
   "cell_type": "code",
   "execution_count": null,
   "id": "a414c2c7-70dc-4de2-bb68-a4a609e03dc3",
   "metadata": {},
   "outputs": [],
   "source": [
    "df.numbersOfReviewByTime(df.datetime_range24(delta = 15));\n",
    "df.numbersOfReviewByTime(df.datetime_range24(delta = 30));\n",
    "df.numbersOfReviewByTime(df.datetime_range24(delta = 60));\n",
    "df.numbersOfReviewByTime(df.datetime_range24(startM=30,endM=30,delta=60));"
   ]
  },
  {
   "cell_type": "code",
   "execution_count": null,
   "id": "8d4964d7-d8c8-4f47-8550-e3f47ef8b36b",
   "metadata": {},
   "outputs": [],
   "source": [
    "df.numbersOfReviewByTime([[\"0:00\", \"3:59\"], [\"4:00\", \"7:59\"], [\"8:00\", \"11:59\"], [\"12:00\", \"15:59\"], [\"16:00\", \"19:59\"], [\"20:00\", \"23:59\"]]);"
   ]
  },
  {
   "cell_type": "markdown",
   "id": "cb8f4969-7ed6-4b92-91ac-3246d0618318",
   "metadata": {},
   "source": [
    "Ora applichiamo la funzione utilizzata precedentemente su i seguenti intervalli richiesti:\n",
    "    \n",
    "| Initial time | Final time |\n",
    "| ----------- | ----------- |\n",
    "|06:00:00 | 10:59:59|\n",
    "|11:00:00 | 13:59:59|\n",
    "|14:00:00 | 16:59:59|\n",
    "|17:00:00 | 19:59:59|\n",
    "|20:00:00 | 23:59:59|\n",
    "|00:00:00 | 02:59:59|\n",
    "|03:00:00 | 05:59:59|"
   ]
  },
  {
   "cell_type": "code",
   "execution_count": null,
   "id": "75420aa5-0455-4858-a60d-3a3865b28262",
   "metadata": {},
   "outputs": [],
   "source": [
    "df.numbersOfReviewByTime([[\"06:00:00\", \"10:59:59\"],[\"11:00:00\", \"13:59:59\"], [\"14:00:00\",  \"16:59:59\"], [\"17:00:00\", \"19:59:59\"], [\"20:00:00\", \"23:59:59\"], [\"00:00:00\", \"02:59:59\"],[\"03:00:00\", \"05:59:59\"]]);"
   ]
  },
  {
   "cell_type": "markdown",
   "id": "cc6d38cf-3709-42de-99cb-f0f090c27811",
   "metadata": {},
   "source": [
    "# RQ6 test\n",
    "\n",
    " # Average time (days and minutes) a user lets pass before he updates a review\n"
   ]
  },
  {
   "cell_type": "code",
   "execution_count": null,
   "id": "2059d528-2430-4460-86f4-998b704ff750",
   "metadata": {},
   "outputs": [],
   "source": [
    "t = df.timedelta_updated_created()"
   ]
  },
  {
   "cell_type": "markdown",
   "id": "f22fe755-6790-4cf3-a11c-0bbd54493718",
   "metadata": {},
   "source": [
    "Analizzando il DataFrame utilizzando la funzione \"describe\" si può reperire che la media"
   ]
  },
  {
   "cell_type": "code",
   "execution_count": null,
   "id": "a70708ab-7c82-4f1d-a67b-5b5059e34adc",
   "metadata": {},
   "outputs": [],
   "source": [
    "t.describe()[\"mean\"]"
   ]
  },
  {
   "cell_type": "markdown",
   "id": "e63d580e-34f9-4461-8c13-bf7d34f6dcf6",
   "metadata": {},
   "source": [
    "### NOTA\n",
    "\n",
    "Analizzando i risultati della funzione describe si può inoltre notare la presenza di un dato errato nel dataset. Una riga del dataset possiede nel campo timestamp_created un valore maggiore rispetto al campo timestamp_updated."
   ]
  },
  {
   "cell_type": "code",
   "execution_count": null,
   "id": "f4c5c695-5967-4f90-b882-3459142e717c",
   "metadata": {},
   "outputs": [],
   "source": [
    "t.sort_values()"
   ]
  },
  {
   "cell_type": "markdown",
   "id": "6bb674c2-325b-4584-aa35-05064e8bbacd",
   "metadata": {},
   "source": [
    "   - Plot the top 3 authors that usually update their reviews.\n",
    "   \n",
    "Top 3 utenti con più recensioni aggiornate (Questa lista non prende in considerazione il numero totale di recensioni per utente: un utente con più recensioni si troverà probabilmente più in alto in classifica)"
   ]
  },
  {
   "cell_type": "code",
   "execution_count": null,
   "id": "8d87721e-ae38-4aaf-8548-7ddc133699af",
   "metadata": {},
   "outputs": [],
   "source": [
    "df.plotBestAuthor_updater(3)"
   ]
  },
  {
   "cell_type": "markdown",
   "id": "e97c7dd4-eefa-4915-b110-fedd07895166",
   "metadata": {},
   "source": [
    "Top 3 utenti con più recensioni aggiornate (Questa lista prende in considerazione il numero totale di recensioni e il numero di recensioni aggiornate)"
   ]
  },
  {
   "cell_type": "code",
   "execution_count": null,
   "id": "ebf5907b-4a3a-4947-914a-031582b984f8",
   "metadata": {},
   "outputs": [],
   "source": [
    "df.numberOfUpdateAndNonUpdateByAuthor(3)"
   ]
  },
  {
   "cell_type": "markdown",
   "id": "6a544820-5f74-479a-aca6-9ac7643adf3b",
   "metadata": {},
   "source": [
    "# RQ2 test"
   ]
  },
  {
   "cell_type": "code",
   "execution_count": null,
   "id": "89fbf2c6-6476-4b1c-868d-6f5397d4d866",
   "metadata": {},
   "outputs": [],
   "source": [
    "df.numbersOfReviewsByApplication(15)"
   ]
  },
  {
   "cell_type": "code",
   "execution_count": null,
   "id": "1acaf19a-9739-4c40-99c6-2ce0d77669ea",
   "metadata": {},
   "outputs": [],
   "source": [
    "df.scoreOfApps(20)"
   ]
  },
  {
   "cell_type": "code",
   "execution_count": null,
   "id": "abe0bbc7-40aa-41d4-97a2-5c73bba9de38",
   "metadata": {},
   "outputs": [],
   "source": [
    "df.raccomendedApp_purchase_free(5, 3)"
   ]
  },
  {
   "cell_type": "markdown",
   "id": "f3ceec23-e07c-43ca-806b-cc513300571f",
   "metadata": {},
   "source": [
    "# RQ7 test"
   ]
  },
  {
   "cell_type": "code",
   "execution_count": null,
   "id": "e6b785fc-e7f0-4873-a9ee-b639b49e3e55",
   "metadata": {},
   "outputs": [],
   "source": [
    "df.probabilityQuestion1()"
   ]
  },
  {
   "cell_type": "code",
   "execution_count": null,
   "id": "2ff7183d-f498-428c-b758-d73ef12d8e96",
   "metadata": {},
   "outputs": [],
   "source": [
    "df.probabilityQuestion2()"
   ]
  },
  {
   "cell_type": "code",
   "execution_count": null,
   "id": "59113391-4923-46a5-b4ef-046cfe65f1e2",
   "metadata": {},
   "outputs": [],
   "source": [
    "df.probabilityQuestion3()"
   ]
  },
  {
   "cell_type": "markdown",
   "id": "4c58c242-ba82-470f-872c-82eee1afbc3d",
   "metadata": {},
   "source": [
    "# TEST"
   ]
  },
  {
   "cell_type": "code",
   "execution_count": 288,
   "id": "f01b6d59-ff8b-449f-a876-d399e9eca610",
   "metadata": {},
   "outputs": [],
   "source": [
    "def numbersOfReviewByTime2(n):\n",
    "    #Setting the index timestamp_created in order to use between_time function\n",
    "\n",
    "\n",
    "    dates = steam[\"timestamp_created\"].swifter.apply(lambda row: row.replace(year=1970, month=1, day=1, second=0))\n",
    "    m = 0.0006944444444444444\n",
    "        \n",
    "    mpl_data = matplotlib.dates.date2num(dates)\n",
    "        \n",
    "    binns=df.np.arange(min(mpl_data), max(mpl_data) , n*m) \n",
    "        \n",
    "    fig, ax = plt.subplots(1,1)\n",
    "    fig.set_size_inches((20,5))\n",
    "        \n",
    "        \n",
    "        \n",
    "    n, bins, temp = ax.hist(mpl_data, bins=binns , color=\"k\")\n",
    "    locator = matplotlib.dates.AutoDateLocator()\n",
    "    ax.grid()\n",
    "    ax.xaxis.set_major_locator(locator)\n",
    "    ax.xaxis.set_major_formatter(matplotlib.dates.DateFormatter(\"%H:%M\"))\n",
    "    plt.xlabel(\"Time intervals\", labelpad=25.0, size=\"xx-large\")\n",
    "    plt.ylabel(\"Number of reviews\", labelpad=25.0, size=\"xx-large\")\n",
    "    \n",
    "    temp = matplotlib.dates.num2date(bins)\n",
    "    maxval = temp[df.np.where(n==max(n))[0][0]].time()\n",
    "    plt.legend([\"max value = \" + str(maxval)])\n",
    "\n",
    "\n",
    "    return n, bins, maxval\n"
   ]
  },
  {
   "cell_type": "code",
   "execution_count": 291,
   "id": "e2c61d55-94f0-4f50-952b-07f34e5c6c04",
   "metadata": {},
   "outputs": [
    {
     "data": {
      "application/vnd.jupyter.widget-view+json": {
       "model_id": "fc9ee8cd5aaa48f8aa378c72cda7def0",
       "version_major": 2,
       "version_minor": 0
      },
      "text/plain": [
       "Dask Apply:   0%|          | 0/40 [00:00<?, ?it/s]"
      ]
     },
     "metadata": {},
     "output_type": "display_data"
    },
    {
     "data": {
      "image/png": "[encoded data removed]",
      "text/plain": [
       "<Figure size 1440x360 with 1 Axes>"
      ]
     },
     "metadata": {
      "needs_background": "light"
     },
     "output_type": "display_data"
    }
   ],
   "source": [
    "n, bins, maxval = numbersOfReviewByTime2(30)"
   ]
  },
  {
   "cell_type": "code",
   "execution_count": 293,
   "id": "a14cfe86-2ee6-4b5c-a868-e117bde12d46",
   "metadata": {},
   "outputs": [
    {
     "data": {
      "text/plain": [
       "12"
      ]
     },
     "execution_count": 293,
     "metadata": {},
     "output_type": "execute_result"
    }
   ],
   "source": [
    "df.np.where(n==min(n))[0][0]"
   ]
  },
  {
   "cell_type": "code",
   "execution_count": 292,
   "id": "4ae9e749-6f23-4ae2-987a-fb7ef3141112",
   "metadata": {},
   "outputs": [],
   "source": [
    "temp = matplotlib.dates.num2date(bins)"
   ]
  },
  {
   "cell_type": "code",
   "execution_count": 303,
   "id": "0a8d489e-c9f4-48f8-93b3-4fd53b53e1bc",
   "metadata": {},
   "outputs": [
    {
     "data": {
      "text/plain": [
       "'23:00:00'"
      ]
     },
     "execution_count": 303,
     "metadata": {},
     "output_type": "execute_result"
    }
   ],
   "source": [
    "str(temp[46].time())"
   ]
  },
  {
   "cell_type": "code",
   "execution_count": 304,
   "id": "ba6139a5-5db7-40f4-bf8b-55c0ed28c35b",
   "metadata": {},
   "outputs": [
    {
     "data": {
      "text/plain": [
       "411844.0"
      ]
     },
     "execution_count": 304,
     "metadata": {},
     "output_type": "execute_result"
    }
   ],
   "source": [
    "n[46]"
   ]
  },
  {
   "cell_type": "code",
   "execution_count": 17,
   "id": "f119f923-2945-4812-9b98-919097ff66ac",
   "metadata": {},
   "outputs": [],
   "source": [
    "data = steam[\"timestamp_created\"]\n"
   ]
  },
  {
   "cell_type": "code",
   "execution_count": 20,
   "id": "6db6f5dc-1082-464c-aff5-3783e840ddab",
   "metadata": {},
   "outputs": [],
   "source": [
    "\n",
    "#mpl_data = mdates.epoch2num(data)\n",
    "\n",
    "mpl_data = matplotlib.dates.date2num(data)"
   ]
  },
  {
   "cell_type": "code",
   "execution_count": 22,
   "id": "bd0ca76b-9008-4f4d-a4a7-8029b86ae407",
   "metadata": {},
   "outputs": [
    {
     "data": {
      "text/plain": [
       "21747371"
      ]
     },
     "execution_count": 22,
     "metadata": {},
     "output_type": "execute_result"
    }
   ],
   "source": []
  },
  {
   "cell_type": "code",
   "execution_count": null,
   "id": "d2e13c5c-957b-43eb-96b1-32e33292c9e9",
   "metadata": {},
   "outputs": [],
   "source": [
    "for x in interv:    \n",
    "            dic[x[0] + \"-\" + x[1]] = len(steam.between_time(x[0], x[1]))"
   ]
  },
  {
   "cell_type": "code",
   "execution_count": 32,
   "id": "33a5700a-a25f-4a35-8d40-afb0f4848223",
   "metadata": {},
   "outputs": [
    {
     "data": {
      "image/png": "[encoded data removed]",
      "text/plain": [
       "<Figure size 1440x360 with 1 Axes>"
      ]
     },
     "metadata": {
      "needs_background": "light"
     },
     "output_type": "display_data"
    }
   ],
   "source": [
    "fig, ax = plt.subplots(1,1)\n",
    "fig.set_size_inches((20,5))\n",
    "ax.hist(mpl_data, bins=60 , color='k')\n",
    "locator = matplotlib.dates.AutoDateLocator()\n",
    "ax.xaxis.set_major_locator(locator)\n",
    "ax.xaxis.set_major_formatter(matplotlib.dates.AutoDateFormatter(locator))\n",
    "plt.show()"
   ]
  },
  {
   "cell_type": "code",
   "execution_count": 246,
   "id": "a663d769-a2a7-4302-bbbc-5242986ec05e",
   "metadata": {},
   "outputs": [],
   "source": [
    "m = 0.0006944444444444444"
   ]
  },
  {
   "cell_type": "code",
   "execution_count": 206,
   "id": "7f8eb630-f8db-4bff-a858-1fc3c7d1b274",
   "metadata": {},
   "outputs": [
    {
     "name": "stdout",
     "output_type": "stream",
     "text": [
      "2021-10-31 05:32:00 2021-10-31 05:21:00 18931.230555555554 18931.222916666666\n"
     ]
    }
   ],
   "source": [
    "print(a,b,c,d)"
   ]
  },
  {
   "cell_type": "code",
   "execution_count": 249,
   "id": "d49400d7-8294-42ca-a03f-8009afe3d941",
   "metadata": {},
   "outputs": [],
   "source": [
    "se=df.np.arange(18931.222916666666, 18931.230555555554, m) "
   ]
  },
  {
   "cell_type": "code",
   "execution_count": 250,
   "id": "22a78411-610f-48e8-92ba-5618a8b19168",
   "metadata": {},
   "outputs": [
    {
     "data": {
      "text/plain": [
       "[datetime.datetime(2021, 10, 31, 5, 21, tzinfo=datetime.timezone.utc),\n",
       " datetime.datetime(2021, 10, 31, 5, 22, tzinfo=datetime.timezone.utc),\n",
       " datetime.datetime(2021, 10, 31, 5, 23, tzinfo=datetime.timezone.utc),\n",
       " datetime.datetime(2021, 10, 31, 5, 24, tzinfo=datetime.timezone.utc),\n",
       " datetime.datetime(2021, 10, 31, 5, 25, tzinfo=datetime.timezone.utc),\n",
       " datetime.datetime(2021, 10, 31, 5, 25, 59, 999999, tzinfo=datetime.timezone.utc),\n",
       " datetime.datetime(2021, 10, 31, 5, 26, 59, 999999, tzinfo=datetime.timezone.utc),\n",
       " datetime.datetime(2021, 10, 31, 5, 27, 59, 999999, tzinfo=datetime.timezone.utc),\n",
       " datetime.datetime(2021, 10, 31, 5, 28, 59, 999999, tzinfo=datetime.timezone.utc),\n",
       " datetime.datetime(2021, 10, 31, 5, 29, 59, 999999, tzinfo=datetime.timezone.utc),\n",
       " datetime.datetime(2021, 10, 31, 5, 30, 59, 999999, tzinfo=datetime.timezone.utc)]"
      ]
     },
     "execution_count": 250,
     "metadata": {},
     "output_type": "execute_result"
    }
   ],
   "source": [
    "matplotlib.dates.num2date(se)"
   ]
  }
 ],
 "metadata": {
  "kernelspec": {
   "display_name": "Python 3",
   "language": "python",
   "name": "python3"
  },
  "language_info": {
   "codemirror_mode": {
    "name": "ipython",
    "version": 3
   },
   "file_extension": ".py",
   "mimetype": "text/x-python",
   "name": "python",
   "nbconvert_exporter": "python",
   "pygments_lexer": "ipython3",
   "version": "3.8.8"
  }
 },
 "nbformat": 4,
 "nbformat_minor": 5
}
