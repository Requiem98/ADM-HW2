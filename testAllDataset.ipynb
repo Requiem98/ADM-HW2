{
 "cells": [
  {
   "cell_type": "code",
   "execution_count": null,
   "id": "d0561193-990f-469a-90c0-2eca3a28aeec",
   "metadata": {},
   "outputs": [],
   "source": [
    "import DS_functions as df"
   ]
  },
  {
   "cell_type": "markdown",
   "id": "6c51081b-c18e-43ba-8cd2-bc23bd615f8e",
   "metadata": {},
   "source": [
    "# RQ3 test"
   ]
  },
  {
   "cell_type": "markdown",
   "id": "494bdeda-d09f-484a-8b75-6bdb80559c8a",
   "metadata": {},
   "source": [
    "*Now it's important to understand the preferred time to do reviews.*\n",
    "   - What is the most common time that authors review an application? For example, authors usually write a review at 17:44.\n"
   ]
  },
  {
   "cell_type": "code",
   "execution_count": null,
   "id": "aa11d360-4340-4d03-823e-46f28879b48d",
   "metadata": {},
   "outputs": [],
   "source": [
    "df.plt.figure(1, figsize=(60,20))\n",
    "df.numbersOfReviewForTime(df.datetime_range(0,23,60));\n",
    "df.plt.figure(2, figsize=(60,20))\n",
    "df.numbersOfReviewForTime(df.datetime_range(0,23,15));"
   ]
  },
  {
   "cell_type": "markdown",
   "id": "3cf85e7a-046c-4bce-b605-bd72cea3f21f",
   "metadata": {},
   "source": [
    "   - Create a function that receives as a parameter a list of time intervals and returns the plot the number of reviews for each of the intervals.\n"
   ]
  },
  {
   "cell_type": "code",
   "execution_count": null,
   "id": "9346862c-2bba-460c-9b79-c5d6ca4ecc95",
   "metadata": {},
   "outputs": [],
   "source": [
    "df.numbersOfReviewForTime([[\"8:00\", \"10:00\"],[\"13:00\", \"18:00\"]])"
   ]
  },
  {
   "cell_type": "markdown",
   "id": "cb8f4969-7ed6-4b92-91ac-3246d0618318",
   "metadata": {},
   "source": [
    "    - Use the function that you created in the previous literal to plot the number of reviews between the following time intervals: \n",
    "    \n",
    "| Initial time | Final time |\n",
    "| ----------- | ----------- |\n",
    "|06:00:00 | 10:59:59|\n",
    "|11:00:00 | 13:59:59|\n",
    "|14:00:00 | 16:59:59|\n",
    "|17:00:00 | 19:59:59|\n",
    "|20:00:00 | 23:59:59|\n",
    "|00:00:00 | 02:59:59|\n",
    "|03:00:00 | 05:59:59|"
   ]
  },
  {
   "cell_type": "code",
   "execution_count": null,
   "id": "75420aa5-0455-4858-a60d-3a3865b28262",
   "metadata": {},
   "outputs": [],
   "source": [
    "df.plt.figure(figsize=(15,15))\n",
    "df.numbersOfReviewForTime([[\"06:00:00\", \"10:59:59\"],[\"11:00:00\", \"13:59:59\"], [\"14:00:00\",  \"16:59:59\"], [\"17:00:00\", \"19:59:59\"], [\"20:00:00\", \"23:59:59\"], [\"00:00:00\", \"02:59:59\"],[\"03:00:00\", \"05:59:59\"]]);"
   ]
  }
 ],
 "metadata": {
  "kernelspec": {
   "display_name": "Python 3",
   "language": "python",
   "name": "python3"
  },
  "language_info": {
   "codemirror_mode": {
    "name": "ipython",
    "version": 3
   },
   "file_extension": ".py",
   "mimetype": "text/x-python",
   "name": "python",
   "nbconvert_exporter": "python",
   "pygments_lexer": "ipython3",
   "version": "3.8.8"
  }
 },
 "nbformat": 4,
 "nbformat_minor": 5
}
