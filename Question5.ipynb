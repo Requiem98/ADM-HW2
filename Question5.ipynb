{
 "cells": [
  {
   "cell_type": "markdown",
   "id": "29f21ea9-c365-432b-a576-3589ee42bb00",
   "metadata": {},
   "source": [
    "# RQ5"
   ]
  },
  {
   "cell_type": "code",
   "execution_count": 1,
   "id": "6c125839-6982-4b95-af9e-9ab375b69e04",
   "metadata": {},
   "outputs": [],
   "source": [
    "import pandas as pd\n",
    "import numpy as np\n",
    "import matplotlib.pyplot as plt"
   ]
  },
  {
   "cell_type": "code",
   "execution_count": 2,
   "id": "9dabf4ad-a33a-45ec-87fd-6071d3a6f116",
   "metadata": {},
   "outputs": [],
   "source": [
    "def dateparse (time_in_secs):\n",
    "    return pd.to_datetime(time_in_secs,unit='s')"
   ]
  },
  {
   "cell_type": "code",
   "execution_count": 3,
   "id": "0db2370e-5da0-436b-9e0e-a2da5b9d4717",
   "metadata": {},
   "outputs": [],
   "source": [
    "dataset = pd.read_csv('./steam_reviews.csv', header='infer', nrows=20000, parse_dates=['timestamp_created', 'timestamp_updated', 'author.last_played'], date_parser=dateparse)\n"
   ]
  },
  {
   "cell_type": "code",
   "execution_count": 4,
   "id": "67fb76b2-e15f-4048-94d3-a0317748aef7",
   "metadata": {},
   "outputs": [],
   "source": [
    "dataset['author.playtime_forever']=pd.to_timedelta(dataset['author.playtime_forever'], unit='m')"
   ]
  },
  {
   "cell_type": "code",
   "execution_count": 4,
   "id": "6a3339fe-5c6a-494a-8120-d454ed9cc183",
   "metadata": {},
   "outputs": [
    {
     "name": "stdout",
     "output_type": "stream",
     "text": [
      "<class 'pandas.core.frame.DataFrame'>\n",
      "RangeIndex: 20000 entries, 0 to 19999\n",
      "Data columns (total 23 columns):\n",
      " #   Column                          Non-Null Count  Dtype         \n",
      "---  ------                          --------------  -----         \n",
      " 0   Unnamed: 0                      20000 non-null  int64         \n",
      " 1   app_id                          20000 non-null  int64         \n",
      " 2   app_name                        20000 non-null  object        \n",
      " 3   review_id                       20000 non-null  int64         \n",
      " 4   language                        20000 non-null  object        \n",
      " 5   review                          19934 non-null  object        \n",
      " 6   timestamp_created               20000 non-null  datetime64[ns]\n",
      " 7   timestamp_updated               20000 non-null  datetime64[ns]\n",
      " 8   recommended                     20000 non-null  bool          \n",
      " 9   votes_helpful                   20000 non-null  int64         \n",
      " 10  votes_funny                     20000 non-null  int64         \n",
      " 11  weighted_vote_score             20000 non-null  float64       \n",
      " 12  comment_count                   20000 non-null  int64         \n",
      " 13  steam_purchase                  20000 non-null  bool          \n",
      " 14  received_for_free               20000 non-null  bool          \n",
      " 15  written_during_early_access     20000 non-null  bool          \n",
      " 16  author.steamid                  20000 non-null  int64         \n",
      " 17  author.num_games_owned          20000 non-null  int64         \n",
      " 18  author.num_reviews              20000 non-null  int64         \n",
      " 19  author.playtime_forever         20000 non-null  float64       \n",
      " 20  author.playtime_last_two_weeks  20000 non-null  float64       \n",
      " 21  author.playtime_at_review       20000 non-null  float64       \n",
      " 22  author.last_played              20000 non-null  datetime64[ns]\n",
      "dtypes: bool(4), datetime64[ns](3), float64(4), int64(9), object(3)\n",
      "memory usage: 3.0+ MB\n"
     ]
    }
   ],
   "source": [
    "dataset.info()"
   ]
  },
  {
   "cell_type": "code",
   "execution_count": 10,
   "id": "051172ad-550a-4fcb-ae8d-321300b02b25",
   "metadata": {},
   "outputs": [
    {
     "data": {
      "text/html": [
       "<div>\n",
       "<style scoped>\n",
       "    .dataframe tbody tr th:only-of-type {\n",
       "        vertical-align: middle;\n",
       "    }\n",
       "\n",
       "    .dataframe tbody tr th {\n",
       "        vertical-align: top;\n",
       "    }\n",
       "\n",
       "    .dataframe thead th {\n",
       "        text-align: right;\n",
       "    }\n",
       "</style>\n",
       "<table border=\"1\" class=\"dataframe\">\n",
       "  <thead>\n",
       "    <tr style=\"text-align: right;\">\n",
       "      <th></th>\n",
       "      <th>Unnamed: 0</th>\n",
       "      <th>app_id</th>\n",
       "      <th>app_name</th>\n",
       "      <th>review_id</th>\n",
       "      <th>language</th>\n",
       "      <th>review</th>\n",
       "      <th>timestamp_created</th>\n",
       "      <th>timestamp_updated</th>\n",
       "      <th>recommended</th>\n",
       "      <th>votes_helpful</th>\n",
       "      <th>...</th>\n",
       "      <th>steam_purchase</th>\n",
       "      <th>received_for_free</th>\n",
       "      <th>written_during_early_access</th>\n",
       "      <th>author.steamid</th>\n",
       "      <th>author.num_games_owned</th>\n",
       "      <th>author.num_reviews</th>\n",
       "      <th>author.playtime_forever</th>\n",
       "      <th>author.playtime_last_two_weeks</th>\n",
       "      <th>author.playtime_at_review</th>\n",
       "      <th>author.last_played</th>\n",
       "    </tr>\n",
       "  </thead>\n",
       "  <tbody>\n",
       "    <tr>\n",
       "      <th>7320</th>\n",
       "      <td>7320</td>\n",
       "      <td>292030</td>\n",
       "      <td>The Witcher 3: Wild Hunt</td>\n",
       "      <td>83988894</td>\n",
       "      <td>english</td>\n",
       "      <td>- Great stories, setting, monsters, and lore.\\...</td>\n",
       "      <td>2021-01-04 13:44:24</td>\n",
       "      <td>2021-01-04 13:44:24</td>\n",
       "      <td>True</td>\n",
       "      <td>0</td>\n",
       "      <td>...</td>\n",
       "      <td>True</td>\n",
       "      <td>False</td>\n",
       "      <td>False</td>\n",
       "      <td>76561198202529859</td>\n",
       "      <td>1567</td>\n",
       "      <td>2063</td>\n",
       "      <td>282.0</td>\n",
       "      <td>0.0</td>\n",
       "      <td>282.0</td>\n",
       "      <td>2021-01-04 13:43:36</td>\n",
       "    </tr>\n",
       "  </tbody>\n",
       "</table>\n",
       "<p>1 rows × 23 columns</p>\n",
       "</div>"
      ],
      "text/plain": [
       "      Unnamed: 0  app_id                  app_name  review_id language  \\\n",
       "7320        7320  292030  The Witcher 3: Wild Hunt   83988894  english   \n",
       "\n",
       "                                                 review   timestamp_created  \\\n",
       "7320  - Great stories, setting, monsters, and lore.\\... 2021-01-04 13:44:24   \n",
       "\n",
       "       timestamp_updated  recommended  votes_helpful  ...  steam_purchase  \\\n",
       "7320 2021-01-04 13:44:24         True              0  ...            True   \n",
       "\n",
       "      received_for_free  written_during_early_access     author.steamid  \\\n",
       "7320              False                        False  76561198202529859   \n",
       "\n",
       "      author.num_games_owned  author.num_reviews  author.playtime_forever  \\\n",
       "7320                    1567                2063                    282.0   \n",
       "\n",
       "      author.playtime_last_two_weeks  author.playtime_at_review  \\\n",
       "7320                             0.0                      282.0   \n",
       "\n",
       "      author.last_played  \n",
       "7320 2021-01-04 13:43:36  \n",
       "\n",
       "[1 rows x 23 columns]"
      ]
     },
     "execution_count": 10,
     "metadata": {},
     "output_type": "execute_result"
    }
   ],
   "source": [
    "dataset[(dataset[\"author.num_reviews\"] == 2063)]"
   ]
  },
  {
   "cell_type": "markdown",
   "id": "7a991dae-8fb9-4df1-aa52-538aa895c4bb",
   "metadata": {},
   "source": [
    "#### 1 - Plot the top 10 most popular reviewers and the number of reviews."
   ]
  },
  {
   "cell_type": "markdown",
   "id": "8c990ab8-bac1-4b89-a56a-1970372dc1a8",
   "metadata": {},
   "source": [
    "I look at the \"author.num_reviews\" variable to see how many reviews a person has done for a given application. I add up the various values that the variable takes for the various applications to see the total number of reviews that a given person has made. Finally, I group these values by the author's name (or better, by the author's identification code -> \"author.steamid\").\n",
    "\n",
    "I sort in descending order to see which are the most popular authors."
   ]
  },
  {
   "cell_type": "code",
   "execution_count": 20,
   "id": "a523203b-8d42-4cbc-a57c-2b4b6adb650f",
   "metadata": {},
   "outputs": [
    {
     "data": {
      "text/plain": [
       "author.steamid\n",
       "76561198202529859    2063\n",
       "76561198027286434    1162\n",
       "76561197967685936     683\n",
       "76561198093363183     484\n",
       "76561198066952727     385\n",
       "76561197961768818     295\n",
       "76561198022195583     273\n",
       "76561198836059111     265\n",
       "76561197972610127     247\n",
       "76561197969538443     208\n",
       "Name: author.num_reviews, dtype: int64"
      ]
     },
     "execution_count": 20,
     "metadata": {},
     "output_type": "execute_result"
    }
   ],
   "source": [
    "dataset.groupby([\"author.steamid\"])[\"author.num_reviews\"].first().sort_values(ascending=False).head(10)"
   ]
  },
  {
   "cell_type": "code",
   "execution_count": 8,
   "id": "0ef39fec-9a32-4b18-8ec0-671ee2c35bbe",
   "metadata": {},
   "outputs": [],
   "source": [
    "def mostPopularReviewers(n):\n",
    "    return dataset[[\"author.steamid\", \"author.num_reviews\"]].groupby([\"author.steamid\"]).first().sort_values(\"author.num_reviews\",ascending=False).head(n)"
   ]
  },
  {
   "cell_type": "code",
   "execution_count": 56,
   "id": "c2614573-f1e5-452b-b9d8-10822f2c0b58",
   "metadata": {},
   "outputs": [
    {
     "data": {
      "text/plain": [
       "76561198125392509"
      ]
     },
     "execution_count": 56,
     "metadata": {},
     "output_type": "execute_result"
    }
   ],
   "source": [
    "mostPopularReviewers(1).index[0]"
   ]
  },
  {
   "cell_type": "code",
   "execution_count": 71,
   "id": "594e3e9f-eed1-4910-be57-5be6c2a9b729",
   "metadata": {},
   "outputs": [
    {
     "data": {
      "text/plain": [
       "array(['The Witcher 3: Wild Hunt'], dtype=object)"
      ]
     },
     "execution_count": 71,
     "metadata": {},
     "output_type": "execute_result"
    }
   ],
   "source": [
    "dataset[dataset['author.steamid']==mostPopularReviewers(1).index[0]].app_name.unique()"
   ]
  },
  {
   "cell_type": "code",
   "execution_count": 6,
   "id": "36aeb392-0e47-4a83-afdb-0092e780e2a2",
   "metadata": {},
   "outputs": [],
   "source": [
    "def mostPopularReviewers_plot(n):\n",
    "\n",
    "    data = mostPopularReviewers(n)\n",
    "\n",
    "    height = data[\"author.num_reviews\"].array\n",
    "    val = list(map(str,data.index))\n",
    "\n",
    "    my_cmap = plt.get_cmap('Greys')\n",
    "    my_norm = plt.Normalize(vmin=0,vmax=(data[\"author.num_reviews\"].max())*0.2)\n",
    "    \n",
    "    plt.figure(figsize=(30,5))\n",
    "    \n",
    "    plot = plt.bar(val, height, color=my_cmap(my_norm(height)));\n",
    "    plt.xlabel('author.steamid', labelpad=25.0, size=\"xx-large\")\n",
    "    plt.ylabel('Number of reviews', labelpad=25.0, size=\"xx-large\")\n",
    "    plt.title('Reviews by author')\n",
    "    if(n > 10):\n",
    "        plt.xticks(rotation=\"vertical\")\n",
    "        \n",
    "    return plot\n",
    " "
   ]
  },
  {
   "cell_type": "code",
   "execution_count": null,
   "id": "07ad1e3c-d0bc-4d16-876f-135f93ebf117",
   "metadata": {},
   "outputs": [],
   "source": [
    "dataset.groupby([\"author.steamid\"])[\"author.num_reviews\"].sum().sort_values(ascending=False).head(10).plot.bar(figsize=(18,9), xlabel='author.steamid', ylabel='Number of reviews', title='Reviews by author')"
   ]
  },
  {
   "cell_type": "code",
   "execution_count": 60,
   "id": "b749a8c8-8c2a-4cf9-bd05-3774523b4df1",
   "metadata": {},
   "outputs": [
    {
     "data": {
      "image/png": "[encoded data removed]",
      "text/plain": [
       "<Figure size 2160x360 with 1 Axes>"
      ]
     },
     "metadata": {
      "needs_background": "light"
     },
     "output_type": "display_data"
    }
   ],
   "source": [
    "mostPopularReviewers_plot(11);"
   ]
  },
  {
   "cell_type": "markdown",
   "id": "5e387ae6-541f-47c6-ac1f-b83e90532cb5",
   "metadata": {},
   "source": [
    "#### 2 - What applications did the most popular author review?"
   ]
  },
  {
   "cell_type": "markdown",
   "id": "0c6643f0-e57e-43c7-a1a5-47f409447b0f",
   "metadata": {},
   "source": [
    "I consider the identification code of the most popular author and I check which applications he has reviewed."
   ]
  },
  {
   "cell_type": "code",
   "execution_count": 72,
   "id": "35cab56c-162c-439d-878f-691bbf3f32df",
   "metadata": {},
   "outputs": [
    {
     "data": {
      "text/plain": [
       "array(['The Witcher 3: Wild Hunt'], dtype=object)"
      ]
     },
     "execution_count": 72,
     "metadata": {},
     "output_type": "execute_result"
    }
   ],
   "source": [
    "dataset[dataset['author.steamid']==76561198202529859].app_name.unique()"
   ]
  },
  {
   "cell_type": "code",
   "execution_count": 82,
   "id": "44e4e4fd-3f44-4f95-9021-1003f352bcc0",
   "metadata": {},
   "outputs": [
    {
     "name": "stdout",
     "output_type": "stream",
     "text": [
      "<class 'pandas.core.frame.DataFrame'>\n",
      "RangeIndex: 20000 entries, 0 to 19999\n",
      "Data columns (total 23 columns):\n",
      " #   Column                          Non-Null Count  Dtype         \n",
      "---  ------                          --------------  -----         \n",
      " 0   Unnamed: 0                      20000 non-null  int64         \n",
      " 1   app_id                          20000 non-null  int64         \n",
      " 2   app_name                        20000 non-null  object        \n",
      " 3   review_id                       20000 non-null  int64         \n",
      " 4   language                        20000 non-null  object        \n",
      " 5   review                          19934 non-null  object        \n",
      " 6   timestamp_created               20000 non-null  datetime64[ns]\n",
      " 7   timestamp_updated               20000 non-null  datetime64[ns]\n",
      " 8   recommended                     20000 non-null  bool          \n",
      " 9   votes_helpful                   20000 non-null  int64         \n",
      " 10  votes_funny                     20000 non-null  int64         \n",
      " 11  weighted_vote_score             20000 non-null  float64       \n",
      " 12  comment_count                   20000 non-null  int64         \n",
      " 13  steam_purchase                  20000 non-null  bool          \n",
      " 14  received_for_free               20000 non-null  bool          \n",
      " 15  written_during_early_access     20000 non-null  bool          \n",
      " 16  author.steamid                  20000 non-null  int64         \n",
      " 17  author.num_games_owned          20000 non-null  int64         \n",
      " 18  author.num_reviews              20000 non-null  int64         \n",
      " 19  author.playtime_forever         20000 non-null  float64       \n",
      " 20  author.playtime_last_two_weeks  20000 non-null  float64       \n",
      " 21  author.playtime_at_review       20000 non-null  float64       \n",
      " 22  author.last_played              20000 non-null  datetime64[ns]\n",
      "dtypes: bool(4), datetime64[ns](3), float64(4), int64(9), object(3)\n",
      "memory usage: 3.0+ MB\n"
     ]
    }
   ],
   "source": [
    "dataset.info()"
   ]
  },
  {
   "cell_type": "code",
   "execution_count": 174,
   "id": "2d47a1c7-9de1-490d-bda2-e6a555f6278b",
   "metadata": {},
   "outputs": [
    {
     "data": {
      "text/html": [
       "<div>\n",
       "<style scoped>\n",
       "    .dataframe tbody tr th:only-of-type {\n",
       "        vertical-align: middle;\n",
       "    }\n",
       "\n",
       "    .dataframe tbody tr th {\n",
       "        vertical-align: top;\n",
       "    }\n",
       "\n",
       "    .dataframe thead th {\n",
       "        text-align: right;\n",
       "    }\n",
       "</style>\n",
       "<table border=\"1\" class=\"dataframe\">\n",
       "  <thead>\n",
       "    <tr style=\"text-align: right;\">\n",
       "      <th></th>\n",
       "      <th>author.steamid</th>\n",
       "      <th>steam_purchase</th>\n",
       "      <th>received_for_free</th>\n",
       "    </tr>\n",
       "  </thead>\n",
       "  <tbody>\n",
       "    <tr>\n",
       "      <th>0</th>\n",
       "      <td>76561197960265730</td>\n",
       "      <td>0</td>\n",
       "      <td>1</td>\n",
       "    </tr>\n",
       "    <tr>\n",
       "      <th>1</th>\n",
       "      <td>76561197960265890</td>\n",
       "      <td>1</td>\n",
       "      <td>0</td>\n",
       "    </tr>\n",
       "    <tr>\n",
       "      <th>2</th>\n",
       "      <td>76561197960266039</td>\n",
       "      <td>1</td>\n",
       "      <td>0</td>\n",
       "    </tr>\n",
       "    <tr>\n",
       "      <th>3</th>\n",
       "      <td>76561197960266130</td>\n",
       "      <td>0</td>\n",
       "      <td>0</td>\n",
       "    </tr>\n",
       "    <tr>\n",
       "      <th>4</th>\n",
       "      <td>76561197960266309</td>\n",
       "      <td>1</td>\n",
       "      <td>0</td>\n",
       "    </tr>\n",
       "    <tr>\n",
       "      <th>...</th>\n",
       "      <td>...</td>\n",
       "      <td>...</td>\n",
       "      <td>...</td>\n",
       "    </tr>\n",
       "    <tr>\n",
       "      <th>1819571</th>\n",
       "      <td>76561199132738141</td>\n",
       "      <td>1</td>\n",
       "      <td>0</td>\n",
       "    </tr>\n",
       "    <tr>\n",
       "      <th>1819572</th>\n",
       "      <td>76561199132836705</td>\n",
       "      <td>1</td>\n",
       "      <td>0</td>\n",
       "    </tr>\n",
       "    <tr>\n",
       "      <th>1819573</th>\n",
       "      <td>76561199132868139</td>\n",
       "      <td>1</td>\n",
       "      <td>0</td>\n",
       "    </tr>\n",
       "    <tr>\n",
       "      <th>1819574</th>\n",
       "      <td>76561199133025494</td>\n",
       "      <td>1</td>\n",
       "      <td>0</td>\n",
       "    </tr>\n",
       "    <tr>\n",
       "      <th>1819575</th>\n",
       "      <td>76561199133159367</td>\n",
       "      <td>1</td>\n",
       "      <td>0</td>\n",
       "    </tr>\n",
       "  </tbody>\n",
       "</table>\n",
       "<p>1819576 rows × 3 columns</p>\n",
       "</div>"
      ],
      "text/plain": [
       "            author.steamid  steam_purchase  received_for_free\n",
       "0        76561197960265730               0                  1\n",
       "1        76561197960265890               1                  0\n",
       "2        76561197960266039               1                  0\n",
       "3        76561197960266130               0                  0\n",
       "4        76561197960266309               1                  0\n",
       "...                    ...             ...                ...\n",
       "1819571  76561199132738141               1                  0\n",
       "1819572  76561199132836705               1                  0\n",
       "1819573  76561199132868139               1                  0\n",
       "1819574  76561199133025494               1                  0\n",
       "1819575  76561199133159367               1                  0\n",
       "\n",
       "[1819576 rows x 3 columns]"
      ]
     },
     "execution_count": 174,
     "metadata": {},
     "output_type": "execute_result"
    }
   ],
   "source": [
    "dataset[['author.steamid', \"steam_purchase\", \"received_for_free\"]].groupby('author.steamid', as_index=False).sum()"
   ]
  },
  {
   "cell_type": "code",
   "execution_count": 34,
   "id": "b97988e1-3eda-44d2-a600-4225e6ed7510",
   "metadata": {},
   "outputs": [],
   "source": [
    "t = dataset[['author.steamid',\"app_name\", \"timestamp_created\", \"author.num_reviews\",\"steam_purchase\",'received_for_free', \"author.playtime_forever\", \"author.num_games_owned\"]]"
   ]
  },
  {
   "cell_type": "code",
   "execution_count": 61,
   "id": "60953e90-0e04-422f-8c26-1099b3c5426a",
   "metadata": {},
   "outputs": [
    {
     "data": {
      "text/html": [
       "<div>\n",
       "<style scoped>\n",
       "    .dataframe tbody tr th:only-of-type {\n",
       "        vertical-align: middle;\n",
       "    }\n",
       "\n",
       "    .dataframe tbody tr th {\n",
       "        vertical-align: top;\n",
       "    }\n",
       "\n",
       "    .dataframe thead th {\n",
       "        text-align: right;\n",
       "    }\n",
       "</style>\n",
       "<table border=\"1\" class=\"dataframe\">\n",
       "  <thead>\n",
       "    <tr style=\"text-align: right;\">\n",
       "      <th></th>\n",
       "      <th>author.steamid</th>\n",
       "      <th>app_name</th>\n",
       "      <th>timestamp_created</th>\n",
       "      <th>author.num_reviews</th>\n",
       "      <th>steam_purchase</th>\n",
       "      <th>received_for_free</th>\n",
       "      <th>author.playtime_forever</th>\n",
       "      <th>author.num_games_owned</th>\n",
       "    </tr>\n",
       "  </thead>\n",
       "  <tbody>\n",
       "    <tr>\n",
       "      <th>504382</th>\n",
       "      <td>76561198125392509</td>\n",
       "      <td>Half-Life</td>\n",
       "      <td>2018-06-27 00:38:32</td>\n",
       "      <td>5236</td>\n",
       "      <td>False</td>\n",
       "      <td>False</td>\n",
       "      <td>0 days 00:20:00</td>\n",
       "      <td>652</td>\n",
       "    </tr>\n",
       "    <tr>\n",
       "      <th>575674</th>\n",
       "      <td>76561198125392509</td>\n",
       "      <td>Counter-Strike: Source</td>\n",
       "      <td>2018-06-23 07:06:41</td>\n",
       "      <td>5236</td>\n",
       "      <td>False</td>\n",
       "      <td>False</td>\n",
       "      <td>0 days 00:09:00</td>\n",
       "      <td>652</td>\n",
       "    </tr>\n",
       "    <tr>\n",
       "      <th>656318</th>\n",
       "      <td>76561198125392509</td>\n",
       "      <td>Half-Life 2: Episode Two</td>\n",
       "      <td>2018-06-28 22:47:06</td>\n",
       "      <td>5236</td>\n",
       "      <td>False</td>\n",
       "      <td>False</td>\n",
       "      <td>0 days 00:10:00</td>\n",
       "      <td>652</td>\n",
       "    </tr>\n",
       "    <tr>\n",
       "      <th>1258197</th>\n",
       "      <td>76561198125392509</td>\n",
       "      <td>Garry's Mod</td>\n",
       "      <td>2018-03-24 12:25:36</td>\n",
       "      <td>5236</td>\n",
       "      <td>True</td>\n",
       "      <td>False</td>\n",
       "      <td>437 days 03:12:00</td>\n",
       "      <td>652</td>\n",
       "    </tr>\n",
       "  </tbody>\n",
       "</table>\n",
       "</div>"
      ],
      "text/plain": [
       "            author.steamid                  app_name   timestamp_created  \\\n",
       "504382   76561198125392509                 Half-Life 2018-06-27 00:38:32   \n",
       "575674   76561198125392509    Counter-Strike: Source 2018-06-23 07:06:41   \n",
       "656318   76561198125392509  Half-Life 2: Episode Two 2018-06-28 22:47:06   \n",
       "1258197  76561198125392509               Garry's Mod 2018-03-24 12:25:36   \n",
       "\n",
       "         author.num_reviews  steam_purchase  received_for_free  \\\n",
       "504382                 5236           False              False   \n",
       "575674                 5236           False              False   \n",
       "656318                 5236           False              False   \n",
       "1258197                5236            True              False   \n",
       "\n",
       "        author.playtime_forever  author.num_games_owned  \n",
       "504382          0 days 00:20:00                     652  \n",
       "575674          0 days 00:09:00                     652  \n",
       "656318          0 days 00:10:00                     652  \n",
       "1258197       437 days 03:12:00                     652  "
      ]
     },
     "execution_count": 61,
     "metadata": {},
     "output_type": "execute_result"
    }
   ],
   "source": [
    "t[dataset['author.steamid']==76561198125392509]"
   ]
  },
  {
   "cell_type": "markdown",
   "id": "7acdf3a0-d7f7-406d-a89b-372627b6a09f",
   "metadata": {},
   "source": [
    "#### 3 - How many applications did he purchase, and how many did he get as free? Provide the number (count) and the percentage."
   ]
  },
  {
   "cell_type": "code",
   "execution_count": 7,
   "id": "32acc681-2ae5-4e34-bd4e-157f1a12a8c6",
   "metadata": {},
   "outputs": [],
   "source": [
    "def percentageOfReceived():\n",
    "    \n",
    "    freeAndPurchase = dataset[['author.steamid', \"steam_purchase\", \"received_for_free\"]].groupby('author.steamid', as_index=False).sum()\n",
    "    \n",
    "    freeAndPurchase = freeAndPurchase[freeAndPurchase['author.steamid']==mostPopularReviewers(1).index[0]]\n",
    "   \n",
    "    percPurchase = freeAndPurchase[[\"steam_purchase\", \"received_for_free\"]].apply(lambda row: row[\"steam_purchase\"]/(row[\"steam_purchase\"] + row[\"received_for_free\"]), axis=1)\n",
    "    \n",
    "    percFree = freeAndPurchase[[\"steam_purchase\", \"received_for_free\"]].apply(lambda row: row[\"received_for_free\"]/(row[\"steam_purchase\"] + row[\"received_for_free\"]),axis=1)\n",
    "    \n",
    "    final = freeAndPurchase\n",
    "    \n",
    "    final[\"percentage_of_purchase\"] = percPurchase\n",
    "    final[\"percentage_of_free\"] = percFree\n",
    "    \n",
    "    return final"
   ]
  },
  {
   "cell_type": "code",
   "execution_count": null,
   "id": "589bb548-5b79-4a78-9ff2-1d2fbc42fa2a",
   "metadata": {},
   "outputs": [],
   "source": []
  },
  {
   "cell_type": "code",
   "execution_count": 63,
   "id": "018ff4fc-b601-46bc-9d54-49e8a14f4ecb",
   "metadata": {},
   "outputs": [
    {
     "data": {
      "text/html": [
       "<div>\n",
       "<style scoped>\n",
       "    .dataframe tbody tr th:only-of-type {\n",
       "        vertical-align: middle;\n",
       "    }\n",
       "\n",
       "    .dataframe tbody tr th {\n",
       "        vertical-align: top;\n",
       "    }\n",
       "\n",
       "    .dataframe thead th {\n",
       "        text-align: right;\n",
       "    }\n",
       "</style>\n",
       "<table border=\"1\" class=\"dataframe\">\n",
       "  <thead>\n",
       "    <tr style=\"text-align: right;\">\n",
       "      <th></th>\n",
       "      <th>author.steamid</th>\n",
       "      <th>steam_purchase</th>\n",
       "      <th>received_for_free</th>\n",
       "      <th>percentage_of_purchase</th>\n",
       "      <th>percentage_of_free</th>\n",
       "    </tr>\n",
       "  </thead>\n",
       "  <tbody>\n",
       "    <tr>\n",
       "      <th>699542</th>\n",
       "      <td>76561198125392509</td>\n",
       "      <td>1</td>\n",
       "      <td>0</td>\n",
       "      <td>1.0</td>\n",
       "      <td>0.0</td>\n",
       "    </tr>\n",
       "  </tbody>\n",
       "</table>\n",
       "</div>"
      ],
      "text/plain": [
       "           author.steamid  steam_purchase  received_for_free  \\\n",
       "699542  76561198125392509               1                  0   \n",
       "\n",
       "        percentage_of_purchase  percentage_of_free  \n",
       "699542                     1.0                 0.0  "
      ]
     },
     "execution_count": 63,
     "metadata": {},
     "output_type": "execute_result"
    }
   ],
   "source": [
    "percentageOfReceived()"
   ]
  },
  {
   "cell_type": "markdown",
   "id": "d27026ec-033f-4d40-8b2c-e31204ddb970",
   "metadata": {},
   "source": [
    "I check among the apps he reviewed which ones he bought on steam and which ones he didn't buy on steam and how many are these apps."
   ]
  },
  {
   "cell_type": "code",
   "execution_count": 8,
   "id": "7d5750d7-a0a5-4366-bcca-7e1d9373385b",
   "metadata": {},
   "outputs": [
    {
     "data": {
      "text/plain": [
       "array([], dtype=object)"
      ]
     },
     "execution_count": 8,
     "metadata": {},
     "output_type": "execute_result"
    }
   ],
   "source": [
    "dataset[(dataset['author.steamid']==76561197974092119) & (dataset['steam_purchase']==True)].app_name.unique()"
   ]
  },
  {
   "cell_type": "code",
   "execution_count": 10,
   "id": "ef26d547-c87b-4c71-8ee8-a5fef3857303",
   "metadata": {},
   "outputs": [
    {
     "data": {
      "text/plain": [
       "array(['The Witcher 3: Wild Hunt', 'Half-Life', 'Counter-Strike: Source',\n",
       "       'Half-Life 2: Episode Two', 'Portal 2', \"Garry's Mod\",\n",
       "       \"Sid Meier's Civilization V\"], dtype=object)"
      ]
     },
     "execution_count": 10,
     "metadata": {},
     "output_type": "execute_result"
    }
   ],
   "source": [
    "dataset[(dataset['author.steamid']==76561197974092119) & (dataset['steam_purchase']==False)].app_name.unique()"
   ]
  },
  {
   "cell_type": "code",
   "execution_count": 11,
   "id": "60ea276b-3139-4a53-ad0e-f8012f877542",
   "metadata": {},
   "outputs": [
    {
     "data": {
      "text/plain": [
       "7"
      ]
     },
     "execution_count": 11,
     "metadata": {},
     "output_type": "execute_result"
    }
   ],
   "source": [
    "dataset[(dataset['author.steamid']==76561197974092119) & (dataset['steam_purchase']==False)].app_name.nunique()"
   ]
  },
  {
   "cell_type": "markdown",
   "id": "a1a3987b-53b4-43ba-b9cb-336ed14bb047",
   "metadata": {},
   "source": [
    "I see that this person hasn't bought any apps on steam."
   ]
  },
  {
   "cell_type": "markdown",
   "id": "ab11d0be-582b-4a76-8a16-bf28d8fc0c57",
   "metadata": {},
   "source": [
    "I check how many apps the author has received for free and how many are these apps."
   ]
  },
  {
   "cell_type": "code",
   "execution_count": 12,
   "id": "a5e89068-4796-46c3-b5a3-6437478c624c",
   "metadata": {},
   "outputs": [
    {
     "data": {
      "text/plain": [
       "array(['Half-Life 2: Episode Two', 'Portal 2'], dtype=object)"
      ]
     },
     "execution_count": 12,
     "metadata": {},
     "output_type": "execute_result"
    }
   ],
   "source": [
    "dataset[(dataset['author.steamid']==76561197974092119) & (dataset['received_for_free']==True)].app_name.unique()"
   ]
  },
  {
   "cell_type": "code",
   "execution_count": 13,
   "id": "bedd6024-714d-4978-a4f8-c94fde8958ea",
   "metadata": {},
   "outputs": [
    {
     "data": {
      "text/plain": [
       "2"
      ]
     },
     "execution_count": 13,
     "metadata": {},
     "output_type": "execute_result"
    }
   ],
   "source": [
    "dataset[(dataset['author.steamid']==76561197974092119) & (dataset['received_for_free']==True)].app_name.nunique()"
   ]
  },
  {
   "cell_type": "markdown",
   "id": "782ece86-f54d-4483-8dde-0d0149018699",
   "metadata": {},
   "source": [
    "I calculate the percentage of apps received for free."
   ]
  },
  {
   "cell_type": "code",
   "execution_count": 14,
   "id": "3d96ffb0-d92a-4921-b7aa-1fe0b2309671",
   "metadata": {},
   "outputs": [
    {
     "data": {
      "text/plain": [
       "28.57142857142857"
      ]
     },
     "execution_count": 14,
     "metadata": {},
     "output_type": "execute_result"
    }
   ],
   "source": [
    "ds1=dataset[dataset['author.steamid']==76561197974092119].app_name.nunique()\n",
    "ds2=dataset[(dataset['author.steamid']==76561197974092119) & (dataset['received_for_free']==True)].app_name.nunique()\n",
    "perc1=ds2/ds1*100\n",
    "perc1"
   ]
  },
  {
   "cell_type": "markdown",
   "id": "0eeb1b98-d2c9-4512-8ec3-5eeca85fc336",
   "metadata": {},
   "source": [
    "I check how many apps the author has not received for free and how many are these apps."
   ]
  },
  {
   "cell_type": "code",
   "execution_count": 15,
   "id": "9e254baa-679f-421f-929c-50e6dc6c2613",
   "metadata": {},
   "outputs": [
    {
     "data": {
      "text/plain": [
       "array(['The Witcher 3: Wild Hunt', 'Half-Life', 'Counter-Strike: Source',\n",
       "       \"Garry's Mod\", \"Sid Meier's Civilization V\"], dtype=object)"
      ]
     },
     "execution_count": 15,
     "metadata": {},
     "output_type": "execute_result"
    }
   ],
   "source": [
    "dataset[(dataset['author.steamid']==76561197974092119) & (dataset['received_for_free']==False)].app_name.unique()"
   ]
  },
  {
   "cell_type": "code",
   "execution_count": 15,
   "id": "da3490ce-9100-4b01-bff8-0358c0eed1c3",
   "metadata": {},
   "outputs": [
    {
     "data": {
      "text/plain": [
       "5"
      ]
     },
     "execution_count": 15,
     "metadata": {},
     "output_type": "execute_result"
    }
   ],
   "source": [
    "dataset[(dataset['author.steamid']==76561197974092119) & (dataset['received_for_free']==False)].app_name.nunique()"
   ]
  },
  {
   "cell_type": "markdown",
   "id": "3bd36db8-4c6a-4be1-a6ab-224ce9a5d804",
   "metadata": {},
   "source": [
    "I calculate the percentage of apps not received for free."
   ]
  },
  {
   "cell_type": "code",
   "execution_count": 16,
   "id": "77bd1080-950b-4918-9496-20288770508d",
   "metadata": {},
   "outputs": [
    {
     "data": {
      "text/plain": [
       "71.42857142857143"
      ]
     },
     "execution_count": 16,
     "metadata": {},
     "output_type": "execute_result"
    }
   ],
   "source": [
    "ds3=dataset[(dataset['author.steamid']==76561197974092119) & (dataset['received_for_free']==False)].app_name.nunique()\n",
    "perc2=ds3/ds1*100\n",
    "perc2"
   ]
  },
  {
   "cell_type": "markdown",
   "id": "a8a85cfb-e97c-4238-a35a-a7d9fb50ed03",
   "metadata": {},
   "source": [
    "#### 4 - How many of the applications he purchased reviewed positively, and how many negatively? How about the applications he received for free?"
   ]
  },
  {
   "cell_type": "markdown",
   "id": "f8cdf93c-07ce-4bc4-9e96-3f272a917b43",
   "metadata": {},
   "source": [
    "I check among the apps that he has reviewed and received for free which apps he recommended and which he did not recommend."
   ]
  },
  {
   "cell_type": "code",
   "execution_count": 17,
   "id": "4a54297c-b70a-40d9-92b2-dc703c557602",
   "metadata": {},
   "outputs": [
    {
     "data": {
      "text/plain": [
       "array(['Half-Life 2: Episode Two', 'Portal 2'], dtype=object)"
      ]
     },
     "execution_count": 17,
     "metadata": {},
     "output_type": "execute_result"
    }
   ],
   "source": [
    "dataset[(dataset['author.steamid']==76561197974092119) & (dataset['received_for_free']==True) & (dataset['recommended']==True)].app_name.unique()"
   ]
  },
  {
   "cell_type": "code",
   "execution_count": 18,
   "id": "2c156756-2216-4f0d-8c63-4148c5ac7e56",
   "metadata": {},
   "outputs": [
    {
     "data": {
      "text/plain": [
       "array([], dtype=object)"
      ]
     },
     "execution_count": 18,
     "metadata": {},
     "output_type": "execute_result"
    }
   ],
   "source": [
    "dataset[(dataset['author.steamid']==76561197974092119) & (dataset['received_for_free']==True) & (dataset['recommended']==False)].app_name.unique()"
   ]
  },
  {
   "cell_type": "markdown",
   "id": "9458a83c-2479-41b5-b150-06321dab5411",
   "metadata": {},
   "source": [
    "I check among the apps that he has reviewed and he has not received for free which apps he has recommended and which he has not recommended"
   ]
  },
  {
   "cell_type": "code",
   "execution_count": 19,
   "id": "218e496d-b45a-4c96-abec-597f0348e223",
   "metadata": {},
   "outputs": [
    {
     "data": {
      "text/plain": [
       "array(['The Witcher 3: Wild Hunt', 'Half-Life', 'Counter-Strike: Source',\n",
       "       \"Garry's Mod\", \"Sid Meier's Civilization V\"], dtype=object)"
      ]
     },
     "execution_count": 19,
     "metadata": {},
     "output_type": "execute_result"
    }
   ],
   "source": [
    "dataset[(dataset['author.steamid']==76561197974092119) & (dataset['received_for_free']==False) & (dataset['recommended']==True)].app_name.unique()"
   ]
  },
  {
   "cell_type": "code",
   "execution_count": 20,
   "id": "35668e70-f029-4eef-975a-9b5e7ccdabb7",
   "metadata": {},
   "outputs": [
    {
     "data": {
      "text/plain": [
       "array([], dtype=object)"
      ]
     },
     "execution_count": 20,
     "metadata": {},
     "output_type": "execute_result"
    }
   ],
   "source": [
    "dataset[(dataset['author.steamid']==76561197974092119) & (dataset['received_for_free']==False) & (dataset['recommended']==False)].app_name.unique()"
   ]
  },
  {
   "cell_type": "code",
   "execution_count": null,
   "id": "5c5bd977-c894-46bb-b40f-bb97d62de3ae",
   "metadata": {},
   "outputs": [],
   "source": []
  },
  {
   "cell_type": "code",
   "execution_count": null,
   "id": "c9e4d68d-999d-4e5f-9122-b677e61e1bde",
   "metadata": {},
   "outputs": [],
   "source": []
  },
  {
   "cell_type": "code",
   "execution_count": 65,
   "id": "5e9f1f7c-10a0-45b6-b317-d02b0f29e71f",
   "metadata": {},
   "outputs": [],
   "source": [
    "def reviewedApplicationFromTheMostPopularReviewer():\n",
    "    return dataset[dataset['author.steamid']==mostPopularReviewers(1).index[0]].app_name"
   ]
  },
  {
   "cell_type": "code",
   "execution_count": 68,
   "id": "0456fc45-ca43-4bcd-b3c5-21fb1ec8b707",
   "metadata": {},
   "outputs": [],
   "source": [
    "t = reviewedApplicationFromTheMostPopularReviewer()"
   ]
  },
  {
   "cell_type": "code",
   "execution_count": 5,
   "id": "3a0b6b05-6509-4311-a006-3a3f1e6dd786",
   "metadata": {},
   "outputs": [],
   "source": [
    "h = dataset[['author.steamid', \"recommended\", \"steam_purchase\", \"received_for_free\"]]"
   ]
  },
  {
   "cell_type": "code",
   "execution_count": 9,
   "id": "66a8c610-1bca-49df-abac-c4971b8e536f",
   "metadata": {},
   "outputs": [],
   "source": [
    "h = h[h['author.steamid']==mostPopularReviewers(1).index[0]]"
   ]
  },
  {
   "cell_type": "code",
   "execution_count": 10,
   "id": "bfa6d360-ae9a-40ba-9ced-4990a88c58c1",
   "metadata": {},
   "outputs": [
    {
     "data": {
      "text/html": [
       "<div>\n",
       "<style scoped>\n",
       "    .dataframe tbody tr th:only-of-type {\n",
       "        vertical-align: middle;\n",
       "    }\n",
       "\n",
       "    .dataframe tbody tr th {\n",
       "        vertical-align: top;\n",
       "    }\n",
       "\n",
       "    .dataframe thead th {\n",
       "        text-align: right;\n",
       "    }\n",
       "</style>\n",
       "<table border=\"1\" class=\"dataframe\">\n",
       "  <thead>\n",
       "    <tr style=\"text-align: right;\">\n",
       "      <th></th>\n",
       "      <th>author.steamid</th>\n",
       "      <th>recommended</th>\n",
       "      <th>steam_purchase</th>\n",
       "      <th>received_for_free</th>\n",
       "    </tr>\n",
       "  </thead>\n",
       "  <tbody>\n",
       "    <tr>\n",
       "      <th>504382</th>\n",
       "      <td>76561198125392509</td>\n",
       "      <td>True</td>\n",
       "      <td>False</td>\n",
       "      <td>False</td>\n",
       "    </tr>\n",
       "    <tr>\n",
       "      <th>575674</th>\n",
       "      <td>76561198125392509</td>\n",
       "      <td>True</td>\n",
       "      <td>False</td>\n",
       "      <td>False</td>\n",
       "    </tr>\n",
       "    <tr>\n",
       "      <th>656318</th>\n",
       "      <td>76561198125392509</td>\n",
       "      <td>True</td>\n",
       "      <td>False</td>\n",
       "      <td>False</td>\n",
       "    </tr>\n",
       "    <tr>\n",
       "      <th>1258197</th>\n",
       "      <td>76561198125392509</td>\n",
       "      <td>True</td>\n",
       "      <td>True</td>\n",
       "      <td>False</td>\n",
       "    </tr>\n",
       "  </tbody>\n",
       "</table>\n",
       "</div>"
      ],
      "text/plain": [
       "            author.steamid  recommended  steam_purchase  received_for_free\n",
       "504382   76561198125392509         True           False              False\n",
       "575674   76561198125392509         True           False              False\n",
       "656318   76561198125392509         True           False              False\n",
       "1258197  76561198125392509         True            True              False"
      ]
     },
     "execution_count": 10,
     "metadata": {},
     "output_type": "execute_result"
    }
   ],
   "source": [
    "h"
   ]
  },
  {
   "cell_type": "code",
   "execution_count": 133,
   "id": "af9bda23-514c-43fb-878e-3bfaf8c74993",
   "metadata": {},
   "outputs": [],
   "source": []
  },
  {
   "cell_type": "code",
   "execution_count": 134,
   "id": "59fac8a1-ddbe-49e9-b211-6cb7ddb27ea5",
   "metadata": {},
   "outputs": [],
   "source": []
  },
  {
   "cell_type": "code",
   "execution_count": 156,
   "id": "0acb3b32-1ae6-4e6c-8cf0-ae43b5a4db31",
   "metadata": {},
   "outputs": [
    {
     "data": {
      "text/html": [
       "<div>\n",
       "<style scoped>\n",
       "    .dataframe tbody tr th:only-of-type {\n",
       "        vertical-align: middle;\n",
       "    }\n",
       "\n",
       "    .dataframe tbody tr th {\n",
       "        vertical-align: top;\n",
       "    }\n",
       "\n",
       "    .dataframe thead th {\n",
       "        text-align: right;\n",
       "    }\n",
       "</style>\n",
       "<table border=\"1\" class=\"dataframe\">\n",
       "  <thead>\n",
       "    <tr style=\"text-align: right;\">\n",
       "      <th></th>\n",
       "      <th>author.steamid</th>\n",
       "      <th>app_name</th>\n",
       "      <th>recommended</th>\n",
       "      <th>steam_purchase</th>\n",
       "      <th>received_for_free</th>\n",
       "    </tr>\n",
       "  </thead>\n",
       "  <tbody>\n",
       "    <tr>\n",
       "      <th>504382</th>\n",
       "      <td>76561198125392509</td>\n",
       "      <td>Half-Life</td>\n",
       "      <td>True</td>\n",
       "      <td>False</td>\n",
       "      <td>False</td>\n",
       "    </tr>\n",
       "    <tr>\n",
       "      <th>575674</th>\n",
       "      <td>76561198125392509</td>\n",
       "      <td>Counter-Strike: Source</td>\n",
       "      <td>True</td>\n",
       "      <td>False</td>\n",
       "      <td>False</td>\n",
       "    </tr>\n",
       "    <tr>\n",
       "      <th>656318</th>\n",
       "      <td>76561198125392509</td>\n",
       "      <td>Half-Life 2: Episode Two</td>\n",
       "      <td>True</td>\n",
       "      <td>False</td>\n",
       "      <td>False</td>\n",
       "    </tr>\n",
       "    <tr>\n",
       "      <th>1258197</th>\n",
       "      <td>76561198125392509</td>\n",
       "      <td>Garry's Mod</td>\n",
       "      <td>True</td>\n",
       "      <td>True</td>\n",
       "      <td>False</td>\n",
       "    </tr>\n",
       "  </tbody>\n",
       "</table>\n",
       "</div>"
      ],
      "text/plain": [
       "            author.steamid                  app_name  recommended  \\\n",
       "504382   76561198125392509                 Half-Life         True   \n",
       "575674   76561198125392509    Counter-Strike: Source         True   \n",
       "656318   76561198125392509  Half-Life 2: Episode Two         True   \n",
       "1258197  76561198125392509               Garry's Mod         True   \n",
       "\n",
       "         steam_purchase  received_for_free  \n",
       "504382            False              False  \n",
       "575674            False              False  \n",
       "656318            False              False  \n",
       "1258197            True              False  "
      ]
     },
     "execution_count": 156,
     "metadata": {},
     "output_type": "execute_result"
    }
   ],
   "source": []
  },
  {
   "cell_type": "code",
   "execution_count": 10,
   "id": "26f37752-067f-4f83-926e-dcfbec709796",
   "metadata": {},
   "outputs": [
    {
     "data": {
      "text/html": [
       "<div>\n",
       "<style scoped>\n",
       "    .dataframe tbody tr th:only-of-type {\n",
       "        vertical-align: middle;\n",
       "    }\n",
       "\n",
       "    .dataframe tbody tr th {\n",
       "        vertical-align: top;\n",
       "    }\n",
       "\n",
       "    .dataframe thead th {\n",
       "        text-align: right;\n",
       "    }\n",
       "</style>\n",
       "<table border=\"1\" class=\"dataframe\">\n",
       "  <thead>\n",
       "    <tr style=\"text-align: right;\">\n",
       "      <th></th>\n",
       "      <th>recommended</th>\n",
       "      <th>steam_purchase</th>\n",
       "      <th>received_for_free</th>\n",
       "    </tr>\n",
       "  </thead>\n",
       "  <tbody>\n",
       "    <tr>\n",
       "      <th>0</th>\n",
       "      <td>True</td>\n",
       "      <td>1</td>\n",
       "      <td>0</td>\n",
       "    </tr>\n",
       "  </tbody>\n",
       "</table>\n",
       "</div>"
      ],
      "text/plain": [
       "   recommended  steam_purchase  received_for_free\n",
       "0         True               1                  0"
      ]
     },
     "execution_count": 10,
     "metadata": {},
     "output_type": "execute_result"
    }
   ],
   "source": [
    "h.groupby(\"recommended\", as_index=False).sum(numeric_only=True).drop([\"author.steamid\"], axis=1)"
   ]
  },
  {
   "cell_type": "code",
   "execution_count": null,
   "id": "6fa87d03-86a9-489e-b716-5b152702540b",
   "metadata": {},
   "outputs": [],
   "source": []
  },
  {
   "cell_type": "code",
   "execution_count": null,
   "id": "2a95f989-0c6a-45ef-8b31-967c37c1f2d1",
   "metadata": {},
   "outputs": [],
   "source": []
  }
 ],
 "metadata": {
  "kernelspec": {
   "display_name": "Python 3",
   "language": "python",
   "name": "python3"
  },
  "language_info": {
   "codemirror_mode": {
    "name": "ipython",
    "version": 3
   },
   "file_extension": ".py",
   "mimetype": "text/x-python",
   "name": "python",
   "nbconvert_exporter": "python",
   "pygments_lexer": "ipython3",
   "version": "3.8.8"
  }
 },
 "nbformat": 4,
 "nbformat_minor": 5
}
