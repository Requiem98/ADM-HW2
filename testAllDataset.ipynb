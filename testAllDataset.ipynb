{
 "cells": [
  {
   "cell_type": "markdown",
   "id": "19bdfa41-4ab8-4dd9-8d97-a797e73fd5bf",
   "metadata": {},
   "source": [
    "# CARICO IL DATASET"
   ]
  },
  {
   "cell_type": "code",
   "execution_count": null,
   "id": "d0561193-990f-469a-90c0-2eca3a28aeec",
   "metadata": {},
   "outputs": [],
   "source": [
    "import DS_functions as df"
   ]
  },
  {
   "cell_type": "code",
   "execution_count": null,
   "id": "29aba3b9-3f96-4a89-b78a-f8010d5a3ebc",
   "metadata": {},
   "outputs": [],
   "source": [
    "df.steam.head()"
   ]
  },
  {
   "cell_type": "markdown",
   "id": "6c51081b-c18e-43ba-8cd2-bc23bd615f8e",
   "metadata": {},
   "source": [
    "# RQ3 test"
   ]
  },
  {
   "cell_type": "markdown",
   "id": "494bdeda-d09f-484a-8b75-6bdb80559c8a",
   "metadata": {},
   "source": [
    "*Now it's important to understand the preferred time to do reviews.*\n",
    "   - What is the most common time that authors review an application? For example, authors usually write a review at 17:44.\n"
   ]
  },
  {
   "cell_type": "code",
   "execution_count": null,
   "id": "a414c2c7-70dc-4de2-bb68-a4a609e03dc3",
   "metadata": {},
   "outputs": [],
   "source": [
    "df.numbersOfReviewByTime(df.datetime_range(0,23,15));\n",
    "df.numbersOfReviewByTime(df.datetime_range(0,23,60));"
   ]
  },
  {
   "cell_type": "markdown",
   "id": "3cf85e7a-046c-4bce-b605-bd72cea3f21f",
   "metadata": {},
   "source": [
    "   - Create a function that receives as a parameter a list of time intervals and returns the plot the number of reviews for each of the intervals.\n"
   ]
  },
  {
   "cell_type": "code",
   "execution_count": null,
   "id": "9346862c-2bba-460c-9b79-c5d6ca4ecc95",
   "metadata": {},
   "outputs": [],
   "source": [
    "df.numbersOfReviewByTime([[\"8:00\", \"10:00\"],[\"13:00\", \"18:00\"]]);"
   ]
  },
  {
   "cell_type": "markdown",
   "id": "cb8f4969-7ed6-4b92-91ac-3246d0618318",
   "metadata": {},
   "source": [
    "    - Use the function that you created in the previous literal to plot the number of reviews between the following time intervals: \n",
    "    \n",
    "| Initial time | Final time |\n",
    "| ----------- | ----------- |\n",
    "|06:00:00 | 10:59:59|\n",
    "|11:00:00 | 13:59:59|\n",
    "|14:00:00 | 16:59:59|\n",
    "|17:00:00 | 19:59:59|\n",
    "|20:00:00 | 23:59:59|\n",
    "|00:00:00 | 02:59:59|\n",
    "|03:00:00 | 05:59:59|"
   ]
  },
  {
   "cell_type": "code",
   "execution_count": null,
   "id": "75420aa5-0455-4858-a60d-3a3865b28262",
   "metadata": {},
   "outputs": [],
   "source": [
    "df.plt.figure(figsize=(15,15))\n",
    "df.numbersOfReviewByTime([[\"06:00:00\", \"10:59:59\"],[\"11:00:00\", \"13:59:59\"], [\"14:00:00\",  \"16:59:59\"], [\"17:00:00\", \"19:59:59\"], [\"20:00:00\", \"23:59:59\"], [\"00:00:00\", \"02:59:59\"],[\"03:00:00\", \"05:59:59\"]]);"
   ]
  },
  {
   "cell_type": "markdown",
   "id": "cc6d38cf-3709-42de-99cb-f0f090c27811",
   "metadata": {},
   "source": [
    "# RQ6 test\n",
    "   - What is the average time (days and minutes) a user lets pass before he updates a review?\n"
   ]
  },
  {
   "cell_type": "code",
   "execution_count": null,
   "id": "2059d528-2430-4460-86f4-998b704ff750",
   "metadata": {},
   "outputs": [],
   "source": [
    "t = df.timedelta_updated_created()"
   ]
  },
  {
   "cell_type": "code",
   "execution_count": null,
   "id": "a70708ab-7c82-4f1d-a67b-5b5059e34adc",
   "metadata": {},
   "outputs": [],
   "source": [
    "t.describe()"
   ]
  },
  {
   "cell_type": "markdown",
   "id": "e63d580e-34f9-4461-8c13-bf7d34f6dcf6",
   "metadata": {},
   "source": [
    "### NOTA\n",
    "\n",
    "  - C'è un solo valore negativo: created < update ????"
   ]
  },
  {
   "cell_type": "code",
   "execution_count": null,
   "id": "f4c5c695-5967-4f90-b882-3459142e717c",
   "metadata": {},
   "outputs": [],
   "source": [
    "t.sort_values()"
   ]
  },
  {
   "cell_type": "markdown",
   "id": "6bb674c2-325b-4584-aa35-05064e8bbacd",
   "metadata": {},
   "source": [
    "   - Plot the top 3 authors that usually update their reviews.\n",
    "   \n",
    "Top 3 utenti con più recensioni aggiornate (Questa lista non prende in considerazione il numero totale di recensioni per utente: un utente con più recensioni si troverà probabilmente più in alto in classifica)"
   ]
  },
  {
   "cell_type": "code",
   "execution_count": null,
   "id": "8d87721e-ae38-4aaf-8548-7ddc133699af",
   "metadata": {},
   "outputs": [],
   "source": [
    "df.plotBestAuthor_updater(5)"
   ]
  },
  {
   "cell_type": "markdown",
   "id": "e97c7dd4-eefa-4915-b110-fedd07895166",
   "metadata": {},
   "source": [
    "Top 3 utenti con più recensioni aggiornate (Questa lista prende in considerazione il numero totale di recensioni e il numero di recensioni aggiornate)"
   ]
  },
  {
   "cell_type": "code",
   "execution_count": null,
   "id": "ebf5907b-4a3a-4947-914a-031582b984f8",
   "metadata": {},
   "outputs": [],
   "source": [
    "df.numberOfUpdateAndNonUpdateByAuthor(3)"
   ]
  },
  {
   "cell_type": "markdown",
   "id": "6a544820-5f74-479a-aca6-9ac7643adf3b",
   "metadata": {},
   "source": [
    "# RQ2 test"
   ]
  },
  {
   "cell_type": "code",
   "execution_count": null,
   "id": "89fbf2c6-6476-4b1c-868d-6f5397d4d866",
   "metadata": {},
   "outputs": [],
   "source": [
    "df.numbersOfReviewsByApplication(15)"
   ]
  },
  {
   "cell_type": "code",
   "execution_count": null,
   "id": "1acaf19a-9739-4c40-99c6-2ce0d77669ea",
   "metadata": {},
   "outputs": [],
   "source": [
    "df.scoreOfApps(20)"
   ]
  },
  {
   "cell_type": "code",
   "execution_count": null,
   "id": "abe0bbc7-40aa-41d4-97a2-5c73bba9de38",
   "metadata": {},
   "outputs": [],
   "source": [
    "df.raccomendedApp_purchase_free(5, 3)"
   ]
  },
  {
   "cell_type": "markdown",
   "id": "f3ceec23-e07c-43ca-806b-cc513300571f",
   "metadata": {},
   "source": [
    "# RQ7 test"
   ]
  },
  {
   "cell_type": "code",
   "execution_count": null,
   "id": "e6b785fc-e7f0-4873-a9ee-b639b49e3e55",
   "metadata": {},
   "outputs": [],
   "source": [
    "df.probabilityQuestion1()"
   ]
  },
  {
   "cell_type": "code",
   "execution_count": null,
   "id": "2ff7183d-f498-428c-b758-d73ef12d8e96",
   "metadata": {},
   "outputs": [],
   "source": [
    "df.probabilityQuestion2()"
   ]
  },
  {
   "cell_type": "code",
   "execution_count": null,
   "id": "59113391-4923-46a5-b4ef-046cfe65f1e2",
   "metadata": {},
   "outputs": [],
   "source": [
    "df.probabilityQuestion3()"
   ]
  }
 ],
 "metadata": {
  "kernelspec": {
   "display_name": "Python 3",
   "language": "python",
   "name": "python3"
  },
  "language_info": {
   "codemirror_mode": {
    "name": "ipython",
    "version": 3
   },
   "file_extension": ".py",
   "mimetype": "text/x-python",
   "name": "python",
   "nbconvert_exporter": "python",
   "pygments_lexer": "ipython3",
   "version": "3.8.8"
  }
 },
 "nbformat": 4,
 "nbformat_minor": 5
}
