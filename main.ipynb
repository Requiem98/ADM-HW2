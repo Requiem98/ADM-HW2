{
 "cells": [
  {
   "cell_type": "markdown",
   "id": "38ff6d46-6134-484e-b3c2-1f1e7e13becd",
   "metadata": {},
   "source": [
    "# Importo le librerie necessarie"
   ]
  },
  {
   "cell_type": "code",
   "execution_count": 1,
   "id": "fdf9f519-278f-43bb-9d2f-9b14233efd15",
   "metadata": {},
   "outputs": [],
   "source": [
    "import DS_functions as df\n",
    "from DS_functions import steam as steam"
   ]
  },
  {
   "cell_type": "markdown",
   "id": "95197044-cff7-4fb6-9356-9966451222f1",
   "metadata": {},
   "source": [
    "# INTRODUCTION\n",
    "\n",
    "\n",
    " - RICORDARSI DI LEVARE RIGA TIMEDELTA NEGATIVA  <- COMMENTO SU QUESTA COSA\n",
    "\n",
    "\n",
    " - da dove è stato preso il database\n",
    "\n",
    " - di cosa parla il database\n",
    "\n",
    " - il nostro obiettivo\n",
    "\n",
    "\n"
   ]
  },
  {
   "cell_type": "markdown",
   "id": "bff4f486-3be6-4b5e-aed2-c0a250ee6449",
   "metadata": {},
   "source": [
    "# [**RQ1**] Exploratory Data Analysis (EDA)"
   ]
  },
  {
   "cell_type": "markdown",
   "id": "f0204257-d096-4540-a234-87c91a6c777d",
   "metadata": {},
   "source": [
    "spiegazione\n"
   ]
  },
  {
   "cell_type": "code",
   "execution_count": 2,
   "id": "3f6be8ed-4ead-4c6c-a517-33cb849e9e8b",
   "metadata": {},
   "outputs": [
    {
     "data": {
      "text/html": [
       "<div>\n",
       "<style scoped>\n",
       "    .dataframe tbody tr th:only-of-type {\n",
       "        vertical-align: middle;\n",
       "    }\n",
       "\n",
       "    .dataframe tbody tr th {\n",
       "        vertical-align: top;\n",
       "    }\n",
       "\n",
       "    .dataframe thead th {\n",
       "        text-align: right;\n",
       "    }\n",
       "</style>\n",
       "<table border=\"1\" class=\"dataframe\">\n",
       "  <thead>\n",
       "    <tr style=\"text-align: right;\">\n",
       "      <th></th>\n",
       "      <th>app_id</th>\n",
       "      <th>app_name</th>\n",
       "      <th>review_id</th>\n",
       "      <th>language</th>\n",
       "      <th>review</th>\n",
       "      <th>timestamp_created</th>\n",
       "      <th>timestamp_updated</th>\n",
       "      <th>recommended</th>\n",
       "      <th>votes_helpful</th>\n",
       "      <th>votes_funny</th>\n",
       "      <th>...</th>\n",
       "      <th>steam_purchase</th>\n",
       "      <th>received_for_free</th>\n",
       "      <th>written_during_early_access</th>\n",
       "      <th>author.steamid</th>\n",
       "      <th>author.num_games_owned</th>\n",
       "      <th>author.num_reviews</th>\n",
       "      <th>author.playtime_forever</th>\n",
       "      <th>author.playtime_last_two_weeks</th>\n",
       "      <th>author.playtime_at_review</th>\n",
       "      <th>author.last_played</th>\n",
       "    </tr>\n",
       "  </thead>\n",
       "  <tbody>\n",
       "    <tr>\n",
       "      <th>0</th>\n",
       "      <td>292030</td>\n",
       "      <td>The Witcher 3: Wild Hunt</td>\n",
       "      <td>85185598</td>\n",
       "      <td>schinese</td>\n",
       "      <td>不玩此生遗憾，RPG游戏里的天花板，太吸引人了</td>\n",
       "      <td>2021-01-23 06:00:29</td>\n",
       "      <td>2021-01-23 06:00:29</td>\n",
       "      <td>True</td>\n",
       "      <td>0</td>\n",
       "      <td>0</td>\n",
       "      <td>...</td>\n",
       "      <td>True</td>\n",
       "      <td>False</td>\n",
       "      <td>False</td>\n",
       "      <td>76561199095369542</td>\n",
       "      <td>6</td>\n",
       "      <td>2</td>\n",
       "      <td>1 days 07:49:00</td>\n",
       "      <td>1 days 00:08:00</td>\n",
       "      <td>1 days 07:49:00</td>\n",
       "      <td>2021-01-22 19:23:03</td>\n",
       "    </tr>\n",
       "    <tr>\n",
       "      <th>1</th>\n",
       "      <td>292030</td>\n",
       "      <td>The Witcher 3: Wild Hunt</td>\n",
       "      <td>85185250</td>\n",
       "      <td>schinese</td>\n",
       "      <td>拔DIAO无情打桩机--杰洛特!!!</td>\n",
       "      <td>2021-01-23 05:50:30</td>\n",
       "      <td>2021-01-23 05:50:30</td>\n",
       "      <td>True</td>\n",
       "      <td>0</td>\n",
       "      <td>0</td>\n",
       "      <td>...</td>\n",
       "      <td>True</td>\n",
       "      <td>False</td>\n",
       "      <td>False</td>\n",
       "      <td>76561198949504115</td>\n",
       "      <td>30</td>\n",
       "      <td>10</td>\n",
       "      <td>1 days 22:04:00</td>\n",
       "      <td>1 days 21:43:00</td>\n",
       "      <td>1 days 20:34:00</td>\n",
       "      <td>2021-01-23 07:18:27</td>\n",
       "    </tr>\n",
       "    <tr>\n",
       "      <th>2</th>\n",
       "      <td>292030</td>\n",
       "      <td>The Witcher 3: Wild Hunt</td>\n",
       "      <td>85185111</td>\n",
       "      <td>schinese</td>\n",
       "      <td>巫师3NB</td>\n",
       "      <td>2021-01-23 05:46:40</td>\n",
       "      <td>2021-01-23 05:46:40</td>\n",
       "      <td>True</td>\n",
       "      <td>0</td>\n",
       "      <td>0</td>\n",
       "      <td>...</td>\n",
       "      <td>True</td>\n",
       "      <td>False</td>\n",
       "      <td>False</td>\n",
       "      <td>76561199090098988</td>\n",
       "      <td>5</td>\n",
       "      <td>1</td>\n",
       "      <td>0 days 17:41:00</td>\n",
       "      <td>0 days 17:41:00</td>\n",
       "      <td>0 days 17:40:00</td>\n",
       "      <td>2021-01-23 06:36:17</td>\n",
       "    </tr>\n",
       "  </tbody>\n",
       "</table>\n",
       "<p>3 rows × 22 columns</p>\n",
       "</div>"
      ],
      "text/plain": [
       "   app_id                  app_name  review_id  language  \\\n",
       "0  292030  The Witcher 3: Wild Hunt   85185598  schinese   \n",
       "1  292030  The Witcher 3: Wild Hunt   85185250  schinese   \n",
       "2  292030  The Witcher 3: Wild Hunt   85185111  schinese   \n",
       "\n",
       "                    review   timestamp_created   timestamp_updated  \\\n",
       "0  不玩此生遗憾，RPG游戏里的天花板，太吸引人了 2021-01-23 06:00:29 2021-01-23 06:00:29   \n",
       "1       拔DIAO无情打桩机--杰洛特!!! 2021-01-23 05:50:30 2021-01-23 05:50:30   \n",
       "2                    巫师3NB 2021-01-23 05:46:40 2021-01-23 05:46:40   \n",
       "\n",
       "   recommended  votes_helpful  votes_funny  ...  steam_purchase  \\\n",
       "0         True              0            0  ...            True   \n",
       "1         True              0            0  ...            True   \n",
       "2         True              0            0  ...            True   \n",
       "\n",
       "   received_for_free  written_during_early_access     author.steamid  \\\n",
       "0              False                        False  76561199095369542   \n",
       "1              False                        False  76561198949504115   \n",
       "2              False                        False  76561199090098988   \n",
       "\n",
       "   author.num_games_owned  author.num_reviews  author.playtime_forever  \\\n",
       "0                       6                   2          1 days 07:49:00   \n",
       "1                      30                  10          1 days 22:04:00   \n",
       "2                       5                   1          0 days 17:41:00   \n",
       "\n",
       "   author.playtime_last_two_weeks author.playtime_at_review  \\\n",
       "0                 1 days 00:08:00           1 days 07:49:00   \n",
       "1                 1 days 21:43:00           1 days 20:34:00   \n",
       "2                 0 days 17:41:00           0 days 17:40:00   \n",
       "\n",
       "   author.last_played  \n",
       "0 2021-01-22 19:23:03  \n",
       "1 2021-01-23 07:18:27  \n",
       "2 2021-01-23 06:36:17  \n",
       "\n",
       "[3 rows x 22 columns]"
      ]
     },
     "execution_count": 2,
     "metadata": {},
     "output_type": "execute_result"
    }
   ],
   "source": [
    "steam.head(3)"
   ]
  },
  {
   "cell_type": "markdown",
   "id": "33b6b253-7be6-4063-a230-c5c5bd0655a2",
   "metadata": {},
   "source": [
    "questo è l'elenco completo delle colonne del database ... notare degli elemnti nulli bla bla"
   ]
  },
  {
   "cell_type": "code",
   "execution_count": 3,
   "id": "19f30873-fe99-4f66-b60f-24abdfd35c96",
   "metadata": {},
   "outputs": [
    {
     "name": "stdout",
     "output_type": "stream",
     "text": [
      "<class 'pandas.core.frame.DataFrame'>\n",
      "Int64Index: 21747371 entries, 0 to 21747375\n",
      "Data columns (total 22 columns):\n",
      " #   Column                          Dtype          \n",
      "---  ------                          -----          \n",
      " 0   app_id                          int64          \n",
      " 1   app_name                        object         \n",
      " 2   review_id                       int64          \n",
      " 3   language                        object         \n",
      " 4   review                          object         \n",
      " 5   timestamp_created               datetime64[ns] \n",
      " 6   timestamp_updated               datetime64[ns] \n",
      " 7   recommended                     bool           \n",
      " 8   votes_helpful                   int64          \n",
      " 9   votes_funny                     int64          \n",
      " 10  weighted_vote_score             float64        \n",
      " 11  comment_count                   int64          \n",
      " 12  steam_purchase                  bool           \n",
      " 13  received_for_free               bool           \n",
      " 14  written_during_early_access     bool           \n",
      " 15  author.steamid                  int64          \n",
      " 16  author.num_games_owned          int64          \n",
      " 17  author.num_reviews              int64          \n",
      " 18  author.playtime_forever         timedelta64[ns]\n",
      " 19  author.playtime_last_two_weeks  timedelta64[ns]\n",
      " 20  author.playtime_at_review       timedelta64[ns]\n",
      " 21  author.last_played              datetime64[ns] \n",
      "dtypes: bool(4), datetime64[ns](3), float64(1), int64(8), object(3), timedelta64[ns](3)\n",
      "memory usage: 3.2+ GB\n"
     ]
    }
   ],
   "source": [
    "steam.info()"
   ]
  },
  {
   "cell_type": "markdown",
   "id": "c6a3b044-d5d5-4342-a291-8993a33c9f79",
   "metadata": {},
   "source": [
    "spiegazione delle colonne"
   ]
  },
  {
   "cell_type": "markdown",
   "id": "08f9fbd7-d78f-433e-8dc2-028a92438385",
   "metadata": {},
   "source": [
    "commento sugli elementi nulli"
   ]
  },
  {
   "cell_type": "code",
   "execution_count": null,
   "id": "68d89308-e35a-4710-8404-452aa1b69c7b",
   "metadata": {},
   "outputs": [],
   "source": [
    "#df.nullHeatMap()"
   ]
  },
  {
   "cell_type": "markdown",
   "id": "2e21b595-7dbd-47ea-b994-75cbefd3fd40",
   "metadata": {},
   "source": [
    "qui si possono vedere alcuni dati importanti del dataset..."
   ]
  },
  {
   "cell_type": "code",
   "execution_count": null,
   "id": "dc68ce2d-1a03-4c47-822c-e808ae53e396",
   "metadata": {},
   "outputs": [],
   "source": [
    "round(steam.iloc[:,[8,9,10,11,16,17,18,19,20]].describe(),3)"
   ]
  },
  {
   "cell_type": "code",
   "execution_count": null,
   "id": "34a79954-0908-4d24-a398-61e0eca9dfd3",
   "metadata": {},
   "outputs": [],
   "source": [
    "df.statisticalIndex() ##Da modificare"
   ]
  },
  {
   "cell_type": "markdown",
   "id": "391cc0df-0f01-482b-b7a6-a5c466137a80",
   "metadata": {},
   "source": [
    "descrizione breve e poi: \"Questo argomento verrà approfondito più avanti\""
   ]
  },
  {
   "cell_type": "code",
   "execution_count": null,
   "id": "ab3a8c1c-5308-4a40-b830-935af643c406",
   "metadata": {},
   "outputs": [],
   "source": [
    "df.numbersOfReviewsByApplication(15)"
   ]
  },
  {
   "cell_type": "markdown",
   "id": "87c57c53-3f4c-4525-bd09-09d7f8d00ff5",
   "metadata": {},
   "source": [
    "Numero di review per lingua: come sopra"
   ]
  },
  {
   "cell_type": "code",
   "execution_count": 9,
   "id": "00321f2b-a917-4dc0-aee1-b8e359810043",
   "metadata": {},
   "outputs": [
    {
     "data": {
      "image/png": "[encoded data removed]",
      "text/plain": [
       "<Figure size 432x288 with 1 Axes>"
      ]
     },
     "metadata": {
      "needs_background": "light"
     },
     "output_type": "display_data"
    }
   ],
   "source": [
    "t =steam[[\"language\", \"review_id\"]].groupby([\"language\"], as_index = False).count().sort_values(\"review_id\", ascending=False)\n",
    "t.plot.bar('language','review_id');"
   ]
  },
  {
   "cell_type": "markdown",
   "id": "3f9215fd-909e-4c81-972d-4a1b7063aba7",
   "metadata": {},
   "source": [
    "Porzione di recensioni in cui il gioco è stato acquistato o non su steam"
   ]
  },
  {
   "cell_type": "code",
   "execution_count": 10,
   "id": "13a67870-53e6-4f44-b9ca-7762704848d4",
   "metadata": {},
   "outputs": [
    {
     "data": {
      "image/png": "[encoded data removed]",
      "text/plain": [
       "<Figure size 432x288 with 1 Axes>"
      ]
     },
     "metadata": {},
     "output_type": "display_data"
    }
   ],
   "source": [
    "sp=steam[['steam_purchase','review_id']].groupby('steam_purchase').count()\n",
    "sp.plot.pie(y='review_id',autopct='%1.1f%%');"
   ]
  },
  {
   "cell_type": "markdown",
   "id": "fdfc6437-5742-46da-8df2-0a29b66dfeb1",
   "metadata": {},
   "source": [
    "Porzione di recensione in cui il gioco recensito viene raccomandato e non"
   ]
  },
  {
   "cell_type": "code",
   "execution_count": 11,
   "id": "e8d08d8f-afc2-4e61-bf45-9d6877f636b4",
   "metadata": {},
   "outputs": [
    {
     "data": {
      "image/png": "[encoded data removed]",
      "text/plain": [
       "<Figure size 432x288 with 1 Axes>"
      ]
     },
     "metadata": {},
     "output_type": "display_data"
    }
   ],
   "source": [
    "rec=steam[['recommended','review_id']].groupby('recommended').count()\n",
    "rec.plot.pie(y='review_id',autopct='%1.1f%%');"
   ]
  },
  {
   "cell_type": "markdown",
   "id": "93fd42b3-6078-4227-92a4-a0b23588ba95",
   "metadata": {},
   "source": [
    "Porzione di recensioni in cui il gioco recensito viene ricevuto gratis"
   ]
  },
  {
   "cell_type": "code",
   "execution_count": 13,
   "id": "ad672e79-0dbb-4152-a2dd-b6f3de1da250",
   "metadata": {},
   "outputs": [
    {
     "data": {
      "image/png": "[encoded data removed]",
      "text/plain": [
       "<Figure size 432x288 with 1 Axes>"
      ]
     },
     "metadata": {},
     "output_type": "display_data"
    }
   ],
   "source": [
    "rff=steam[['received_for_free','review_id']].groupby('received_for_free').count()\n",
    "rff.plot.pie(y='review_id',autopct='%1.1f%%');"
   ]
  },
  {
   "cell_type": "markdown",
   "id": "1a497b35-57e5-4ee5-bb2a-1503afca7f10",
   "metadata": {},
   "source": [
    "porzione di recensioni riferite a giochi in accesso anticipato e non"
   ]
  },
  {
   "cell_type": "code",
   "execution_count": 17,
   "id": "bbb87b47-f13b-4eaf-bca6-3ef353949734",
   "metadata": {},
   "outputs": [
    {
     "data": {
      "image/png": "[encoded data removed]",
      "text/plain": [
       "<Figure size 432x288 with 1 Axes>"
      ]
     },
     "metadata": {},
     "output_type": "display_data"
    }
   ],
   "source": [
    "wea=steam[['written_during_early_access','review_id']].groupby('written_during_early_access').count()\n",
    "wea.plot.pie(y='review_id',autopct='%1.1f%%');"
   ]
  },
  {
   "cell_type": "markdown",
   "id": "c540d21e-60af-40f3-8a53-523a22746cc4",
   "metadata": {},
   "source": [
    "grafico bar con date e numero di recensioni (created update author last played) + grafico RQ3"
   ]
  },
  {
   "cell_type": "markdown",
   "id": "818a65d6-83bf-49ec-8182-222ab43602bd",
   "metadata": {},
   "source": [
    "# RQ2"
   ]
  },
  {
   "cell_type": "code",
   "execution_count": null,
   "id": "f55bfed8-7805-41d7-b3fa-d011a2e1eff4",
   "metadata": {},
   "outputs": [],
   "source": [
    "df.numbersOfReviewsByApplication(15)"
   ]
  },
  {
   "cell_type": "code",
   "execution_count": null,
   "id": "7ea57e4f-dd51-44b7-92cf-ebc9b6b3ff9c",
   "metadata": {},
   "outputs": [],
   "source": [
    "df.scoreOfApps(20)"
   ]
  },
  {
   "cell_type": "code",
   "execution_count": null,
   "id": "23b8de28-0769-415e-9f34-c07dd679cd01",
   "metadata": {},
   "outputs": [],
   "source": [
    "df.raccomendedApp_purchase_free(5, 3)"
   ]
  },
  {
   "cell_type": "markdown",
   "id": "98823f1f-f5cc-42bb-9226-4fda1b070641",
   "metadata": {},
   "source": [
    "# RQ3"
   ]
  },
  {
   "cell_type": "markdown",
   "id": "be43f300-267a-4920-95b1-25373661f309",
   "metadata": {},
   "source": [
    "# RQ3 test\n",
    "\n",
    "#### What is the most common time that authors review an application? For example, authors usually write a review at 17:44.\n",
    "\n",
    "La domanda che ci è stata posta non ha una risposta diretta. Per rispondere a quest'ultima, inizialmente abbiamo plotted, con la funzione richiesta nell'esercizio, il numero di recenzioni in intervalli di tempo da 15 minuti. In questa prima rappresentazione (figura 1) abbiamo notato due massimi: Il primo tra le 14 e le 16 ed il secondo tra le 18 e le 19. Tuttavia i bar del grafico in quegli intorni sono piuttosto costanti, quindi una rappresentazione con intervalli più larghi potrebbe rappresentare meglio i dati (figura 2).\n",
    "\n",
    "## Forse la media?\n"
   ]
  },
  {
   "cell_type": "code",
   "execution_count": null,
   "id": "2c492929-c880-48df-89f2-750d691c31be",
   "metadata": {},
   "outputs": [],
   "source": [
    "df.numbersOfReviewByTime([[\"0:00\", \"3:59\"], [\"4:00\", \"7:59\"], [\"8:00\", \"11:59\"], [\"12:00\", \"15:59\"], [\"16:00\", \"19:59\"], [\"20:00\", \"23:59\"]]);\n",
    "df.numbersOfReviewByTime(df.datetime_range24(delta = 60));\n",
    "df.numbersOfReviewByTime(df.datetime_range24(delta = 15));"
   ]
  },
  {
   "cell_type": "markdown",
   "id": "5ce00529-89e4-41f1-9888-6e4d05193844",
   "metadata": {},
   "source": [
    "Ora applichiamo la funzione utilizzata precedentemente su i seguenti intervalli richiesti:\n",
    "    \n",
    "| Initial time | Final time |\n",
    "| ----------- | ----------- |\n",
    "|06:00:00 | 10:59:59|\n",
    "|11:00:00 | 13:59:59|\n",
    "|14:00:00 | 16:59:59|\n",
    "|17:00:00 | 19:59:59|\n",
    "|20:00:00 | 23:59:59|\n",
    "|00:00:00 | 02:59:59|\n",
    "|03:00:00 | 05:59:59|"
   ]
  },
  {
   "cell_type": "code",
   "execution_count": null,
   "id": "b4d5b702-700e-431f-936c-4ae102052cdb",
   "metadata": {},
   "outputs": [],
   "source": [
    "df.numbersOfReviewByTime([[\"06:00:00\", \"10:59:59\"],[\"11:00:00\", \"13:59:59\"], [\"14:00:00\",  \"16:59:59\"], [\"17:00:00\", \"19:59:59\"], [\"20:00:00\", \"23:59:59\"], [\"00:00:00\", \"02:59:59\"],[\"03:00:00\", \"05:59:59\"]]);"
   ]
  },
  {
   "cell_type": "markdown",
   "id": "03828843-b44c-4b4b-b229-11d63dd34477",
   "metadata": {},
   "source": [
    "# RQ4"
   ]
  },
  {
   "cell_type": "markdown",
   "id": "14be7132-c520-42c9-86d4-37a9247699a2",
   "metadata": {},
   "source": [
    "# RQ5"
   ]
  },
  {
   "cell_type": "markdown",
   "id": "80a09a0f-7dc1-4bc4-9c8a-920a1e154a08",
   "metadata": {},
   "source": [
    "# RQ6"
   ]
  },
  {
   "cell_type": "markdown",
   "id": "424b63c3-ea9d-49a2-ba59-1f3234c1d72b",
   "metadata": {},
   "source": [
    " # Average time (days and minutes) a user lets pass before he updates a review"
   ]
  },
  {
   "cell_type": "code",
   "execution_count": null,
   "id": "e4982fac-a8c7-4c4c-8aca-40ab4b49e555",
   "metadata": {},
   "outputs": [],
   "source": [
    "t = df.timedelta_updated_created()"
   ]
  },
  {
   "cell_type": "markdown",
   "id": "b18824b2-04b4-4468-be03-19fcd4f4fb35",
   "metadata": {},
   "source": [
    "Analizzando il DataFrame utilizzando la funzione \"describe\" si può reperire che la media"
   ]
  },
  {
   "cell_type": "code",
   "execution_count": null,
   "id": "21eae694-5ddd-4ce6-93e6-f484a8c1d8b6",
   "metadata": {},
   "outputs": [],
   "source": [
    "t.describe()[\"mean\"]"
   ]
  },
  {
   "cell_type": "markdown",
   "id": "897ce3c1-5bf3-44bf-b1d0-851423a8151e",
   "metadata": {},
   "source": [
    "### NOTA\n",
    "\n",
    "Analizzando i risultati della funzione describe si può inoltre notare la presenza di un dato errato nel dataset. Una riga del dataset possiede nel campo timestamp_created un valore maggiore rispetto al campo timestamp_updated."
   ]
  },
  {
   "cell_type": "code",
   "execution_count": null,
   "id": "9256f4e5-6749-48a5-ac2c-32512e961a09",
   "metadata": {},
   "outputs": [],
   "source": [
    "t.sort_values()"
   ]
  },
  {
   "cell_type": "markdown",
   "id": "2f5dcfd4-5737-435a-8acb-72586ca4fb20",
   "metadata": {},
   "source": [
    "   - Plot the top 3 authors that usually update their reviews.\n",
    "   \n",
    "Top 3 utenti con più recensioni aggiornate (Questa lista non prende in considerazione il numero totale di recensioni per utente: un utente con più recensioni si troverà probabilmente più in alto in classifica)"
   ]
  },
  {
   "cell_type": "code",
   "execution_count": null,
   "id": "2a7a2c3e-a372-4d53-b8dd-4832aab1d8f1",
   "metadata": {},
   "outputs": [],
   "source": [
    "df.plotBestAuthor_updater(3)"
   ]
  },
  {
   "cell_type": "markdown",
   "id": "51a5b817-1ff4-43e8-9c43-3820004bf698",
   "metadata": {},
   "source": [
    "Top 3 utenti con più recensioni aggiornate (Questa lista prende in considerazione il numero totale di recensioni e il numero di recensioni aggiornate)"
   ]
  },
  {
   "cell_type": "code",
   "execution_count": null,
   "id": "d7aa173c-3ac1-41c8-88ab-a5485ae8d026",
   "metadata": {},
   "outputs": [],
   "source": [
    "df.numberOfUpdateAndNonUpdateByAuthor(3)"
   ]
  },
  {
   "cell_type": "markdown",
   "id": "625bb870-e6fa-4b98-a2b0-e1a79ce881ab",
   "metadata": {},
   "source": [
    "# RQ7"
   ]
  },
  {
   "cell_type": "code",
   "execution_count": null,
   "id": "75511781-4477-4782-a6d2-5be02910434a",
   "metadata": {},
   "outputs": [],
   "source": [
    "df.probabilityQuestion1()"
   ]
  },
  {
   "cell_type": "code",
   "execution_count": null,
   "id": "4f378d8b-22d1-4a68-b5f4-1f1fbfaf978f",
   "metadata": {},
   "outputs": [],
   "source": [
    "df.probabilityQuestion2()"
   ]
  },
  {
   "cell_type": "code",
   "execution_count": null,
   "id": "bbd3218d-3750-437d-a878-95c790bfb6f5",
   "metadata": {},
   "outputs": [],
   "source": [
    "df.probabilityQuestion3()"
   ]
  }
 ],
 "metadata": {
  "kernelspec": {
   "display_name": "Python 3",
   "language": "python",
   "name": "python3"
  },
  "language_info": {
   "codemirror_mode": {
    "name": "ipython",
    "version": 3
   },
   "file_extension": ".py",
   "mimetype": "text/x-python",
   "name": "python",
   "nbconvert_exporter": "python",
   "pygments_lexer": "ipython3",
   "version": "3.8.8"
  }
 },
 "nbformat": 4,
 "nbformat_minor": 5
}
