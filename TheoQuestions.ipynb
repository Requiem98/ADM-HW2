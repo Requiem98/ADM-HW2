{
 "cells": [
  {
   "cell_type": "markdown",
   "id": "640a41d2-4e65-4af9-a02a-aa9d8fa3f3d7",
   "metadata": {},
   "source": [
    "# Theoretical Questions"
   ]
  },
  {
   "cell_type": "markdown",
   "id": "4e3873e7-11fa-4d8d-b6e8-ce49a64fb9b3",
   "metadata": {},
   "source": [
    "### TQ1"
   ]
  },
  {
   "cell_type": "markdown",
   "id": "bb5212fb-ae75-4e31-97d1-168a5417f8e5",
   "metadata": {},
   "source": [
    "We are given the following algorithm."
   ]
  },
  {
   "cell_type": "raw",
   "id": "f7341a89-f77d-4a53-849c-117ee0558f0a",
   "metadata": {},
   "source": [
    "Input: \n",
    "    A: array of length n\n",
    "    k: integers between 1 and n\n",
    "    \n",
    "function alg(A, k):\n",
    "  s <-- a random element of A\n",
    "  set L = [all the elements of A with value <= s]\n",
    "  set R = [all the elements of A with value > s]\n",
    "  r = len(L)\n",
    "  if k == r:\n",
    "    return s\n",
    "  else if k < r:  \n",
    "    return alg(L, k)\n",
    "  else:\n",
    "    return alg(R, k - r)"
   ]
  },
  {
   "cell_type": "markdown",
   "id": "49ce511b-cce7-4e07-bd81-a41f921a67d5",
   "metadata": {},
   "source": [
    "##### 1 - What does the algorithm compute?"
   ]
  },
  {
   "cell_type": "markdown",
   "id": "7baccfad-0edb-4a4b-82db-b9ce93caf73a",
   "metadata": {},
   "source": [
    "The algorithm takes as input an array A and an integer k and returns the k-th element of array A in which the elements are sorted in ascending order."
   ]
  },
  {
   "cell_type": "markdown",
   "id": "4ce8263f-08aa-48e4-82dd-754b89be238b",
   "metadata": {},
   "source": [
    "##### 2 - What is asymptotically (i.e., we are asking for big-O complexity) the running time of the algorithm in the worst case, as a function of n?"
   ]
  },
  {
   "cell_type": "markdown",
   "id": "c34bebfc-b0e6-44c4-954d-eac8e653c94f",
   "metadata": {},
   "source": [
    "The worst case is when the condition in the first \"if\" does not verified immediately, that is, when the array $\\ A$ is not sorted in ascending order. In this case the execution time will be $\\ O(n^2)$ because the algorithm has to \"sort\" the vector $\\ A$ in ascending order and then print the k-th element."
   ]
  },
  {
   "cell_type": "markdown",
   "id": "4ad01e19-995c-45f2-9c5f-621962aa6c00",
   "metadata": {},
   "source": [
    "##### 3 - What is asymptotically the running time of the algorithm in the best case?"
   ]
  },
  {
   "cell_type": "markdown",
   "id": "c867bee5-d78d-4397-8bb3-4da641584d2a",
   "metadata": {},
   "source": [
    "The best case is when the condition in the first if is immediately verified and I don't have to execute the recursive calls. This happens when array $\\ A$ is already sorted in ascending order. So the running time of the algorithm is $\\ O(n)$ because I just have to check the elements of A and build the two sets $\\ L$ and $\\ R$."
   ]
  },
  {
   "cell_type": "markdown",
   "id": "8b3a62f8-23a6-48d0-806d-2da646d12bac",
   "metadata": {},
   "source": [
    "### TQ2"
   ]
  },
  {
   "cell_type": "markdown",
   "id": "62b368ad-32e2-4393-861f-62e5699cff94",
   "metadata": {},
   "source": [
    "You are given the recursive function splitSwap, which accepts an array a, an index i, and a length n."
   ]
  },
  {
   "cell_type": "raw",
   "id": "ad9c56e9-ba64-431e-814e-bd1bd8fe13f8",
   "metadata": {},
   "source": [
    "function splitSwap(a, l, n):\n",
    "  if n <= 1:\n",
    "    return\n",
    "  splitSwap(a, l, n/2)\n",
    "  splitSwap(a, l+ n /2, n/2)\n",
    "  swapList(a, l, n)"
   ]
  },
  {
   "cell_type": "markdown",
   "id": "e7e03057-5f5c-4a3b-b5e6-f68ec99760f6",
   "metadata": {},
   "source": [
    "The subroutine swapList is described here:"
   ]
  },
  {
   "cell_type": "raw",
   "id": "34f724e3-12be-4c29-b214-1a6cf68460fa",
   "metadata": {},
   "source": [
    "function swapList(a, l, n):\n",
    "  for i = 0 to n/2:\n",
    "    tmp = a[l + i]\n",
    "    a[l + i] = a[l + n/2 + i]\n",
    "    a[l + n/2 + i] = tmp"
   ]
  },
  {
   "cell_type": "markdown",
   "id": "f81fde87-a4b4-445c-af0a-47474f05f71e",
   "metadata": {},
   "source": [
    "##### 1 - How much running time does it take to execute splitSwap(a, 0, n)? (We want a Big O analysis.)"
   ]
  },
  {
   "cell_type": "markdown",
   "id": "3f45d89d-0606-479b-b11f-a6018ec47b4f",
   "metadata": {},
   "source": [
    "Caso base: $\\ T(1) = 2 $\n",
    "\n",
    "Funzione ricorsiva: $\\ T(n) = 2T\\bigl(\\frac{n}{2}\\bigr) + O(n)$"
   ]
  },
  {
   "cell_type": "markdown",
   "id": "f301a2b3-b4c1-4891-b057-cdca65c68570",
   "metadata": {},
   "source": [
    "$T(n) = 2T\\bigl(\\frac{n}{2}\\bigr) + O(n) \\\\\n",
    "      = 2 \\bigl[2T\\bigl(\\frac{n}{2^2}\\bigr) + O\\bigl(\\frac{n}{2}\\bigr)\\bigr] + O(n) \\\\\n",
    "      = 2^2 T\\bigl(\\frac{n}{2^2}\\bigr) + 2O \\bigl(\\frac{n}{2}\\bigr) + O (n) \\\\\n",
    "      = 2^2 \\bigl[2T\\bigl(\\frac{n}{2^3}\\bigr) + O \\bigl(\\frac{n}{2^2}\\bigr)\\bigr] + 2O\\bigl(\\frac{n}{2}\\bigr) + O(n) \\\\\n",
    "      = 2^3 T\\bigl(\\frac{n}{2^3}\\bigr) + 2^2 O \\bigl(\\frac{n}{2^2}\\bigr) + 2O\\bigl(\\frac{n}{2}\\bigr) + O(n) \\\\\n",
    "      \\vdots \\\\\n",
    "      = 2^k T\\bigl(\\frac{n}{2^k}\\bigr) + \\sum_{i=0}^{k-1} 2^i O\\bigl(\\frac{n}{2^i}\\bigr) \\\\\n",
    "      = 2^k T\\bigl(\\frac{n}{2^k}\\bigr) + \\sum_{i=0}^{k-1} O(n) \\\\\n",
    "      \\vdots \\\\\n",
    "      $\n",
    "      I continue until $ \\frac{n}{2^k} =1 \\Rightarrow k=\\log_2(n) $\n",
    "      $\\vdots \\\\\n",
    "      = 2^{log_2(n)}T(1) + \\sum_{i=0}^{\\log_2(n)-1} O(n) \\\\\n",
    "      = n\\theta(2) + \\log_2(n)O(n) \\\\\n",
    "      =O(n\\log_2(n)) $"
   ]
  },
  {
   "cell_type": "markdown",
   "id": "c7d1f79e-6658-412b-b66e-d14654eaf79e",
   "metadata": {},
   "source": [
    "##### 2 - What does this algorithm do? Is it optimal? Describe the mechanism of the algorithm in details, we do not want to know only its final result."
   ]
  },
  {
   "cell_type": "markdown",
   "id": "aac7e5bb-bf05-4b7e-88a6-f343c1f9e981",
   "metadata": {},
   "source": [
    "Let's analyze the algorithm. First we must check its correctness.\n",
    "\n",
    "We note that as long as $\\ n> 1$, $\\ n$ decreases with each recursive call. This means that $\\ n$ will become $\\ <= 1 $ and therefore the condition inside the \"if\" will become true and therefore we will exit the function.\n",
    "\n",
    "On the other hand, as long as $\\ n> 1$, we will execute the two recursive calls in which $\\ n $ halves at each call until it becomes $\\ <= 1$ and then we will start to exit the recursive calls. Every time we exit the two recursive calls the \"swapList\" function is executed in which the elements of the array $\\ a$ are swapped. But in order to execute this function correctly, further conditions must be set, otherwise we will have an error and the algorithm will not be executed. We must check that the sum between the integer $\\ n$ and the index $\\ l$ is less than the length of the array $\\ a$, that is $\\ l + n < len(a)$, or (since we are talking about integers) $\\ l + n - 1 <= len(a)$, otherwise when we execute the \"for\" loop the index we are going to replace will be greater than the maximum index of $\\ a$ and the algorithm will stop. This if $\\ n/2$ is included in the range of the \"for\" loop. Otherwise we will have to check that $\\ l + n <= len(a)$ if $\\ n/2$ is not included in the range of the \"for\" loop. Moreover the division $\\ n/2$ must be a division between integers because the indexes of the arrays are integers. Therefore, given these conditions, the function will be executed correctly. So in the end we will have the array $\\ a$ in which the elements have been swapped places. If $\\ n/2$ is included in the range of the \"for\" loop, then the elements of the array $\\ a$ that will be swapped are elements from $\\ a[l]$ to $\\ a[l+n]$, if instead $\\ n/2$ is not included in the range of the \"for\" loop, the elements of $\\ a$ that will be exchanged are the elements from $\\ a[l]$ to $\\ a[l+n-1]$."
   ]
  },
  {
   "cell_type": "markdown",
   "id": "3e54d91b-3471-4390-9e26-ec574aec22f8",
   "metadata": {},
   "source": [
    "For example if we take an array $\\ a=[1,2,3,4,5,6,7,8]$, we consider the case where $\\ n/2$ is included in the range of the \"for\" loop and we execute the function $\\ splitSwap(a,0,4)$, we get the following array: $\\ a=[4,5,1,3,2,6,7,8]$. \n",
    "\n",
    "In this case the algorithm is optimal because the exchanges do not follow a precise pattern."
   ]
  },
  {
   "cell_type": "markdown",
   "id": "deab1c13-9fea-4a00-845b-d4a667678c00",
   "metadata": {},
   "source": [
    "If instead we take the same array $\\ a$, we execute the same function, but we consider the case where $\\ n/2$ is not included in the range of the \"for\" loop we get the following array: $\\ a=[4,3,2,1,5,6,7,8]$.\n",
    "\n",
    "In this case, however, we note that the exchanges follow a very precise pattern, i.e. the list that goes from $\\ a[l]$ to $\\ a[n+l-1]$ is inverted, or in our case from $\\ a[0]$ to $\\ a[3].$\n",
    "\n",
    "In this case the algorithm is not optimal because it is possible to find an algorithm with a shorter running time, such as the following:"
   ]
  },
  {
   "cell_type": "raw",
   "id": "3fcdd4d7-b5ed-4f4e-b704-a0a5695f2984",
   "metadata": {},
   "source": [
    "def swapList (a,l,n):\n",
    "    if n<=1:\n",
    "        return\n",
    "    for i in range (0,n//2):\n",
    "        tmp=a[l+i]\n",
    "        a[l+i]=a[l+n-1-i]\n",
    "        a[l+n-1-i]=tmp"
   ]
  },
  {
   "cell_type": "markdown",
   "id": "ecee576e-b0d3-442d-aaca-44ae81b5435d",
   "metadata": {},
   "source": [
    "In this case the running time is $\\ O(n)$."
   ]
  },
  {
   "cell_type": "markdown",
   "id": "bdf80f5a-45b7-4aac-85f2-cfbf88ab21cb",
   "metadata": {},
   "source": [
    "### TQ3"
   ]
  },
  {
   "cell_type": "markdown",
   "id": "93d259e4-c510-486a-945f-563a6d408679",
   "metadata": {},
   "source": [
    "In the knapsack problem we are given n objects and each object i has a weight $\\ w_i$ and a value $\\ v_i$. We are also given a weight budget $\\ W$. The problem is to select a set of objects with total weight bounded by $\\ W$ that maximized the sum of their values. The following are three natural heuristics:\n",
    "\n",
    "* Order them in increasing order of weight and then visit them sequentially, adding them to the solution as long as the budget is not exceeded\n",
    "* Order them in decreasing order of values, and then visit them sequentially, adding them to the solution if the budget is not exceeded\n",
    "* Order them in decreasing relative value ($\\ v_i/w_i$), and then visit them sequentially, adding them to the solution if the budget is not exceeded\n",
    "\n",
    "For each  of the heuristics, provide a counterexample, that is, an example of a problem instance in which the heuristic fails to provide the optimal solution."
   ]
  },
  {
   "cell_type": "markdown",
   "id": "ee252d53-05be-42ac-8440-0aeeaaf773d7",
   "metadata": {},
   "source": [
    "Let's consider the following objects with their weights and values:"
   ]
  },
  {
   "cell_type": "markdown",
   "id": "b43bb30e-8e5b-4c5f-b538-db6246086e50",
   "metadata": {},
   "source": [
    "|  | e_1 | e_2 | e_3 | e_4 | e_5 | e_6 | e_7 |\n",
    "|---|---|---|---|---|---|---|---|\n",
    "| **v_i** | 100 | 77 | 52 | 13 | 4 | 17 | 22 |\n",
    "| **w_i** | 31 | 15 | 27 | 2 | 9 | 4 | 11 |"
   ]
  },
  {
   "cell_type": "markdown",
   "id": "c078cb72-4718-4291-b99e-d24c75dbc668",
   "metadata": {},
   "source": [
    "and let's consider the following weight budget: $\\ W=77$."
   ]
  },
  {
   "cell_type": "markdown",
   "id": "258808eb-2b60-4a86-8321-e0f388513465",
   "metadata": {},
   "source": [
    "* I order the objects $\\ e_i$ in increasing order of weight:"
   ]
  },
  {
   "cell_type": "markdown",
   "id": "066c2601-4dd5-4bef-8ab8-b7a7f9312292",
   "metadata": {},
   "source": [
    "|  | e_4 | e_6 | e_5 | e_7 | e_2 | e_3 | e_1 |\n",
    "|---|---|---|---|---|---|---|---|\n",
    "| **v_i** | 13 | 17 | 4 | 22 | 77 | 52 | 100 |\n",
    "| **w_i** | 2 | 4 | 9 | 11 | 15 | 27 | 31 |"
   ]
  },
  {
   "cell_type": "markdown",
   "id": "aee0cd76-1752-4f32-8ba0-b98a591cfe3e",
   "metadata": {},
   "source": [
    "I sum the weights $\\ w_i$ until I exceed the weight budget $\\ W$:\n",
    "\n",
    "$\\ 2+4=6+9=15+11=26+15=41+27=68 $\n",
    "\n",
    "I stop at $\\ e_3$ because if I add the weight of $\\ e_1$, I exceed the budget $\\ W$.\n",
    "\n",
    "Now I add the corresponding values:\n",
    "\n",
    "$\\ \\sum_i v_i = v_4 + v_6 + v_5 + v_7 + v_2 + v_3 = 13+17+4+22+77+52=185$"
   ]
  },
  {
   "cell_type": "markdown",
   "id": "ead5030d-bc8e-4981-b2f7-f985ba3e179a",
   "metadata": {},
   "source": [
    "But this is **not** the optimal solution because if I consider objects $\\ e_1, e_2, e_3, e_6$  I have:\n",
    "\n",
    "$\\ w_1 + w_2 + w_3 + w_6 = 31+15+27+4=77 $\n",
    "\n",
    "and if I add the corresponding values I obtain\n",
    "\n",
    "$\\ v_1+ v_2+ v_3 + v_6 = 100+77+52+17=246>185$"
   ]
  },
  {
   "cell_type": "markdown",
   "id": "ddb5dcbf-dbf0-4ad0-a237-ac2fdddb24c0",
   "metadata": {},
   "source": [
    "* Now I order the objects $\\ e_i$ in decreasing order of values:"
   ]
  },
  {
   "cell_type": "markdown",
   "id": "e9c8937c-6735-4d6b-b40f-fa72b29ed89c",
   "metadata": {},
   "source": [
    "|  | e_1 | e_2 | e_3 | e_7 | e_6 | e_4 | e_5 |\n",
    "|---|---|---|---|---|---|---|---|\n",
    "| **v_i** | 100 | 77 | 52 | 22 | 17 | 13 | 4 |\n",
    "| **w_i** | 31 | 15 | 27 | 11 | 4 | 2 | 9 |"
   ]
  },
  {
   "cell_type": "markdown",
   "id": "029086a1-c39e-49ec-9056-fa5c11f7211c",
   "metadata": {},
   "source": [
    "I sum the weights $\\ w_i$ until I exceed the weight budget $\\ W$:\n",
    "\n",
    "$\\ 31+15=46+27=73 $\n",
    "\n",
    "I stop at $\\ e_3$ because if I add the weight of $\\ e_7$, I exceed the budget $\\ W$.\n",
    "\n",
    "Now I add the corresponding values:\n",
    "\n",
    "$\\ \\sum_i v_i = v_1 + v_2 + v_3 = 100+77+52 = 229$"
   ]
  },
  {
   "cell_type": "markdown",
   "id": "7d14c5d4-4f4f-4090-b8fa-2e136aaa57d4",
   "metadata": {},
   "source": [
    "But this is **not** the optimal solution because if I consider objects $\\ e_1, e_2, e_3, e_6$  I have:\n",
    "\n",
    "$\\ w_1 + w_2 + w_3 + w_6 = 31+15+27+4=77 $\n",
    "\n",
    "and if I add the corresponding values I obtain\n",
    "\n",
    "$\\ v_1+ v_2+ v_3 + v_6 = 100+77+52+17=246>229$"
   ]
  },
  {
   "cell_type": "markdown",
   "id": "6522e330-4c2c-4ddf-9ec1-eb8ac8d80c68",
   "metadata": {},
   "source": [
    "* Now I order the objects $\\ e_i$ in decreasing order of relative value ($\\ v_i/w_i$):"
   ]
  },
  {
   "cell_type": "markdown",
   "id": "133da1a3-de73-44ed-b5e5-ae0f1f59e36d",
   "metadata": {},
   "source": [
    "|  | e_4 | e_2 | e_6 | e_1 | e_7 | e_3 | e_5 |\n",
    "|---|---|---|---|---|---|---|---|\n",
    "| **v_i** | 13 | 77 | 17 | 100 | 22 | 52 | 4 |\n",
    "| **w_i** | 2 | 15 | 4 | 31 | 11 | 27 | 9 |\n",
    "| **v_i/w_i** | 6,5 | 5,1333 | 4,25 | 3,2258 | 2 | 1,9259 | 0,4444 |"
   ]
  },
  {
   "cell_type": "markdown",
   "id": "2f6de6af-0d4e-4fa0-833f-8a2f9e383d7c",
   "metadata": {},
   "source": [
    "I sum the weights $\\ w_i$ until I exceed the weight budget $\\ W$:\n",
    "\n",
    "$\\ 2+15=17+4=21+31=52+11=63 $\n",
    "\n",
    "I stop at $\\ e_7$ because if I add the weight of $\\ e_3$, I exceed the budget $\\ W$.\n",
    "\n",
    "Now I add the corresponding values:\n",
    "\n",
    "$\\ \\sum_i v_i = v_4 + v_2 + v_6 + v_1 + v_7 = 13+77+17+100+22 = 229$"
   ]
  },
  {
   "cell_type": "markdown",
   "id": "fb261954-7bee-400b-8f17-50a20ed45ed8",
   "metadata": {},
   "source": [
    "But this is **not** the optimal solution because if I consider objects $\\ e_1, e_2, e_3, e_6$  I have:\n",
    "\n",
    "$\\ w_1 + w_2 + w_3 + w_6 = 31+15+27+4=77 $\n",
    "\n",
    "and if I add the corresponding values I obtain\n",
    "\n",
    "$\\ v_1+ v_2+ v_3 + v_6 = 100+77+52+17=246>229$"
   ]
  },
  {
   "cell_type": "code",
   "execution_count": null,
   "id": "3e07f139-8ba3-4e98-b029-f269cda68004",
   "metadata": {},
   "outputs": [],
   "source": []
  }
 ],
 "metadata": {
  "kernelspec": {
   "display_name": "Python 3",
   "language": "python",
   "name": "python3"
  },
  "language_info": {
   "codemirror_mode": {
    "name": "ipython",
    "version": 3
   },
   "file_extension": ".py",
   "mimetype": "text/x-python",
   "name": "python",
   "nbconvert_exporter": "python",
   "pygments_lexer": "ipython3",
   "version": "3.8.8"
  }
 },
 "nbformat": 4,
 "nbformat_minor": 5
}
