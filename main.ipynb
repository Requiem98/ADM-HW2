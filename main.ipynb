{
 "cells": [
  {
   "cell_type": "markdown",
   "id": "38ff6d46-6134-484e-b3c2-1f1e7e13becd",
   "metadata": {},
   "source": [
    "# Importo le librerie necessarie"
   ]
  },
  {
   "cell_type": "code",
   "execution_count": null,
   "id": "fdf9f519-278f-43bb-9d2f-9b14233efd15",
   "metadata": {},
   "outputs": [],
   "source": [
    "import DS_functions as df"
   ]
  }
 ],
 "metadata": {
  "kernelspec": {
   "display_name": "Python 3",
   "language": "python",
   "name": "python3"
  },
  "language_info": {
   "codemirror_mode": {
    "name": "ipython",
    "version": 3
   },
   "file_extension": ".py",
   "mimetype": "text/x-python",
   "name": "python",
   "nbconvert_exporter": "python",
   "pygments_lexer": "ipython3",
   "version": "3.8.8"
  }
 },
 "nbformat": 4,
 "nbformat_minor": 5
}
