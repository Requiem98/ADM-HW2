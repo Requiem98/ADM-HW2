{
 "cells": [
  {
   "cell_type": "markdown",
   "id": "02766084-c8b4-432d-b384-bfafa53b9adf",
   "metadata": {},
   "source": [
    "# Carico il dataset"
   ]
  },
  {
   "cell_type": "code",
   "execution_count": 1,
   "id": "c195f821-192e-41e6-8353-ac1444198776",
   "metadata": {},
   "outputs": [
    {
     "name": "stdout",
     "output_type": "stream",
     "text": [
      "<class 'pandas.core.frame.DataFrame'>\n",
      "Int64Index: 2000 entries, 0 to 1999\n",
      "Data columns (total 22 columns):\n",
      " #   Column                          Non-Null Count  Dtype         \n",
      "---  ------                          --------------  -----         \n",
      " 0   app_id                          2000 non-null   int64         \n",
      " 1   app_name                        2000 non-null   object        \n",
      " 2   review_id                       2000 non-null   int64         \n",
      " 3   language                        2000 non-null   object        \n",
      " 4   review                          1993 non-null   object        \n",
      " 5   timestamp_created               2000 non-null   datetime64[ns]\n",
      " 6   timestamp_updated               2000 non-null   datetime64[ns]\n",
      " 7   recommended                     2000 non-null   bool          \n",
      " 8   votes_helpful                   2000 non-null   int64         \n",
      " 9   votes_funny                     2000 non-null   int64         \n",
      " 10  weighted_vote_score             2000 non-null   float64       \n",
      " 11  comment_count                   2000 non-null   int64         \n",
      " 12  steam_purchase                  2000 non-null   bool          \n",
      " 13  received_for_free               2000 non-null   bool          \n",
      " 14  written_during_early_access     2000 non-null   bool          \n",
      " 15  author.steamid                  2000 non-null   int64         \n",
      " 16  author.num_games_owned          2000 non-null   int64         \n",
      " 17  author.num_reviews              2000 non-null   int64         \n",
      " 18  author.playtime_forever         2000 non-null   float64       \n",
      " 19  author.playtime_last_two_weeks  2000 non-null   float64       \n",
      " 20  author.playtime_at_review       2000 non-null   float64       \n",
      " 21  author.last_played              2000 non-null   datetime64[ns]\n",
      "dtypes: bool(4), datetime64[ns](3), float64(4), int64(8), object(3)\n",
      "memory usage: 304.7+ KB\n"
     ]
    },
    {
     "data": {
      "text/html": [
       "<div>\n",
       "<style scoped>\n",
       "    .dataframe tbody tr th:only-of-type {\n",
       "        vertical-align: middle;\n",
       "    }\n",
       "\n",
       "    .dataframe tbody tr th {\n",
       "        vertical-align: top;\n",
       "    }\n",
       "\n",
       "    .dataframe thead th {\n",
       "        text-align: right;\n",
       "    }\n",
       "</style>\n",
       "<table border=\"1\" class=\"dataframe\">\n",
       "  <thead>\n",
       "    <tr style=\"text-align: right;\">\n",
       "      <th></th>\n",
       "      <th>app_id</th>\n",
       "      <th>app_name</th>\n",
       "      <th>review_id</th>\n",
       "      <th>language</th>\n",
       "      <th>review</th>\n",
       "      <th>timestamp_created</th>\n",
       "      <th>timestamp_updated</th>\n",
       "      <th>recommended</th>\n",
       "      <th>votes_helpful</th>\n",
       "      <th>votes_funny</th>\n",
       "      <th>...</th>\n",
       "      <th>steam_purchase</th>\n",
       "      <th>received_for_free</th>\n",
       "      <th>written_during_early_access</th>\n",
       "      <th>author.steamid</th>\n",
       "      <th>author.num_games_owned</th>\n",
       "      <th>author.num_reviews</th>\n",
       "      <th>author.playtime_forever</th>\n",
       "      <th>author.playtime_last_two_weeks</th>\n",
       "      <th>author.playtime_at_review</th>\n",
       "      <th>author.last_played</th>\n",
       "    </tr>\n",
       "  </thead>\n",
       "  <tbody>\n",
       "    <tr>\n",
       "      <th>0</th>\n",
       "      <td>292030</td>\n",
       "      <td>The Witcher 3: Wild Hunt</td>\n",
       "      <td>85185598</td>\n",
       "      <td>schinese</td>\n",
       "      <td>不玩此生遗憾，RPG游戏里的天花板，太吸引人了</td>\n",
       "      <td>2021-01-23 06:00:29</td>\n",
       "      <td>2021-01-23 06:00:29</td>\n",
       "      <td>True</td>\n",
       "      <td>0</td>\n",
       "      <td>0</td>\n",
       "      <td>...</td>\n",
       "      <td>True</td>\n",
       "      <td>False</td>\n",
       "      <td>False</td>\n",
       "      <td>76561199095369542</td>\n",
       "      <td>6</td>\n",
       "      <td>2</td>\n",
       "      <td>1909.0</td>\n",
       "      <td>1448.0</td>\n",
       "      <td>1909.0</td>\n",
       "      <td>2021-01-22 19:23:03</td>\n",
       "    </tr>\n",
       "  </tbody>\n",
       "</table>\n",
       "<p>1 rows × 22 columns</p>\n",
       "</div>"
      ],
      "text/plain": [
       "   app_id                  app_name  review_id  language  \\\n",
       "0  292030  The Witcher 3: Wild Hunt   85185598  schinese   \n",
       "\n",
       "                    review   timestamp_created   timestamp_updated  \\\n",
       "0  不玩此生遗憾，RPG游戏里的天花板，太吸引人了 2021-01-23 06:00:29 2021-01-23 06:00:29   \n",
       "\n",
       "   recommended  votes_helpful  votes_funny  ...  steam_purchase  \\\n",
       "0         True              0            0  ...            True   \n",
       "\n",
       "   received_for_free  written_during_early_access     author.steamid  \\\n",
       "0              False                        False  76561199095369542   \n",
       "\n",
       "   author.num_games_owned  author.num_reviews  author.playtime_forever  \\\n",
       "0                       6                   2                   1909.0   \n",
       "\n",
       "   author.playtime_last_two_weeks  author.playtime_at_review  \\\n",
       "0                          1448.0                     1909.0   \n",
       "\n",
       "   author.last_played  \n",
       "0 2021-01-22 19:23:03  \n",
       "\n",
       "[1 rows x 22 columns]"
      ]
     },
     "execution_count": 1,
     "metadata": {},
     "output_type": "execute_result"
    }
   ],
   "source": [
    "import small_DS_functions as sd\n",
    "from datetime import *\n",
    "sd.steam.info()\n",
    "sd.steam.head(1)"
   ]
  },
  {
   "cell_type": "markdown",
   "id": "94e8a9c4-e261-4add-8e0e-2593a12e1b91",
   "metadata": {},
   "source": [
    "# Testing"
   ]
  },
  {
   "cell_type": "code",
   "execution_count": null,
   "id": "14ad9932-9de7-4192-a7b8-8d71c0647f0c",
   "metadata": {},
   "outputs": [],
   "source": [
    "sd.steam[(sd.steam[\"review\"].isnull())]"
   ]
  },
  {
   "cell_type": "code",
   "execution_count": null,
   "id": "dbe34f92-ef2c-4fc1-9633-49f3d0f4a4b0",
   "metadata": {},
   "outputs": [],
   "source": [
    "sd.steam.describe()\n",
    "sd.steam[\"app_name\"].describe()\n",
    "sd.steam[\"author.num_games_owned\"].describe()"
   ]
  },
  {
   "cell_type": "code",
   "execution_count": null,
   "id": "626b26ef-fd1b-4da3-928a-b60e4f2393db",
   "metadata": {},
   "outputs": [],
   "source": [
    "corr = sd.steam.corr()\n",
    "corr"
   ]
  },
  {
   "cell_type": "code",
   "execution_count": null,
   "id": "81d3cf4f-5827-4d30-851b-03a334d82ba4",
   "metadata": {},
   "outputs": [],
   "source": [
    "fig = sd.plt.figure(figsize=(15,15))\n",
    "sd.plt.matshow(corr, cmap=\"RdBu\", fignum=fig.number)\n",
    "sd.plt.xticks(range(len(corr.columns)), corr.columns, rotation=\"vertical\");\n",
    "sd.plt.yticks(range(len(corr.columns)), corr.columns);"
   ]
  },
  {
   "cell_type": "code",
   "execution_count": null,
   "id": "85d6eec2-025b-411b-a68d-5a13913d65b9",
   "metadata": {},
   "outputs": [],
   "source": [
    "sd.steam.info()\n",
    "sd.steam[\"app_name\"].drop_duplicates()"
   ]
  },
  {
   "cell_type": "markdown",
   "id": "96cf5fdf-f771-4f2e-8201-3456f1be0112",
   "metadata": {},
   "source": [
    "# RQ3"
   ]
  },
  {
   "cell_type": "markdown",
   "id": "2e58aa66-0386-4492-ad5c-612032e0f059",
   "metadata": {},
   "source": [
    "*Now it's important to understand the preferred time to do reviews.*\n",
    "   - What is the most common time that authors review an application? For example, authors usually write a review at 17:44.\n"
   ]
  },
  {
   "cell_type": "code",
   "execution_count": null,
   "id": "e4803544-6dfd-4b14-a954-f3a7b2108c4f",
   "metadata": {},
   "outputs": [],
   "source": [
    "sd.plt.figure(1, figsize=(60,20))\n",
    "barM, dicM = sd.numbersOfReviewForTime(sd.datetime_range(0,23,1))\n",
    "print(sd.Counter(dicM).most_common(3))\n",
    "sd.plt.figure(2, figsize=(60,20))\n",
    "barH, dicH = sd.numbersOfReviewForTime(sd.datetime_range(0,23,30))\n",
    "print(sd.Counter(dicH).most_common(3))"
   ]
  },
  {
   "cell_type": "markdown",
   "id": "94f7852c-830f-46a3-b51b-8c31979ee301",
   "metadata": {},
   "source": [
    "   - Create a function that receives as a parameter a list of time intervals and returns the plot the number of reviews for each of the intervals.\n"
   ]
  },
  {
   "cell_type": "code",
   "execution_count": null,
   "id": "62ff4eb4-5845-46b8-b4bf-b8851733eba5",
   "metadata": {},
   "outputs": [],
   "source": [
    "sd.numbersOfReviewForTime([[\"8:00\", \"10:00\"],[\"13:00\", \"18:00\"]])"
   ]
  },
  {
   "cell_type": "markdown",
   "id": "6a175273-3931-4306-a989-f441da56ac0c",
   "metadata": {},
   "source": [
    "    - Use the function that you created in the previous literal to plot the number of reviews between the following time intervals: \n",
    "    \n",
    "| Initial time | Final time |\n",
    "| ----------- | ----------- |\n",
    "|06:00:00 | 10:59:59|\n",
    "|11:00:00 | 13:59:59|\n",
    "|14:00:00 | 16:59:59|\n",
    "|17:00:00 | 19:59:59|\n",
    "|20:00:00 | 23:59:59|\n",
    "|00:00:00 | 02:59:59|\n",
    "|03:00:00 | 05:59:59|"
   ]
  },
  {
   "cell_type": "code",
   "execution_count": null,
   "id": "a8d0ff7d-370f-410a-8433-5de294d2c514",
   "metadata": {},
   "outputs": [],
   "source": [
    "sd.plt.figure(figsize=(15,15))\n",
    "sd.numbersOfReviewForTime([[\"06:00:00\", \"10:59:59\"],[\"11:00:00\", \"13:59:59\"], [\"14:00:00\",  \"16:59:59\"], [\"17:00:00\", \"19:59:59\"], [\"20:00:00\", \"23:59:59\"], [\"00:00:00\", \"02:59:59\"],[\"03:00:00\", \"05:59:59\"]]);"
   ]
  },
  {
   "cell_type": "markdown",
   "id": "e825a4bf-3a71-4d4b-a6b6-2ad1c48ea0ab",
   "metadata": {},
   "source": [
    "# RQ4"
   ]
  },
  {
   "cell_type": "code",
   "execution_count": null,
   "id": "c02eb6fe-42bf-4f08-82d7-738ebe63e2aa",
   "metadata": {},
   "outputs": [],
   "source": [
    "def reviewsForLanguages(dataset, languages):\n",
    "    dataout = dataset[(dataset.language == languages[0])]\n",
    "    \n",
    "    for x in languages[1:]:\n",
    "        \n",
    "        dataout = sd.pd.concat([dataset[(dataset.language == x)], dataout], ignore_index = True)\n",
    "        \n",
    "    return dataout\n",
    "    "
   ]
  },
  {
   "cell_type": "code",
   "execution_count": null,
   "id": "05db2381-0174-4d86-86c1-0f8bc0770e95",
   "metadata": {},
   "outputs": [],
   "source": [
    "reviewsForLanguages(sd.steam, [\"english\", \"italian\"])"
   ]
  },
  {
   "cell_type": "markdown",
   "id": "232233ec-25df-4e77-9b66-25564359b93f",
   "metadata": {},
   "source": [
    "# RQ5"
   ]
  },
  {
   "cell_type": "code",
   "execution_count": null,
   "id": "4e1ae692-65d1-4b7c-9ead-473c34a53a59",
   "metadata": {},
   "outputs": [],
   "source": [
    "sd.steam[[\"weighted_vote_score\", \"votes_helpful\", \"votes_funny\"]]"
   ]
  },
  {
   "cell_type": "markdown",
   "id": "f62e178d-1b71-4493-a497-2bd5225458b0",
   "metadata": {},
   "source": [
    "# RQ6"
   ]
  },
  {
   "cell_type": "code",
   "execution_count": null,
   "id": "82a3f428-11a9-4ad7-9252-d214ebebd34f",
   "metadata": {},
   "outputs": [],
   "source": [
    "group = sd.steam[[\"timestamp_created\", \"timestamp_updated\", \"author.steamid\"]].groupby([\"author.steamid\"])"
   ]
  },
  {
   "cell_type": "code",
   "execution_count": 61,
   "id": "e160580c-ab1c-414d-bd03-194edcea332a",
   "metadata": {},
   "outputs": [],
   "source": [
    "def created_updated_delta1():\n",
    "    \n",
    "    dataset = sd.steam[[\"timestamp_created\", \"timestamp_updated\", \"author.steamid\"]].groupby([\"author.steamid\"])\n",
    "    \n",
    "    dic = dict()\n",
    "    \n",
    "    for name, group in dataset:\n",
    "        dic[name] = group[\"timestamp_updated\"].iloc[0] - group[\"timestamp_created\"].iloc[0]\n",
    "        \n",
    "    out = sd.pd.DataFrame(dic.values(), columns= [\"timedelta\"], index = dic.keys())\n",
    "    \n",
    "    return out"
   ]
  },
  {
   "cell_type": "code",
   "execution_count": 48,
   "id": "b5b7215d-fc41-45bf-8819-e44fe5106555",
   "metadata": {},
   "outputs": [],
   "source": [
    "def created_updated_delta2():\n",
    "    \n",
    "    dataset = sd.steam[[\"timestamp_created\", \"timestamp_updated\", \"author.steamid\"]].groupby([\"author.steamid\"])\n",
    "    \n",
    "    dic = dict()\n",
    "    \n",
    "    for name, group in dataset:\n",
    "        dic[name] = group[\"timestamp_updated\"].iloc[0] - group[\"timestamp_created\"].iloc[0]\n",
    "        \n",
    "    out = sd.pd.DataFrame(dic.values(), columns= [x for x in range(0,_)], index = dic.keys())\n",
    "    \n",
    "    return out"
   ]
  },
  {
   "cell_type": "code",
   "execution_count": 62,
   "id": "93e55023-73da-48f5-a50a-3fb845561ae6",
   "metadata": {},
   "outputs": [],
   "source": [
    "dic = created_updated_delta1()"
   ]
  },
  {
   "cell_type": "code",
   "execution_count": 64,
   "id": "f3386751-12aa-4238-9210-1b10e7eb3e59",
   "metadata": {},
   "outputs": [
    {
     "data": {
      "text/plain": [
       "timedelta    0 days 00:14:07.920000\n",
       "Name: mean, dtype: object"
      ]
     },
     "execution_count": 64,
     "metadata": {},
     "output_type": "execute_result"
    }
   ],
   "source": [
    "dic.describe().loc[\"mean\"]"
   ]
  },
  {
   "cell_type": "code",
   "execution_count": 58,
   "id": "3ad58b2a-198e-4cda-b3ca-c2cddf222857",
   "metadata": {},
   "outputs": [],
   "source": []
  }
 ],
 "metadata": {
  "kernelspec": {
   "display_name": "Python 3",
   "language": "python",
   "name": "python3"
  },
  "language_info": {
   "codemirror_mode": {
    "name": "ipython",
    "version": 3
   },
   "file_extension": ".py",
   "mimetype": "text/x-python",
   "name": "python",
   "nbconvert_exporter": "python",
   "pygments_lexer": "ipython3",
   "version": "3.8.8"
  }
 },
 "nbformat": 4,
 "nbformat_minor": 5
}
