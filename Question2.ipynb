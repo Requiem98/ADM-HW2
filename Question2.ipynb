{
 "cells": [
  {
   "cell_type": "markdown",
   "id": "e1998915-efa4-4d80-8c3c-df58782df0c1",
   "metadata": {},
   "source": [
    "# RQ2"
   ]
  },
  {
   "cell_type": "code",
   "execution_count": 1,
   "id": "e080d7eb-f74d-4ea8-a4b0-9c4c88cd399c",
   "metadata": {},
   "outputs": [],
   "source": [
    "import pandas as pd\n",
    "import numpy as np\n",
    "import matplotlib.pyplot as plt"
   ]
  },
  {
   "cell_type": "code",
   "execution_count": 2,
   "id": "47aa1155-bbd6-4b98-8970-061035aea035",
   "metadata": {},
   "outputs": [],
   "source": [
    "def dateparse (time_in_secs):\n",
    "    return pd.to_datetime(time_in_secs,unit='s')"
   ]
  },
  {
   "cell_type": "code",
   "execution_count": 3,
   "id": "3230e8c3-cfc4-4a9d-89b6-df7e5f2f8803",
   "metadata": {},
   "outputs": [],
   "source": [
    "dataset = pd.read_csv('./steam_reviews.csv', header='infer', nrows=2000000, parse_dates=['timestamp_created', 'timestamp_updated', 'author.last_played'], date_parser=dateparse)\n"
   ]
  },
  {
   "cell_type": "code",
   "execution_count": 4,
   "id": "a0ec6161-f131-461e-b479-223e1e9715bf",
   "metadata": {},
   "outputs": [
    {
     "name": "stdout",
     "output_type": "stream",
     "text": [
      "<class 'pandas.core.frame.DataFrame'>\n",
      "RangeIndex: 2000000 entries, 0 to 1999999\n",
      "Data columns (total 23 columns):\n",
      " #   Column                          Dtype         \n",
      "---  ------                          -----         \n",
      " 0   Unnamed: 0                      int64         \n",
      " 1   app_id                          int64         \n",
      " 2   app_name                        object        \n",
      " 3   review_id                       int64         \n",
      " 4   language                        object        \n",
      " 5   review                          object        \n",
      " 6   timestamp_created               datetime64[ns]\n",
      " 7   timestamp_updated               datetime64[ns]\n",
      " 8   recommended                     bool          \n",
      " 9   votes_helpful                   int64         \n",
      " 10  votes_funny                     int64         \n",
      " 11  weighted_vote_score             float64       \n",
      " 12  comment_count                   int64         \n",
      " 13  steam_purchase                  bool          \n",
      " 14  received_for_free               bool          \n",
      " 15  written_during_early_access     bool          \n",
      " 16  author.steamid                  int64         \n",
      " 17  author.num_games_owned          int64         \n",
      " 18  author.num_reviews              int64         \n",
      " 19  author.playtime_forever         float64       \n",
      " 20  author.playtime_last_two_weeks  float64       \n",
      " 21  author.playtime_at_review       float64       \n",
      " 22  author.last_played              datetime64[ns]\n",
      "dtypes: bool(4), datetime64[ns](3), float64(4), int64(9), object(3)\n",
      "memory usage: 297.5+ MB\n"
     ]
    }
   ],
   "source": [
    "dataset.info()"
   ]
  },
  {
   "cell_type": "markdown",
   "id": "d70ea495-002f-47e8-b5ae-7e3ad936ffb1",
   "metadata": {},
   "source": [
    "#### 1 - Plot the number of reviews for each application in descending order."
   ]
  },
  {
   "cell_type": "markdown",
   "id": "3e209021-2436-4d20-9655-dbc97539ec44",
   "metadata": {},
   "source": [
    "I group the number of reviews by app name to see how many reviews each app received."
   ]
  },
  {
   "cell_type": "code",
   "execution_count": 5,
   "id": "1b65c091-17c9-41a6-b086-d949761ddd9b",
   "metadata": {},
   "outputs": [
    {
     "data": {
      "text/plain": [
       "app_name\n",
       "Garry's Mod                   655524\n",
       "The Witcher 3: Wild Hunt      469395\n",
       "Dead by Daylight              265446\n",
       "Portal 2                      232329\n",
       "Sid Meier's Civilization V    171404\n",
       "Counter-Strike: Source        118081\n",
       "Half-Life                      57320\n",
       "Half-Life 2: Episode Two       23500\n",
       "X Rebirth                       7001\n",
       "Name: review_id, dtype: int64"
      ]
     },
     "execution_count": 5,
     "metadata": {},
     "output_type": "execute_result"
    }
   ],
   "source": [
    "dataset.groupby('app_name').review_id.count().sort_values(ascending=False)"
   ]
  },
  {
   "cell_type": "code",
   "execution_count": 6,
   "id": "e01fe16e-3e2e-4b6b-b627-dce6f2a1125e",
   "metadata": {},
   "outputs": [
    {
     "data": {
      "text/plain": [
       "<AxesSubplot:title={'center':'Reviews by app_name'}, xlabel='app_name', ylabel='Number of reviews'>"
      ]
     },
     "execution_count": 6,
     "metadata": {},
     "output_type": "execute_result"
    },
    {
     "data": {
      "image/png": "[encoded data removed]",
      "text/plain": [
       "<Figure size 1296x648 with 1 Axes>"
      ]
     },
     "metadata": {
      "needs_background": "light"
     },
     "output_type": "display_data"
    }
   ],
   "source": [
    "dataset.groupby('app_name').review_id.count().sort_values(ascending=False).plot.bar(figsize=(18,9), xlabel='app_name', ylabel='Number of reviews', title='Reviews by app_name')"
   ]
  },
  {
   "cell_type": "markdown",
   "id": "9f8552a8-894a-41c6-a0d2-2e642bec9ca3",
   "metadata": {},
   "source": [
    "#### 2 - What applications have the best Weighted Vote Score?"
   ]
  },
  {
   "cell_type": "markdown",
   "id": "f6b3787b-25e8-49ca-b95e-ecbe8dea647e",
   "metadata": {},
   "source": [
    "I check the weighted vote score of the various apps, I sort them in descending order and see which apps have the best weighted vote scores."
   ]
  },
  {
   "cell_type": "code",
   "execution_count": 7,
   "id": "1ee851a9-f023-4045-b21f-7d690195df9f",
   "metadata": {},
   "outputs": [
    {
     "data": {
      "text/html": [
       "<div>\n",
       "<style scoped>\n",
       "    .dataframe tbody tr th:only-of-type {\n",
       "        vertical-align: middle;\n",
       "    }\n",
       "\n",
       "    .dataframe tbody tr th {\n",
       "        vertical-align: top;\n",
       "    }\n",
       "\n",
       "    .dataframe thead th {\n",
       "        text-align: right;\n",
       "    }\n",
       "</style>\n",
       "<table border=\"1\" class=\"dataframe\">\n",
       "  <thead>\n",
       "    <tr style=\"text-align: right;\">\n",
       "      <th></th>\n",
       "      <th>weighted_vote_score</th>\n",
       "    </tr>\n",
       "    <tr>\n",
       "      <th>app_name</th>\n",
       "      <th></th>\n",
       "    </tr>\n",
       "  </thead>\n",
       "  <tbody>\n",
       "    <tr>\n",
       "      <th>The Witcher 3: Wild Hunt</th>\n",
       "      <td>0.990385</td>\n",
       "    </tr>\n",
       "    <tr>\n",
       "      <th>Sid Meier's Civilization V</th>\n",
       "      <td>0.981034</td>\n",
       "    </tr>\n",
       "    <tr>\n",
       "      <th>Garry's Mod</th>\n",
       "      <td>0.978624</td>\n",
       "    </tr>\n",
       "    <tr>\n",
       "      <th>Half-Life 2: Episode Two</th>\n",
       "      <td>0.977236</td>\n",
       "    </tr>\n",
       "    <tr>\n",
       "      <th>Portal 2</th>\n",
       "      <td>0.971490</td>\n",
       "    </tr>\n",
       "    <tr>\n",
       "      <th>Dead by Daylight</th>\n",
       "      <td>0.971278</td>\n",
       "    </tr>\n",
       "    <tr>\n",
       "      <th>Counter-Strike: Source</th>\n",
       "      <td>0.969331</td>\n",
       "    </tr>\n",
       "    <tr>\n",
       "      <th>Half-Life</th>\n",
       "      <td>0.955650</td>\n",
       "    </tr>\n",
       "    <tr>\n",
       "      <th>X Rebirth</th>\n",
       "      <td>0.934387</td>\n",
       "    </tr>\n",
       "  </tbody>\n",
       "</table>\n",
       "</div>"
      ],
      "text/plain": [
       "                            weighted_vote_score\n",
       "app_name                                       \n",
       "The Witcher 3: Wild Hunt               0.990385\n",
       "Sid Meier's Civilization V             0.981034\n",
       "Garry's Mod                            0.978624\n",
       "Half-Life 2: Episode Two               0.977236\n",
       "Portal 2                               0.971490\n",
       "Dead by Daylight                       0.971278\n",
       "Counter-Strike: Source                 0.969331\n",
       "Half-Life                              0.955650\n",
       "X Rebirth                              0.934387"
      ]
     },
     "execution_count": 7,
     "metadata": {},
     "output_type": "execute_result"
    }
   ],
   "source": [
    "dataset[['app_name', 'weighted_vote_score']].groupby(['app_name']).max().sort_values(['weighted_vote_score'],ascending=False)"
   ]
  },
  {
   "cell_type": "markdown",
   "id": "a5786a6a-3bb0-4505-8a28-7106e6d50290",
   "metadata": {},
   "source": [
    "#### 3 - Which applications have the most and the least recommendations?"
   ]
  },
  {
   "cell_type": "markdown",
   "id": "96e8a08e-1c13-4123-a892-89ef41dcf89c",
   "metadata": {},
   "source": [
    "Being \"recommended\" a boolean variable, I sum the various values for each app, I sort them in descending order and in this way I see which apps are more recommended and which are less recommended."
   ]
  },
  {
   "cell_type": "markdown",
   "id": "00f955e5-7a34-452f-bf72-6dcbde20ba03",
   "metadata": {},
   "source": [
    "Most recommended apps:"
   ]
  },
  {
   "cell_type": "code",
   "execution_count": 13,
   "id": "3b54205e-c0ca-49da-974d-7e2ff38319f7",
   "metadata": {},
   "outputs": [
    {
     "data": {
      "text/plain": [
       "app_name\n",
       "Garry's Mod                   632558\n",
       "The Witcher 3: Wild Hunt      460252\n",
       "Portal 2                      229470\n",
       "Dead by Daylight              227356\n",
       "Sid Meier's Civilization V    164797\n",
       "Name: recommended, dtype: int64"
      ]
     },
     "execution_count": 13,
     "metadata": {},
     "output_type": "execute_result"
    }
   ],
   "source": [
    "dataset.groupby([\"app_name\"])[\"recommended\"].sum().sort_values(ascending=False).head()"
   ]
  },
  {
   "cell_type": "markdown",
   "id": "2b4f71b0-ea55-486e-a7d0-83f965fdcf34",
   "metadata": {},
   "source": [
    "Less recommended apps:"
   ]
  },
  {
   "cell_type": "code",
   "execution_count": 14,
   "id": "d7477038-4aec-43aa-a5f2-279f6c87cee2",
   "metadata": {},
   "outputs": [
    {
     "data": {
      "text/plain": [
       "app_name\n",
       "Sid Meier's Civilization V    164797\n",
       "Counter-Strike: Source        113430\n",
       "Half-Life                      55312\n",
       "Half-Life 2: Episode Two       22704\n",
       "X Rebirth                       2970\n",
       "Name: recommended, dtype: int64"
      ]
     },
     "execution_count": 14,
     "metadata": {},
     "output_type": "execute_result"
    }
   ],
   "source": [
    "dataset.groupby([\"app_name\"])[\"recommended\"].sum().sort_values(ascending=False).tail()"
   ]
  },
  {
   "cell_type": "markdown",
   "id": "e1e939e3-9fcd-4ea1-8b10-da6abadf3143",
   "metadata": {},
   "source": [
    "#### 4 - How many of these applications were purchased, and how many were given for free?"
   ]
  },
  {
   "cell_type": "markdown",
   "id": "61458da3-9a08-4077-93a6-8fdb58c75dcc",
   "metadata": {},
   "source": [
    "I consider the apps found in the previous point, the most recommended and the least recommended, and I see how many people have purchased a particular app on steam or received it for free.\n",
    "As in the previous point, being \"steam_purchase\" and \"received_for_free\" boolean variables, I added the various values that the variables assume for each application to see how many people purchased the app and how many received it for free."
   ]
  },
  {
   "cell_type": "code",
   "execution_count": 10,
   "id": "50e11bce-ea78-4e34-ae70-db23c19653a1",
   "metadata": {},
   "outputs": [
    {
     "data": {
      "text/html": [
       "<div>\n",
       "<style scoped>\n",
       "    .dataframe tbody tr th:only-of-type {\n",
       "        vertical-align: middle;\n",
       "    }\n",
       "\n",
       "    .dataframe tbody tr th {\n",
       "        vertical-align: top;\n",
       "    }\n",
       "\n",
       "    .dataframe thead th {\n",
       "        text-align: right;\n",
       "    }\n",
       "</style>\n",
       "<table border=\"1\" class=\"dataframe\">\n",
       "  <thead>\n",
       "    <tr style=\"text-align: right;\">\n",
       "      <th></th>\n",
       "      <th>recommended</th>\n",
       "      <th>received_for_free</th>\n",
       "      <th>steam_purchase</th>\n",
       "    </tr>\n",
       "    <tr>\n",
       "      <th>app_name</th>\n",
       "      <th></th>\n",
       "      <th></th>\n",
       "      <th></th>\n",
       "    </tr>\n",
       "  </thead>\n",
       "  <tbody>\n",
       "    <tr>\n",
       "      <th>Garry's Mod</th>\n",
       "      <td>632558</td>\n",
       "      <td>24765</td>\n",
       "      <td>551250</td>\n",
       "    </tr>\n",
       "    <tr>\n",
       "      <th>The Witcher 3: Wild Hunt</th>\n",
       "      <td>460252</td>\n",
       "      <td>5748</td>\n",
       "      <td>429409</td>\n",
       "    </tr>\n",
       "    <tr>\n",
       "      <th>Portal 2</th>\n",
       "      <td>229470</td>\n",
       "      <td>5779</td>\n",
       "      <td>182952</td>\n",
       "    </tr>\n",
       "    <tr>\n",
       "      <th>Dead by Daylight</th>\n",
       "      <td>227356</td>\n",
       "      <td>11413</td>\n",
       "      <td>194118</td>\n",
       "    </tr>\n",
       "    <tr>\n",
       "      <th>Sid Meier's Civilization V</th>\n",
       "      <td>164797</td>\n",
       "      <td>1660</td>\n",
       "      <td>105467</td>\n",
       "    </tr>\n",
       "    <tr>\n",
       "      <th>Counter-Strike: Source</th>\n",
       "      <td>113430</td>\n",
       "      <td>5082</td>\n",
       "      <td>74817</td>\n",
       "    </tr>\n",
       "    <tr>\n",
       "      <th>Half-Life</th>\n",
       "      <td>55312</td>\n",
       "      <td>2799</td>\n",
       "      <td>43875</td>\n",
       "    </tr>\n",
       "    <tr>\n",
       "      <th>Half-Life 2: Episode Two</th>\n",
       "      <td>22704</td>\n",
       "      <td>897</td>\n",
       "      <td>17538</td>\n",
       "    </tr>\n",
       "    <tr>\n",
       "      <th>X Rebirth</th>\n",
       "      <td>2970</td>\n",
       "      <td>35</td>\n",
       "      <td>4934</td>\n",
       "    </tr>\n",
       "  </tbody>\n",
       "</table>\n",
       "</div>"
      ],
      "text/plain": [
       "                            recommended  received_for_free  steam_purchase\n",
       "app_name                                                                  \n",
       "Garry's Mod                      632558              24765          551250\n",
       "The Witcher 3: Wild Hunt         460252               5748          429409\n",
       "Portal 2                         229470               5779          182952\n",
       "Dead by Daylight                 227356              11413          194118\n",
       "Sid Meier's Civilization V       164797               1660          105467\n",
       "Counter-Strike: Source           113430               5082           74817\n",
       "Half-Life                         55312               2799           43875\n",
       "Half-Life 2: Episode Two          22704                897           17538\n",
       "X Rebirth                          2970                 35            4934"
      ]
     },
     "execution_count": 10,
     "metadata": {},
     "output_type": "execute_result"
    }
   ],
   "source": [
    "dataset[['app_name', 'recommended', 'received_for_free', 'steam_purchase']].groupby(['app_name']).sum().sort_values(['recommended'], ascending=False)"
   ]
  },
  {
   "cell_type": "code",
   "execution_count": null,
   "id": "4d576231-f937-4117-b3b5-944e6254672c",
   "metadata": {},
   "outputs": [],
   "source": []
  },
  {
   "cell_type": "code",
   "execution_count": null,
   "id": "30552de5-f8a0-42f5-a219-9ba056137f99",
   "metadata": {},
   "outputs": [],
   "source": []
  },
  {
   "cell_type": "code",
   "execution_count": null,
   "id": "f3632571-9da6-4723-80f9-6249c027ce74",
   "metadata": {},
   "outputs": [],
   "source": []
  },
  {
   "cell_type": "code",
   "execution_count": null,
   "id": "ef39664e-bb87-4795-9ce3-63a4e59fd5e8",
   "metadata": {},
   "outputs": [],
   "source": []
  }
 ],
 "metadata": {
  "kernelspec": {
   "display_name": "Python 3",
   "language": "python",
   "name": "python3"
  },
  "language_info": {
   "codemirror_mode": {
    "name": "ipython",
    "version": 3
   },
   "file_extension": ".py",
   "mimetype": "text/x-python",
   "name": "python",
   "nbconvert_exporter": "python",
   "pygments_lexer": "ipython3",
   "version": "3.8.8"
  }
 },
 "nbformat": 4,
 "nbformat_minor": 5
}
