{
 "cells": [
  {
   "cell_type": "markdown",
   "id": "29f21ea9-c365-432b-a576-3589ee42bb00",
   "metadata": {},
   "source": [
    "# RQ5"
   ]
  },
  {
   "cell_type": "code",
   "execution_count": null,
   "id": "6c125839-6982-4b95-af9e-9ab375b69e04",
   "metadata": {},
   "outputs": [],
   "source": [
    "import pandas as pd\n",
    "import numpy as np\n",
    "import matplotlib.pyplot as plt"
   ]
  },
  {
   "cell_type": "code",
   "execution_count": null,
   "id": "9dabf4ad-a33a-45ec-87fd-6071d3a6f116",
   "metadata": {},
   "outputs": [],
   "source": [
    "def dateparse (time_in_secs):\n",
    "    return pd.to_datetime(time_in_secs,unit='s')"
   ]
  },
  {
   "cell_type": "code",
   "execution_count": null,
   "id": "0db2370e-5da0-436b-9e0e-a2da5b9d4717",
   "metadata": {},
   "outputs": [],
   "source": [
    "dataset = pd.read_csv('./steam_reviews.csv', header='infer', nrows=20000, parse_dates=['timestamp_created', 'timestamp_updated', 'author.last_played'], date_parser=dateparse)\n"
   ]
  },
  {
   "cell_type": "code",
   "execution_count": null,
   "id": "67fb76b2-e15f-4048-94d3-a0317748aef7",
   "metadata": {},
   "outputs": [],
   "source": [
    "dataset['author.playtime_forever']=pd.to_timedelta(dataset['author.playtime_forever'], unit='m')"
   ]
  },
  {
   "cell_type": "code",
   "execution_count": null,
   "id": "6a3339fe-5c6a-494a-8120-d454ed9cc183",
   "metadata": {},
   "outputs": [],
   "source": [
    "dataset.info()"
   ]
  },
  {
   "cell_type": "code",
   "execution_count": null,
   "id": "051172ad-550a-4fcb-ae8d-321300b02b25",
   "metadata": {},
   "outputs": [],
   "source": [
    "dataset[(dataset[\"author.num_reviews\"] == 2063)]"
   ]
  },
  {
   "cell_type": "markdown",
   "id": "7a991dae-8fb9-4df1-aa52-538aa895c4bb",
   "metadata": {},
   "source": [
    "#### 1 - Plot the top 10 most popular reviewers and the number of reviews."
   ]
  },
  {
   "cell_type": "markdown",
   "id": "8c990ab8-bac1-4b89-a56a-1970372dc1a8",
   "metadata": {},
   "source": [
    "I look at the \"author.num_reviews\" variable to see how many reviews a person has done for a given application. I add up the various values that the variable takes for the various applications to see the total number of reviews that a given person has made. Finally, I group these values by the author's name (or better, by the author's identification code -> \"author.steamid\").\n",
    "\n",
    "I sort in descending order to see which are the most popular authors."
   ]
  },
  {
   "cell_type": "code",
   "execution_count": null,
   "id": "a523203b-8d42-4cbc-a57c-2b4b6adb650f",
   "metadata": {},
   "outputs": [],
   "source": [
    "dataset.groupby([\"author.steamid\"])[\"author.num_reviews\"].first().sort_values(ascending=False).head(10)"
   ]
  },
  {
   "cell_type": "code",
   "execution_count": null,
   "id": "0ef39fec-9a32-4b18-8ec0-671ee2c35bbe",
   "metadata": {},
   "outputs": [],
   "source": [
    "def mostPopularReviewers(n):\n",
    "    return dataset[[\"author.steamid\", \"author.num_reviews\"]].groupby([\"author.steamid\"]).first().sort_values(\"author.num_reviews\",ascending=False).head(n)"
   ]
  },
  {
   "cell_type": "code",
   "execution_count": null,
   "id": "c2614573-f1e5-452b-b9d8-10822f2c0b58",
   "metadata": {},
   "outputs": [],
   "source": [
    "mostPopularReviewers(1).index[0]"
   ]
  },
  {
   "cell_type": "code",
   "execution_count": null,
   "id": "594e3e9f-eed1-4910-be57-5be6c2a9b729",
   "metadata": {},
   "outputs": [],
   "source": [
    "dataset[dataset['author.steamid']==mostPopularReviewers(1).index[0]].app_name.unique()"
   ]
  },
  {
   "cell_type": "code",
   "execution_count": null,
   "id": "36aeb392-0e47-4a83-afdb-0092e780e2a2",
   "metadata": {},
   "outputs": [],
   "source": [
    "def mostPopularReviewers_plot(n):\n",
    "\n",
    "    data = mostPopularReviewers(n)\n",
    "\n",
    "    height = data[\"author.num_reviews\"].array\n",
    "    val = list(map(str,data.index))\n",
    "\n",
    "    my_cmap = plt.get_cmap('Greys')\n",
    "    my_norm = plt.Normalize(vmin=0,vmax=(data[\"author.num_reviews\"].max())*0.2)\n",
    "    \n",
    "    plt.figure(figsize=(30,5))\n",
    "    \n",
    "    plot = plt.bar(val, height, color=my_cmap(my_norm(height)));\n",
    "    plt.xlabel('author.steamid', labelpad=25.0, size=\"xx-large\")\n",
    "    plt.ylabel('Number of reviews', labelpad=25.0, size=\"xx-large\")\n",
    "    plt.title('Reviews by author')\n",
    "    if(n > 10):\n",
    "        plt.xticks(rotation=\"vertical\")\n",
    "        \n",
    "    return plot\n",
    " "
   ]
  },
  {
   "cell_type": "code",
   "execution_count": null,
   "id": "07ad1e3c-d0bc-4d16-876f-135f93ebf117",
   "metadata": {},
   "outputs": [],
   "source": [
    "dataset.groupby([\"author.steamid\"])[\"author.num_reviews\"].sum().sort_values(ascending=False).head(10).plot.bar(figsize=(18,9), xlabel='author.steamid', ylabel='Number of reviews', title='Reviews by author')"
   ]
  },
  {
   "cell_type": "code",
   "execution_count": null,
   "id": "b749a8c8-8c2a-4cf9-bd05-3774523b4df1",
   "metadata": {},
   "outputs": [],
   "source": [
    "mostPopularReviewers_plot(11);"
   ]
  },
  {
   "cell_type": "markdown",
   "id": "5e387ae6-541f-47c6-ac1f-b83e90532cb5",
   "metadata": {},
   "source": [
    "#### 2 - What applications did the most popular author review?"
   ]
  },
  {
   "cell_type": "markdown",
   "id": "0c6643f0-e57e-43c7-a1a5-47f409447b0f",
   "metadata": {},
   "source": [
    "I consider the identification code of the most popular author and I check which applications he has reviewed."
   ]
  },
  {
   "cell_type": "code",
   "execution_count": null,
   "id": "35cab56c-162c-439d-878f-691bbf3f32df",
   "metadata": {},
   "outputs": [],
   "source": [
    "dataset[dataset['author.steamid']==76561198202529859].app_name.unique()"
   ]
  },
  {
   "cell_type": "code",
   "execution_count": null,
   "id": "44e4e4fd-3f44-4f95-9021-1003f352bcc0",
   "metadata": {},
   "outputs": [],
   "source": [
    "dataset.info()"
   ]
  },
  {
   "cell_type": "code",
   "execution_count": null,
   "id": "2d47a1c7-9de1-490d-bda2-e6a555f6278b",
   "metadata": {},
   "outputs": [],
   "source": [
    "dataset[['author.steamid', \"steam_purchase\", \"received_for_free\"]].groupby('author.steamid', as_index=False).sum()"
   ]
  },
  {
   "cell_type": "code",
   "execution_count": null,
   "id": "b97988e1-3eda-44d2-a600-4225e6ed7510",
   "metadata": {},
   "outputs": [],
   "source": [
    "t = dataset[['author.steamid',\"app_name\", \"timestamp_created\", \"author.num_reviews\",\"steam_purchase\",'received_for_free', \"author.playtime_forever\", \"author.num_games_owned\"]]"
   ]
  },
  {
   "cell_type": "code",
   "execution_count": null,
   "id": "60953e90-0e04-422f-8c26-1099b3c5426a",
   "metadata": {},
   "outputs": [],
   "source": [
    "t[dataset['author.steamid']==76561198125392509]"
   ]
  },
  {
   "cell_type": "markdown",
   "id": "7acdf3a0-d7f7-406d-a89b-372627b6a09f",
   "metadata": {},
   "source": [
    "#### 3 - How many applications did he purchase, and how many did he get as free? Provide the number (count) and the percentage."
   ]
  },
  {
   "cell_type": "code",
   "execution_count": null,
   "id": "32acc681-2ae5-4e34-bd4e-157f1a12a8c6",
   "metadata": {},
   "outputs": [],
   "source": [
    "def percentageOfReceived():\n",
    "    \n",
    "    freeAndPurchase = dataset[['author.steamid', \"steam_purchase\", \"received_for_free\"]].groupby('author.steamid', as_index=False).sum()\n",
    "    \n",
    "    freeAndPurchase = freeAndPurchase[freeAndPurchase['author.steamid']==mostPopularReviewers(1).index[0]]\n",
    "   \n",
    "    percPurchase = freeAndPurchase[[\"steam_purchase\", \"received_for_free\"]].apply(lambda row: row[\"steam_purchase\"]/(row[\"steam_purchase\"] + row[\"received_for_free\"]), axis=1)\n",
    "    \n",
    "    percFree = freeAndPurchase[[\"steam_purchase\", \"received_for_free\"]].apply(lambda row: row[\"received_for_free\"]/(row[\"steam_purchase\"] + row[\"received_for_free\"]),axis=1)\n",
    "    \n",
    "    final = freeAndPurchase\n",
    "    \n",
    "    final[\"percentage_of_purchase\"] = percPurchase\n",
    "    final[\"percentage_of_free\"] = percFree\n",
    "    \n",
    "    return final"
   ]
  },
  {
   "cell_type": "code",
   "execution_count": null,
   "id": "589bb548-5b79-4a78-9ff2-1d2fbc42fa2a",
   "metadata": {},
   "outputs": [],
   "source": []
  },
  {
   "cell_type": "code",
   "execution_count": null,
   "id": "018ff4fc-b601-46bc-9d54-49e8a14f4ecb",
   "metadata": {},
   "outputs": [],
   "source": [
    "percentageOfReceived()"
   ]
  },
  {
   "cell_type": "markdown",
   "id": "d27026ec-033f-4d40-8b2c-e31204ddb970",
   "metadata": {},
   "source": [
    "I check among the apps he reviewed which ones he bought on steam and which ones he didn't buy on steam and how many are these apps."
   ]
  },
  {
   "cell_type": "code",
   "execution_count": null,
   "id": "7d5750d7-a0a5-4366-bcca-7e1d9373385b",
   "metadata": {},
   "outputs": [],
   "source": [
    "dataset[(dataset['author.steamid']==76561197974092119) & (dataset['steam_purchase']==True)].app_name.unique()"
   ]
  },
  {
   "cell_type": "code",
   "execution_count": null,
   "id": "ef26d547-c87b-4c71-8ee8-a5fef3857303",
   "metadata": {},
   "outputs": [],
   "source": [
    "dataset[(dataset['author.steamid']==76561197974092119) & (dataset['steam_purchase']==False)].app_name.unique()"
   ]
  },
  {
   "cell_type": "code",
   "execution_count": null,
   "id": "60ea276b-3139-4a53-ad0e-f8012f877542",
   "metadata": {},
   "outputs": [],
   "source": [
    "dataset[(dataset['author.steamid']==76561197974092119) & (dataset['steam_purchase']==False)].app_name.nunique()"
   ]
  },
  {
   "cell_type": "markdown",
   "id": "a1a3987b-53b4-43ba-b9cb-336ed14bb047",
   "metadata": {},
   "source": [
    "I see that this person hasn't bought any apps on steam."
   ]
  },
  {
   "cell_type": "markdown",
   "id": "ab11d0be-582b-4a76-8a16-bf28d8fc0c57",
   "metadata": {},
   "source": [
    "I check how many apps the author has received for free and how many are these apps."
   ]
  },
  {
   "cell_type": "code",
   "execution_count": null,
   "id": "a5e89068-4796-46c3-b5a3-6437478c624c",
   "metadata": {},
   "outputs": [],
   "source": [
    "dataset[(dataset['author.steamid']==76561197974092119) & (dataset['received_for_free']==True)].app_name.unique()"
   ]
  },
  {
   "cell_type": "code",
   "execution_count": null,
   "id": "bedd6024-714d-4978-a4f8-c94fde8958ea",
   "metadata": {},
   "outputs": [],
   "source": [
    "dataset[(dataset['author.steamid']==76561197974092119) & (dataset['received_for_free']==True)].app_name.nunique()"
   ]
  },
  {
   "cell_type": "markdown",
   "id": "782ece86-f54d-4483-8dde-0d0149018699",
   "metadata": {},
   "source": [
    "I calculate the percentage of apps received for free."
   ]
  },
  {
   "cell_type": "code",
   "execution_count": null,
   "id": "3d96ffb0-d92a-4921-b7aa-1fe0b2309671",
   "metadata": {},
   "outputs": [],
   "source": [
    "ds1=dataset[dataset['author.steamid']==76561197974092119].app_name.nunique()\n",
    "ds2=dataset[(dataset['author.steamid']==76561197974092119) & (dataset['received_for_free']==True)].app_name.nunique()\n",
    "perc1=ds2/ds1*100\n",
    "perc1"
   ]
  },
  {
   "cell_type": "markdown",
   "id": "0eeb1b98-d2c9-4512-8ec3-5eeca85fc336",
   "metadata": {},
   "source": [
    "I check how many apps the author has not received for free and how many are these apps."
   ]
  },
  {
   "cell_type": "code",
   "execution_count": null,
   "id": "9e254baa-679f-421f-929c-50e6dc6c2613",
   "metadata": {},
   "outputs": [],
   "source": [
    "dataset[(dataset['author.steamid']==76561197974092119) & (dataset['received_for_free']==False)].app_name.unique()"
   ]
  },
  {
   "cell_type": "code",
   "execution_count": null,
   "id": "da3490ce-9100-4b01-bff8-0358c0eed1c3",
   "metadata": {},
   "outputs": [],
   "source": [
    "dataset[(dataset['author.steamid']==76561197974092119) & (dataset['received_for_free']==False)].app_name.nunique()"
   ]
  },
  {
   "cell_type": "markdown",
   "id": "3bd36db8-4c6a-4be1-a6ab-224ce9a5d804",
   "metadata": {},
   "source": [
    "I calculate the percentage of apps not received for free."
   ]
  },
  {
   "cell_type": "code",
   "execution_count": null,
   "id": "77bd1080-950b-4918-9496-20288770508d",
   "metadata": {},
   "outputs": [],
   "source": [
    "ds3=dataset[(dataset['author.steamid']==76561197974092119) & (dataset['received_for_free']==False)].app_name.nunique()\n",
    "perc2=ds3/ds1*100\n",
    "perc2"
   ]
  },
  {
   "cell_type": "markdown",
   "id": "a8a85cfb-e97c-4238-a35a-a7d9fb50ed03",
   "metadata": {},
   "source": [
    "#### 4 - How many of the applications he purchased reviewed positively, and how many negatively? How about the applications he received for free?"
   ]
  },
  {
   "cell_type": "markdown",
   "id": "f8cdf93c-07ce-4bc4-9e96-3f272a917b43",
   "metadata": {},
   "source": [
    "I check among the apps that he has reviewed and received for free which apps he recommended and which he did not recommend."
   ]
  },
  {
   "cell_type": "code",
   "execution_count": null,
   "id": "4a54297c-b70a-40d9-92b2-dc703c557602",
   "metadata": {},
   "outputs": [],
   "source": [
    "dataset[(dataset['author.steamid']==76561197974092119) & (dataset['received_for_free']==True) & (dataset['recommended']==True)].app_name.unique()"
   ]
  },
  {
   "cell_type": "code",
   "execution_count": null,
   "id": "2c156756-2216-4f0d-8c63-4148c5ac7e56",
   "metadata": {},
   "outputs": [],
   "source": [
    "dataset[(dataset['author.steamid']==76561197974092119) & (dataset['received_for_free']==True) & (dataset['recommended']==False)].app_name.unique()"
   ]
  },
  {
   "cell_type": "markdown",
   "id": "9458a83c-2479-41b5-b150-06321dab5411",
   "metadata": {},
   "source": [
    "I check among the apps that he has reviewed and he has not received for free which apps he has recommended and which he has not recommended"
   ]
  },
  {
   "cell_type": "code",
   "execution_count": null,
   "id": "218e496d-b45a-4c96-abec-597f0348e223",
   "metadata": {},
   "outputs": [],
   "source": [
    "dataset[(dataset['author.steamid']==76561197974092119) & (dataset['received_for_free']==False) & (dataset['recommended']==True)].app_name.unique()"
   ]
  },
  {
   "cell_type": "code",
   "execution_count": null,
   "id": "35668e70-f029-4eef-975a-9b5e7ccdabb7",
   "metadata": {},
   "outputs": [],
   "source": [
    "dataset[(dataset['author.steamid']==76561197974092119) & (dataset['received_for_free']==False) & (dataset['recommended']==False)].app_name.unique()"
   ]
  },
  {
   "cell_type": "code",
   "execution_count": null,
   "id": "5c5bd977-c894-46bb-b40f-bb97d62de3ae",
   "metadata": {},
   "outputs": [],
   "source": []
  },
  {
   "cell_type": "code",
   "execution_count": null,
   "id": "c9e4d68d-999d-4e5f-9122-b677e61e1bde",
   "metadata": {},
   "outputs": [],
   "source": []
  },
  {
   "cell_type": "code",
   "execution_count": null,
   "id": "5e9f1f7c-10a0-45b6-b317-d02b0f29e71f",
   "metadata": {},
   "outputs": [],
   "source": [
    "def reviewedApplicationFromTheMostPopularReviewer():\n",
    "    return dataset[dataset['author.steamid']==mostPopularReviewers(1).index[0]].app_name"
   ]
  },
  {
   "cell_type": "code",
   "execution_count": null,
   "id": "0456fc45-ca43-4bcd-b3c5-21fb1ec8b707",
   "metadata": {},
   "outputs": [],
   "source": [
    "t = reviewedApplicationFromTheMostPopularReviewer()"
   ]
  },
  {
   "cell_type": "code",
   "execution_count": null,
   "id": "3a0b6b05-6509-4311-a006-3a3f1e6dd786",
   "metadata": {},
   "outputs": [],
   "source": [
    "h = dataset[['author.steamid', \"recommended\", \"steam_purchase\", \"received_for_free\"]]"
   ]
  },
  {
   "cell_type": "code",
   "execution_count": null,
   "id": "66a8c610-1bca-49df-abac-c4971b8e536f",
   "metadata": {},
   "outputs": [],
   "source": [
    "h = h[h['author.steamid']==mostPopularReviewers(1).index[0]]"
   ]
  },
  {
   "cell_type": "code",
   "execution_count": null,
   "id": "bfa6d360-ae9a-40ba-9ced-4990a88c58c1",
   "metadata": {},
   "outputs": [],
   "source": [
    "h"
   ]
  },
  {
   "cell_type": "code",
   "execution_count": null,
   "id": "af9bda23-514c-43fb-878e-3bfaf8c74993",
   "metadata": {},
   "outputs": [],
   "source": []
  },
  {
   "cell_type": "code",
   "execution_count": null,
   "id": "59fac8a1-ddbe-49e9-b211-6cb7ddb27ea5",
   "metadata": {},
   "outputs": [],
   "source": []
  },
  {
   "cell_type": "code",
   "execution_count": null,
   "id": "0acb3b32-1ae6-4e6c-8cf0-ae43b5a4db31",
   "metadata": {},
   "outputs": [],
   "source": []
  },
  {
   "cell_type": "code",
   "execution_count": null,
   "id": "26f37752-067f-4f83-926e-dcfbec709796",
   "metadata": {},
   "outputs": [],
   "source": [
    "h.groupby(\"recommended\", as_index=False).sum(numeric_only=True).drop([\"author.steamid\"], axis=1)"
   ]
  },
  {
   "cell_type": "code",
   "execution_count": null,
   "id": "6fa87d03-86a9-489e-b716-5b152702540b",
   "metadata": {},
   "outputs": [],
   "source": []
  },
  {
   "cell_type": "code",
   "execution_count": null,
   "id": "2a95f989-0c6a-45ef-8b31-967c37c1f2d1",
   "metadata": {},
   "outputs": [],
   "source": []
  }
 ],
 "metadata": {
  "kernelspec": {
   "display_name": "Python 3",
   "language": "python",
   "name": "python3"
  },
  "language_info": {
   "codemirror_mode": {
    "name": "ipython",
    "version": 3
   },
   "file_extension": ".py",
   "mimetype": "text/x-python",
   "name": "python",
   "nbconvert_exporter": "python",
   "pygments_lexer": "ipython3",
   "version": "3.8.8"
  }
 },
 "nbformat": 4,
 "nbformat_minor": 5
}
