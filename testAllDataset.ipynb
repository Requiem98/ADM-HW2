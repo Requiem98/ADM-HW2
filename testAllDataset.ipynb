{
 "cells": [
  {
   "cell_type": "code",
   "execution_count": 1,
   "id": "d0561193-990f-469a-90c0-2eca3a28aeec",
   "metadata": {},
   "outputs": [
    {
     "name": "stderr",
     "output_type": "stream",
     "text": [
      "/home/amedeo/Programmi/anaconda3/lib/python3.8/site-packages/numpy/lib/arraysetops.py:583: FutureWarning: elementwise comparison failed; returning scalar instead, but in the future will perform elementwise comparison\n",
      "  mask |= (ar1 == a)\n"
     ]
    }
   ],
   "source": [
    "import DS_functions as df"
   ]
  },
  {
   "cell_type": "markdown",
   "id": "6c51081b-c18e-43ba-8cd2-bc23bd615f8e",
   "metadata": {},
   "source": [
    "# RQ3 test"
   ]
  },
  {
   "cell_type": "markdown",
   "id": "494bdeda-d09f-484a-8b75-6bdb80559c8a",
   "metadata": {},
   "source": [
    "*Now it's important to understand the preferred time to do reviews.*\n",
    "   - What is the most common time that authors review an application? For example, authors usually write a review at 17:44.\n"
   ]
  },
  {
   "cell_type": "code",
   "execution_count": null,
   "id": "aa11d360-4340-4d03-823e-46f28879b48d",
   "metadata": {},
   "outputs": [],
   "source": [
    "df.plt.figure(1, figsize=(60,20))\n",
    "df.numbersOfReviewForTime(df.datetime_range(0,23,60));\n",
    "df.plt.figure(2, figsize=(60,20))\n",
    "df.numbersOfReviewForTime(df.datetime_range(0,23,15));"
   ]
  },
  {
   "cell_type": "markdown",
   "id": "3cf85e7a-046c-4bce-b605-bd72cea3f21f",
   "metadata": {},
   "source": [
    "   - Create a function that receives as a parameter a list of time intervals and returns the plot the number of reviews for each of the intervals.\n"
   ]
  },
  {
   "cell_type": "code",
   "execution_count": null,
   "id": "9346862c-2bba-460c-9b79-c5d6ca4ecc95",
   "metadata": {},
   "outputs": [],
   "source": [
    "df.numbersOfReviewForTime([[\"8:00\", \"10:00\"],[\"13:00\", \"18:00\"]])"
   ]
  },
  {
   "cell_type": "markdown",
   "id": "cb8f4969-7ed6-4b92-91ac-3246d0618318",
   "metadata": {},
   "source": [
    "    - Use the function that you created in the previous literal to plot the number of reviews between the following time intervals: \n",
    "    \n",
    "| Initial time | Final time |\n",
    "| ----------- | ----------- |\n",
    "|06:00:00 | 10:59:59|\n",
    "|11:00:00 | 13:59:59|\n",
    "|14:00:00 | 16:59:59|\n",
    "|17:00:00 | 19:59:59|\n",
    "|20:00:00 | 23:59:59|\n",
    "|00:00:00 | 02:59:59|\n",
    "|03:00:00 | 05:59:59|"
   ]
  },
  {
   "cell_type": "code",
   "execution_count": null,
   "id": "75420aa5-0455-4858-a60d-3a3865b28262",
   "metadata": {},
   "outputs": [],
   "source": [
    "df.plt.figure(figsize=(15,15))\n",
    "df.numbersOfReviewForTime([[\"06:00:00\", \"10:59:59\"],[\"11:00:00\", \"13:59:59\"], [\"14:00:00\",  \"16:59:59\"], [\"17:00:00\", \"19:59:59\"], [\"20:00:00\", \"23:59:59\"], [\"00:00:00\", \"02:59:59\"],[\"03:00:00\", \"05:59:59\"]]);"
   ]
  },
  {
   "cell_type": "markdown",
   "id": "cc6d38cf-3709-42de-99cb-f0f090c27811",
   "metadata": {},
   "source": [
    "# RQ6 test\n",
    "   - What is the average time (days and minutes) a user lets pass before he updates a review?\n"
   ]
  },
  {
   "cell_type": "code",
   "execution_count": 2,
   "id": "2059d528-2430-4460-86f4-998b704ff750",
   "metadata": {},
   "outputs": [],
   "source": [
    "t = df.steam[[\"timestamp_created\", \"timestamp_updated\"]].apply(lambda row:row[\"timestamp_updated\"] - row[\"timestamp_created\"], axis=1)"
   ]
  },
  {
   "cell_type": "code",
   "execution_count": null,
   "id": "a70708ab-7c82-4f1d-a67b-5b5059e34adc",
   "metadata": {},
   "outputs": [],
   "source": [
    "t.describe()"
   ]
  },
  {
   "cell_type": "markdown",
   "id": "e63d580e-34f9-4461-8c13-bf7d34f6dcf6",
   "metadata": {},
   "source": [
    "### NOTA\n",
    "\n",
    "  - C'è un solo valore negativo: created < update ????"
   ]
  },
  {
   "cell_type": "code",
   "execution_count": 121,
   "id": "f4c5c695-5967-4f90-b882-3459142e717c",
   "metadata": {},
   "outputs": [
    {
     "data": {
      "text/plain": [
       "19179657    -1 days +23:59:56\n",
       "0             0 days 00:00:00\n",
       "13184609      0 days 00:00:00\n",
       "13184608      0 days 00:00:00\n",
       "13184607      0 days 00:00:00\n",
       "                  ...        \n",
       "1561448    3710 days 12:51:16\n",
       "3538179    7790 days 08:35:39\n",
       "9287506    7794 days 00:01:21\n",
       "10694935   7959 days 20:10:23\n",
       "14636770   8069 days 20:08:16\n",
       "Length: 21747371, dtype: timedelta64[ns]"
      ]
     },
     "execution_count": 121,
     "metadata": {},
     "output_type": "execute_result"
    }
   ],
   "source": [
    "t.sort_values()"
   ]
  },
  {
   "cell_type": "markdown",
   "id": "6bb674c2-325b-4584-aa35-05064e8bbacd",
   "metadata": {},
   "source": [
    "   - Plot the top 3 authors that usually update their reviews.\n",
    "   \n",
    "Top 3 utenti con più recensioni aggiornate (Questa lista non prende in considerazione il numero totale di recensioni per utente: un utente con più recensioni si troverà probabilmente più in alto in classifica)"
   ]
  },
  {
   "cell_type": "code",
   "execution_count": 3,
   "id": "3a33db45-4cd1-40d8-b8e9-38f55a210efe",
   "metadata": {},
   "outputs": [
    {
     "name": "stderr",
     "output_type": "stream",
     "text": [
      "<ipython-input-3-50ada8d32c54>:2: SettingWithCopyWarning: \n",
      "A value is trying to be set on a copy of a slice from a DataFrame.\n",
      "Try using .loc[row_indexer,col_indexer] = value instead\n",
      "\n",
      "See the caveats in the documentation: https://pandas.pydata.org/pandas-docs/stable/user_guide/indexing.html#returning-a-view-versus-a-copy\n",
      "  author_steamId_AND_timedelta[\"Numero Modifiche\"] = t\n"
     ]
    }
   ],
   "source": [
    "author_steamId_AND_timedelta = df.steam[[\"author.steamid\"]]\n",
    "author_steamId_AND_timedelta[\"Numero Modifiche\"] = t"
   ]
  },
  {
   "cell_type": "code",
   "execution_count": 4,
   "id": "bb98af16-e247-4a1e-99a1-936d1c91e6ef",
   "metadata": {},
   "outputs": [
    {
     "data": {
      "text/html": [
       "<div>\n",
       "<style scoped>\n",
       "    .dataframe tbody tr th:only-of-type {\n",
       "        vertical-align: middle;\n",
       "    }\n",
       "\n",
       "    .dataframe tbody tr th {\n",
       "        vertical-align: top;\n",
       "    }\n",
       "\n",
       "    .dataframe thead th {\n",
       "        text-align: right;\n",
       "    }\n",
       "</style>\n",
       "<table border=\"1\" class=\"dataframe\">\n",
       "  <thead>\n",
       "    <tr style=\"text-align: right;\">\n",
       "      <th></th>\n",
       "      <th>Numero Modifiche</th>\n",
       "    </tr>\n",
       "    <tr>\n",
       "      <th>author.steamid</th>\n",
       "      <th></th>\n",
       "    </tr>\n",
       "  </thead>\n",
       "  <tbody>\n",
       "    <tr>\n",
       "      <th>76561197960265822</th>\n",
       "      <td>1</td>\n",
       "    </tr>\n",
       "    <tr>\n",
       "      <th>76561197960265858</th>\n",
       "      <td>1</td>\n",
       "    </tr>\n",
       "    <tr>\n",
       "      <th>76561197960265908</th>\n",
       "      <td>1</td>\n",
       "    </tr>\n",
       "    <tr>\n",
       "      <th>76561197960266179</th>\n",
       "      <td>1</td>\n",
       "    </tr>\n",
       "    <tr>\n",
       "      <th>76561197960266375</th>\n",
       "      <td>1</td>\n",
       "    </tr>\n",
       "    <tr>\n",
       "      <th>...</th>\n",
       "      <td>...</td>\n",
       "    </tr>\n",
       "    <tr>\n",
       "      <th>76561199130564256</th>\n",
       "      <td>1</td>\n",
       "    </tr>\n",
       "    <tr>\n",
       "      <th>76561199131024387</th>\n",
       "      <td>1</td>\n",
       "    </tr>\n",
       "    <tr>\n",
       "      <th>76561199131682289</th>\n",
       "      <td>1</td>\n",
       "    </tr>\n",
       "    <tr>\n",
       "      <th>76561199132302761</th>\n",
       "      <td>1</td>\n",
       "    </tr>\n",
       "    <tr>\n",
       "      <th>76561199132527580</th>\n",
       "      <td>1</td>\n",
       "    </tr>\n",
       "  </tbody>\n",
       "</table>\n",
       "<p>1644306 rows × 1 columns</p>\n",
       "</div>"
      ],
      "text/plain": [
       "                   Numero Modifiche\n",
       "author.steamid                     \n",
       "76561197960265822                 1\n",
       "76561197960265858                 1\n",
       "76561197960265908                 1\n",
       "76561197960266179                 1\n",
       "76561197960266375                 1\n",
       "...                             ...\n",
       "76561199130564256                 1\n",
       "76561199131024387                 1\n",
       "76561199131682289                 1\n",
       "76561199132302761                 1\n",
       "76561199132527580                 1\n",
       "\n",
       "[1644306 rows x 1 columns]"
      ]
     },
     "execution_count": 4,
     "metadata": {},
     "output_type": "execute_result"
    }
   ],
   "source": [
    "authorMOD = author_steamId_AND_timedelta.loc[author_steamId_AND_timedelta[\"Numero Modifiche\"] != \"0\", [\"author.steamid\", \"Numero Modifiche\"]]\n",
    "authorMOD = authorMOD.groupby([\"author.steamid\"]).count()\n",
    "authorMOD"
   ]
  },
  {
   "cell_type": "code",
   "execution_count": 36,
   "id": "140ff944-118e-46f3-9c3b-1bd4a97953cc",
   "metadata": {},
   "outputs": [
    {
     "data": {
      "image/png": "[encoded data removed]",
      "text/plain": [
       "<Figure size 432x288 with 1 Axes>"
      ]
     },
     "metadata": {
      "needs_background": "light"
     },
     "output_type": "display_data"
    }
   ],
   "source": [
    "authorMOD_sortedHead = authorMOD.sort_values([\"Numero Modifiche\"], ascending=False).head(3)\n",
    "authorMOD_sortedHead\n",
    "df.plt.bar(list(map(str,authorMOD_sortedHead.index)), authorMOD_sortedHead[\"Numero Modifiche\"]);"
   ]
  },
  {
   "cell_type": "code",
   "execution_count": 37,
   "id": "2985dc40-a87b-4508-9f15-497118a47fab",
   "metadata": {},
   "outputs": [
    {
     "data": {
      "text/html": [
       "<div>\n",
       "<style scoped>\n",
       "    .dataframe tbody tr th:only-of-type {\n",
       "        vertical-align: middle;\n",
       "    }\n",
       "\n",
       "    .dataframe tbody tr th {\n",
       "        vertical-align: top;\n",
       "    }\n",
       "\n",
       "    .dataframe thead th {\n",
       "        text-align: right;\n",
       "    }\n",
       "</style>\n",
       "<table border=\"1\" class=\"dataframe\">\n",
       "  <thead>\n",
       "    <tr style=\"text-align: right;\">\n",
       "      <th></th>\n",
       "      <th>Numero Modifiche</th>\n",
       "    </tr>\n",
       "    <tr>\n",
       "      <th>author.steamid</th>\n",
       "      <th></th>\n",
       "    </tr>\n",
       "  </thead>\n",
       "  <tbody>\n",
       "    <tr>\n",
       "      <th>76561198192166873</th>\n",
       "      <td>95</td>\n",
       "    </tr>\n",
       "    <tr>\n",
       "      <th>76561198206999976</th>\n",
       "      <td>61</td>\n",
       "    </tr>\n",
       "    <tr>\n",
       "      <th>76561198072450805</th>\n",
       "      <td>60</td>\n",
       "    </tr>\n",
       "  </tbody>\n",
       "</table>\n",
       "</div>"
      ],
      "text/plain": [
       "                   Numero Modifiche\n",
       "author.steamid                     \n",
       "76561198192166873                95\n",
       "76561198206999976                61\n",
       "76561198072450805                60"
      ]
     },
     "execution_count": 37,
     "metadata": {},
     "output_type": "execute_result"
    }
   ],
   "source": [
    "authorMOD_sortedHead"
   ]
  },
  {
   "cell_type": "markdown",
   "id": "e97c7dd4-eefa-4915-b110-fedd07895166",
   "metadata": {},
   "source": [
    "Top 3 utenti con più recensioni aggiornate (Questa lista prende in considerazione il numero totale di recensioni e il numero di recensioni aggiornate)"
   ]
  },
  {
   "cell_type": "code",
   "execution_count": 6,
   "id": "ebf5907b-4a3a-4947-914a-031582b984f8",
   "metadata": {},
   "outputs": [
    {
     "data": {
      "text/html": [
       "<div>\n",
       "<style scoped>\n",
       "    .dataframe tbody tr th:only-of-type {\n",
       "        vertical-align: middle;\n",
       "    }\n",
       "\n",
       "    .dataframe tbody tr th {\n",
       "        vertical-align: top;\n",
       "    }\n",
       "\n",
       "    .dataframe thead th {\n",
       "        text-align: right;\n",
       "    }\n",
       "</style>\n",
       "<table border=\"1\" class=\"dataframe\">\n",
       "  <thead>\n",
       "    <tr style=\"text-align: right;\">\n",
       "      <th></th>\n",
       "      <th>Numero non modifiche</th>\n",
       "    </tr>\n",
       "    <tr>\n",
       "      <th>author.steamid</th>\n",
       "      <th></th>\n",
       "    </tr>\n",
       "  </thead>\n",
       "  <tbody>\n",
       "    <tr>\n",
       "      <th>76561197960265730</th>\n",
       "      <td>1</td>\n",
       "    </tr>\n",
       "    <tr>\n",
       "      <th>76561197960265745</th>\n",
       "      <td>2</td>\n",
       "    </tr>\n",
       "    <tr>\n",
       "      <th>76561197960265747</th>\n",
       "      <td>1</td>\n",
       "    </tr>\n",
       "    <tr>\n",
       "      <th>76561197960265778</th>\n",
       "      <td>2</td>\n",
       "    </tr>\n",
       "    <tr>\n",
       "      <th>76561197960265781</th>\n",
       "      <td>4</td>\n",
       "    </tr>\n",
       "    <tr>\n",
       "      <th>...</th>\n",
       "      <td>...</td>\n",
       "    </tr>\n",
       "    <tr>\n",
       "      <th>76561199133107792</th>\n",
       "      <td>1</td>\n",
       "    </tr>\n",
       "    <tr>\n",
       "      <th>76561199133134170</th>\n",
       "      <td>1</td>\n",
       "    </tr>\n",
       "    <tr>\n",
       "      <th>76561199133159367</th>\n",
       "      <td>1</td>\n",
       "    </tr>\n",
       "    <tr>\n",
       "      <th>76561199133180413</th>\n",
       "      <td>1</td>\n",
       "    </tr>\n",
       "    <tr>\n",
       "      <th>76561199133265373</th>\n",
       "      <td>1</td>\n",
       "    </tr>\n",
       "  </tbody>\n",
       "</table>\n",
       "<p>11835148 rows × 1 columns</p>\n",
       "</div>"
      ],
      "text/plain": [
       "                   Numero non modifiche\n",
       "author.steamid                         \n",
       "76561197960265730                     1\n",
       "76561197960265745                     2\n",
       "76561197960265747                     1\n",
       "76561197960265778                     2\n",
       "76561197960265781                     4\n",
       "...                                 ...\n",
       "76561199133107792                     1\n",
       "76561199133134170                     1\n",
       "76561199133159367                     1\n",
       "76561199133180413                     1\n",
       "76561199133265373                     1\n",
       "\n",
       "[11835148 rows x 1 columns]"
      ]
     },
     "execution_count": 6,
     "metadata": {},
     "output_type": "execute_result"
    }
   ],
   "source": [
    "authorNOMOD = author_steamId_AND_timedelta.loc[author_steamId_AND_timedelta[\"Numero Modifiche\"] == \"0\", [\"author.steamid\", \"Numero Modifiche\"]]\n",
    "authorNOMOD = authorNOMOD.rename({\"Numero Modifiche\": \"Numero non modifiche\"}, axis=1)\n",
    "authorNOMOD = authorNOMOD.groupby([\"author.steamid\"]).count()\n",
    "authorNOMOD"
   ]
  },
  {
   "cell_type": "code",
   "execution_count": 15,
   "id": "e4290c58-bda8-444e-aef5-2026b313a008",
   "metadata": {},
   "outputs": [
    {
     "data": {
      "text/html": [
       "<div>\n",
       "<style scoped>\n",
       "    .dataframe tbody tr th:only-of-type {\n",
       "        vertical-align: middle;\n",
       "    }\n",
       "\n",
       "    .dataframe tbody tr th {\n",
       "        vertical-align: top;\n",
       "    }\n",
       "\n",
       "    .dataframe thead th {\n",
       "        text-align: right;\n",
       "    }\n",
       "</style>\n",
       "<table border=\"1\" class=\"dataframe\">\n",
       "  <thead>\n",
       "    <tr style=\"text-align: right;\">\n",
       "      <th></th>\n",
       "      <th>TOT</th>\n",
       "      <th>Numero modifiche</th>\n",
       "      <th>Numero non modifiche</th>\n",
       "    </tr>\n",
       "    <tr>\n",
       "      <th>author.steamid</th>\n",
       "      <th></th>\n",
       "      <th></th>\n",
       "      <th></th>\n",
       "    </tr>\n",
       "  </thead>\n",
       "  <tbody>\n",
       "    <tr>\n",
       "      <th>76561197960265730</th>\n",
       "      <td>1</td>\n",
       "      <td>NaN</td>\n",
       "      <td>1.0</td>\n",
       "    </tr>\n",
       "    <tr>\n",
       "      <th>76561197960265745</th>\n",
       "      <td>2</td>\n",
       "      <td>NaN</td>\n",
       "      <td>2.0</td>\n",
       "    </tr>\n",
       "    <tr>\n",
       "      <th>76561197960265747</th>\n",
       "      <td>1</td>\n",
       "      <td>NaN</td>\n",
       "      <td>1.0</td>\n",
       "    </tr>\n",
       "    <tr>\n",
       "      <th>76561197960265778</th>\n",
       "      <td>2</td>\n",
       "      <td>NaN</td>\n",
       "      <td>2.0</td>\n",
       "    </tr>\n",
       "    <tr>\n",
       "      <th>76561197960265781</th>\n",
       "      <td>4</td>\n",
       "      <td>NaN</td>\n",
       "      <td>4.0</td>\n",
       "    </tr>\n",
       "    <tr>\n",
       "      <th>76561197960265806</th>\n",
       "      <td>1</td>\n",
       "      <td>NaN</td>\n",
       "      <td>1.0</td>\n",
       "    </tr>\n",
       "    <tr>\n",
       "      <th>76561197960265817</th>\n",
       "      <td>1</td>\n",
       "      <td>NaN</td>\n",
       "      <td>1.0</td>\n",
       "    </tr>\n",
       "    <tr>\n",
       "      <th>76561197960265822</th>\n",
       "      <td>3</td>\n",
       "      <td>1.0</td>\n",
       "      <td>2.0</td>\n",
       "    </tr>\n",
       "    <tr>\n",
       "      <th>76561197960265836</th>\n",
       "      <td>1</td>\n",
       "      <td>NaN</td>\n",
       "      <td>1.0</td>\n",
       "    </tr>\n",
       "    <tr>\n",
       "      <th>76561197960265858</th>\n",
       "      <td>2</td>\n",
       "      <td>1.0</td>\n",
       "      <td>1.0</td>\n",
       "    </tr>\n",
       "  </tbody>\n",
       "</table>\n",
       "</div>"
      ],
      "text/plain": [
       "                   TOT  Numero modifiche  Numero non modifiche\n",
       "author.steamid                                                \n",
       "76561197960265730    1               NaN                   1.0\n",
       "76561197960265745    2               NaN                   2.0\n",
       "76561197960265747    1               NaN                   1.0\n",
       "76561197960265778    2               NaN                   2.0\n",
       "76561197960265781    4               NaN                   4.0\n",
       "76561197960265806    1               NaN                   1.0\n",
       "76561197960265817    1               NaN                   1.0\n",
       "76561197960265822    3               1.0                   2.0\n",
       "76561197960265836    1               NaN                   1.0\n",
       "76561197960265858    2               1.0                   1.0"
      ]
     },
     "execution_count": 15,
     "metadata": {},
     "output_type": "execute_result"
    }
   ],
   "source": [
    "AuthorTOT = author_steamId_AND_timedelta.groupby([\"author.steamid\"]).count()\n",
    "AuthorTOT = AuthorTOT.rename({\"Numero Modifiche\": \"TOT\"}, axis=1)\n",
    "AuthorTOT[\"Numero modifiche\"] = authorMOD\n",
    "AuthorTOT[\"Numero non modifiche\"] = authorNOMOD\n",
    "AuthorTOT.head(10)"
   ]
  },
  {
   "cell_type": "code",
   "execution_count": 19,
   "id": "c52b3b70-f728-4309-8fa8-fb2d3fbf21d5",
   "metadata": {},
   "outputs": [
    {
     "data": {
      "text/html": [
       "<div>\n",
       "<style scoped>\n",
       "    .dataframe tbody tr th:only-of-type {\n",
       "        vertical-align: middle;\n",
       "    }\n",
       "\n",
       "    .dataframe tbody tr th {\n",
       "        vertical-align: top;\n",
       "    }\n",
       "\n",
       "    .dataframe thead th {\n",
       "        text-align: right;\n",
       "    }\n",
       "</style>\n",
       "<table border=\"1\" class=\"dataframe\">\n",
       "  <thead>\n",
       "    <tr style=\"text-align: right;\">\n",
       "      <th></th>\n",
       "      <th>TOT</th>\n",
       "      <th>Numero modifiche</th>\n",
       "      <th>Numero non modifiche</th>\n",
       "      <th>Percentuale di modifica</th>\n",
       "    </tr>\n",
       "    <tr>\n",
       "      <th>author.steamid</th>\n",
       "      <th></th>\n",
       "      <th></th>\n",
       "      <th></th>\n",
       "      <th></th>\n",
       "    </tr>\n",
       "  </thead>\n",
       "  <tbody>\n",
       "    <tr>\n",
       "      <th>76561197960265730</th>\n",
       "      <td>1</td>\n",
       "      <td>NaN</td>\n",
       "      <td>1.0</td>\n",
       "      <td>NaN</td>\n",
       "    </tr>\n",
       "    <tr>\n",
       "      <th>76561197960265745</th>\n",
       "      <td>2</td>\n",
       "      <td>NaN</td>\n",
       "      <td>2.0</td>\n",
       "      <td>NaN</td>\n",
       "    </tr>\n",
       "    <tr>\n",
       "      <th>76561197960265747</th>\n",
       "      <td>1</td>\n",
       "      <td>NaN</td>\n",
       "      <td>1.0</td>\n",
       "      <td>NaN</td>\n",
       "    </tr>\n",
       "    <tr>\n",
       "      <th>76561197960265778</th>\n",
       "      <td>2</td>\n",
       "      <td>NaN</td>\n",
       "      <td>2.0</td>\n",
       "      <td>NaN</td>\n",
       "    </tr>\n",
       "    <tr>\n",
       "      <th>76561197960265781</th>\n",
       "      <td>4</td>\n",
       "      <td>NaN</td>\n",
       "      <td>4.0</td>\n",
       "      <td>NaN</td>\n",
       "    </tr>\n",
       "    <tr>\n",
       "      <th>...</th>\n",
       "      <td>...</td>\n",
       "      <td>...</td>\n",
       "      <td>...</td>\n",
       "      <td>...</td>\n",
       "    </tr>\n",
       "    <tr>\n",
       "      <th>76561199133107792</th>\n",
       "      <td>1</td>\n",
       "      <td>NaN</td>\n",
       "      <td>1.0</td>\n",
       "      <td>NaN</td>\n",
       "    </tr>\n",
       "    <tr>\n",
       "      <th>76561199133134170</th>\n",
       "      <td>1</td>\n",
       "      <td>NaN</td>\n",
       "      <td>1.0</td>\n",
       "      <td>NaN</td>\n",
       "    </tr>\n",
       "    <tr>\n",
       "      <th>76561199133159367</th>\n",
       "      <td>1</td>\n",
       "      <td>NaN</td>\n",
       "      <td>1.0</td>\n",
       "      <td>NaN</td>\n",
       "    </tr>\n",
       "    <tr>\n",
       "      <th>76561199133180413</th>\n",
       "      <td>1</td>\n",
       "      <td>NaN</td>\n",
       "      <td>1.0</td>\n",
       "      <td>NaN</td>\n",
       "    </tr>\n",
       "    <tr>\n",
       "      <th>76561199133265373</th>\n",
       "      <td>1</td>\n",
       "      <td>NaN</td>\n",
       "      <td>1.0</td>\n",
       "      <td>NaN</td>\n",
       "    </tr>\n",
       "  </tbody>\n",
       "</table>\n",
       "<p>12406560 rows × 4 columns</p>\n",
       "</div>"
      ],
      "text/plain": [
       "                   TOT  Numero modifiche  Numero non modifiche  \\\n",
       "author.steamid                                                   \n",
       "76561197960265730    1               NaN                   1.0   \n",
       "76561197960265745    2               NaN                   2.0   \n",
       "76561197960265747    1               NaN                   1.0   \n",
       "76561197960265778    2               NaN                   2.0   \n",
       "76561197960265781    4               NaN                   4.0   \n",
       "...                ...               ...                   ...   \n",
       "76561199133107792    1               NaN                   1.0   \n",
       "76561199133134170    1               NaN                   1.0   \n",
       "76561199133159367    1               NaN                   1.0   \n",
       "76561199133180413    1               NaN                   1.0   \n",
       "76561199133265373    1               NaN                   1.0   \n",
       "\n",
       "                   Percentuale di modifica  \n",
       "author.steamid                              \n",
       "76561197960265730                      NaN  \n",
       "76561197960265745                      NaN  \n",
       "76561197960265747                      NaN  \n",
       "76561197960265778                      NaN  \n",
       "76561197960265781                      NaN  \n",
       "...                                    ...  \n",
       "76561199133107792                      NaN  \n",
       "76561199133134170                      NaN  \n",
       "76561199133159367                      NaN  \n",
       "76561199133180413                      NaN  \n",
       "76561199133265373                      NaN  \n",
       "\n",
       "[12406560 rows x 4 columns]"
      ]
     },
     "execution_count": 19,
     "metadata": {},
     "output_type": "execute_result"
    }
   ],
   "source": [
    "perc = AuthorTOT.apply(lambda row: row[\"Numero modifiche\"]*100/row[\"TOT\"],axis=1)\n",
    "AuthorTOT[\"Percentuale di modifica\"] = perc\n",
    "AuthorTOT"
   ]
  },
  {
   "cell_type": "code",
   "execution_count": 34,
   "id": "f252d88a-0b87-4243-b7c5-7c0dd3856103",
   "metadata": {},
   "outputs": [],
   "source": [
    "x =AuthorTOT.sort_values([\"Percentuale di modifica\", \"TOT\"], ascending=False).head(3)"
   ]
  },
  {
   "cell_type": "code",
   "execution_count": 35,
   "id": "109cc27c-12ca-4898-aaa2-5271e94df618",
   "metadata": {},
   "outputs": [
    {
     "data": {
      "text/html": [
       "<div>\n",
       "<style scoped>\n",
       "    .dataframe tbody tr th:only-of-type {\n",
       "        vertical-align: middle;\n",
       "    }\n",
       "\n",
       "    .dataframe tbody tr th {\n",
       "        vertical-align: top;\n",
       "    }\n",
       "\n",
       "    .dataframe thead th {\n",
       "        text-align: right;\n",
       "    }\n",
       "</style>\n",
       "<table border=\"1\" class=\"dataframe\">\n",
       "  <thead>\n",
       "    <tr style=\"text-align: right;\">\n",
       "      <th></th>\n",
       "      <th>TOT</th>\n",
       "      <th>Numero modifiche</th>\n",
       "      <th>Numero non modifiche</th>\n",
       "      <th>Percentuale di modifica</th>\n",
       "    </tr>\n",
       "    <tr>\n",
       "      <th>author.steamid</th>\n",
       "      <th></th>\n",
       "      <th></th>\n",
       "      <th></th>\n",
       "      <th></th>\n",
       "    </tr>\n",
       "  </thead>\n",
       "  <tbody>\n",
       "    <tr>\n",
       "      <th>76561198072450805</th>\n",
       "      <td>60</td>\n",
       "      <td>60.0</td>\n",
       "      <td>NaN</td>\n",
       "      <td>100.0</td>\n",
       "    </tr>\n",
       "    <tr>\n",
       "      <th>76561197972642306</th>\n",
       "      <td>43</td>\n",
       "      <td>43.0</td>\n",
       "      <td>NaN</td>\n",
       "      <td>100.0</td>\n",
       "    </tr>\n",
       "    <tr>\n",
       "      <th>76561198006784126</th>\n",
       "      <td>35</td>\n",
       "      <td>35.0</td>\n",
       "      <td>NaN</td>\n",
       "      <td>100.0</td>\n",
       "    </tr>\n",
       "  </tbody>\n",
       "</table>\n",
       "</div>"
      ],
      "text/plain": [
       "                   TOT  Numero modifiche  Numero non modifiche  \\\n",
       "author.steamid                                                   \n",
       "76561198072450805   60              60.0                   NaN   \n",
       "76561197972642306   43              43.0                   NaN   \n",
       "76561198006784126   35              35.0                   NaN   \n",
       "\n",
       "                   Percentuale di modifica  \n",
       "author.steamid                              \n",
       "76561198072450805                    100.0  \n",
       "76561197972642306                    100.0  \n",
       "76561198006784126                    100.0  "
      ]
     },
     "execution_count": 35,
     "metadata": {},
     "output_type": "execute_result"
    }
   ],
   "source": [
    "x"
   ]
  }
 ],
 "metadata": {
  "kernelspec": {
   "display_name": "Python 3",
   "language": "python",
   "name": "python3"
  },
  "language_info": {
   "codemirror_mode": {
    "name": "ipython",
    "version": 3
   },
   "file_extension": ".py",
   "mimetype": "text/x-python",
   "name": "python",
   "nbconvert_exporter": "python",
   "pygments_lexer": "ipython3",
   "version": "3.8.8"
  }
 },
 "nbformat": 4,
 "nbformat_minor": 5
}
