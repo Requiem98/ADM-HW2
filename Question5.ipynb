{
 "cells": [
  {
   "cell_type": "markdown",
   "id": "29f21ea9-c365-432b-a576-3589ee42bb00",
   "metadata": {},
   "source": [
    "# RQ5"
   ]
  },
  {
   "cell_type": "code",
   "execution_count": 1,
   "id": "6c125839-6982-4b95-af9e-9ab375b69e04",
   "metadata": {},
   "outputs": [],
   "source": [
    "import pandas as pd\n",
    "import numpy as np\n",
    "import matplotlib.pyplot as plt"
   ]
  },
  {
   "cell_type": "code",
   "execution_count": 2,
   "id": "9dabf4ad-a33a-45ec-87fd-6071d3a6f116",
   "metadata": {},
   "outputs": [],
   "source": [
    "def dateparse (time_in_secs):\n",
    "    return pd.to_datetime(time_in_secs,unit='s')"
   ]
  },
  {
   "cell_type": "code",
   "execution_count": 3,
   "id": "0db2370e-5da0-436b-9e0e-a2da5b9d4717",
   "metadata": {},
   "outputs": [],
   "source": [
    "dataset = pd.read_csv('./steam_reviews.csv', header='infer', nrows=2000000, parse_dates=['timestamp_created', 'timestamp_updated', 'author.last_played'], date_parser=dateparse)\n"
   ]
  },
  {
   "cell_type": "code",
   "execution_count": 4,
   "id": "6a3339fe-5c6a-494a-8120-d454ed9cc183",
   "metadata": {},
   "outputs": [
    {
     "name": "stdout",
     "output_type": "stream",
     "text": [
      "<class 'pandas.core.frame.DataFrame'>\n",
      "RangeIndex: 2000000 entries, 0 to 1999999\n",
      "Data columns (total 23 columns):\n",
      " #   Column                          Dtype         \n",
      "---  ------                          -----         \n",
      " 0   Unnamed: 0                      int64         \n",
      " 1   app_id                          int64         \n",
      " 2   app_name                        object        \n",
      " 3   review_id                       int64         \n",
      " 4   language                        object        \n",
      " 5   review                          object        \n",
      " 6   timestamp_created               datetime64[ns]\n",
      " 7   timestamp_updated               datetime64[ns]\n",
      " 8   recommended                     bool          \n",
      " 9   votes_helpful                   int64         \n",
      " 10  votes_funny                     int64         \n",
      " 11  weighted_vote_score             float64       \n",
      " 12  comment_count                   int64         \n",
      " 13  steam_purchase                  bool          \n",
      " 14  received_for_free               bool          \n",
      " 15  written_during_early_access     bool          \n",
      " 16  author.steamid                  int64         \n",
      " 17  author.num_games_owned          int64         \n",
      " 18  author.num_reviews              int64         \n",
      " 19  author.playtime_forever         float64       \n",
      " 20  author.playtime_last_two_weeks  float64       \n",
      " 21  author.playtime_at_review       float64       \n",
      " 22  author.last_played              datetime64[ns]\n",
      "dtypes: bool(4), datetime64[ns](3), float64(4), int64(9), object(3)\n",
      "memory usage: 297.5+ MB\n"
     ]
    }
   ],
   "source": [
    "dataset.info()"
   ]
  },
  {
   "cell_type": "markdown",
   "id": "7a991dae-8fb9-4df1-aa52-538aa895c4bb",
   "metadata": {},
   "source": [
    "#### 1 - Plot the top 10 most popular reviewers and the number of reviews."
   ]
  },
  {
   "cell_type": "markdown",
   "id": "8c990ab8-bac1-4b89-a56a-1970372dc1a8",
   "metadata": {},
   "source": [
    "I look at the \"author.num_reviews\" variable to see how many reviews a person has done for a given application. I add up the various values that the variable takes for the various applications to see the total number of reviews that a given person has made. Finally, I group these values by the author's name (or better, by the author's identification code -> \"author.steamid\").\n",
    "\n",
    "I sort in descending order to see which are the most popular authors."
   ]
  },
  {
   "cell_type": "code",
   "execution_count": 5,
   "id": "a523203b-8d42-4cbc-a57c-2b4b6adb650f",
   "metadata": {},
   "outputs": [
    {
     "data": {
      "text/plain": [
       "author.steamid\n",
       "76561197974092119    24206\n",
       "76561198116879965    23975\n",
       "76561198125392509    20944\n",
       "76561197960373660    20685\n",
       "76561198045381877    16624\n",
       "76561198094803808    15752\n",
       "76561198030784015    13891\n",
       "76561198118629775    13738\n",
       "76561198013146396    11489\n",
       "76561198191189787    11027\n",
       "Name: author.num_reviews, dtype: int64"
      ]
     },
     "execution_count": 5,
     "metadata": {},
     "output_type": "execute_result"
    }
   ],
   "source": [
    "dataset.groupby([\"author.steamid\"])[\"author.num_reviews\"].sum().sort_values(ascending=False).head(10)"
   ]
  },
  {
   "cell_type": "code",
   "execution_count": 6,
   "id": "07ad1e3c-d0bc-4d16-876f-135f93ebf117",
   "metadata": {},
   "outputs": [
    {
     "data": {
      "text/plain": [
       "<AxesSubplot:title={'center':'Reviews by author'}, xlabel='author.steamid', ylabel='Number of reviews'>"
      ]
     },
     "execution_count": 6,
     "metadata": {},
     "output_type": "execute_result"
    },
    {
     "data": {
      "image/png": "[encoded data removed]",
      "text/plain": [
       "<Figure size 1296x648 with 1 Axes>"
      ]
     },
     "metadata": {
      "needs_background": "light"
     },
     "output_type": "display_data"
    }
   ],
   "source": [
    "dataset.groupby([\"author.steamid\"])[\"author.num_reviews\"].sum().sort_values(ascending=False).head(10).plot.bar(figsize=(18,9), xlabel='author.steamid', ylabel='Number of reviews', title='Reviews by author')"
   ]
  },
  {
   "cell_type": "markdown",
   "id": "5e387ae6-541f-47c6-ac1f-b83e90532cb5",
   "metadata": {},
   "source": [
    "#### 2 - What applications did the most popular author review?"
   ]
  },
  {
   "cell_type": "markdown",
   "id": "0c6643f0-e57e-43c7-a1a5-47f409447b0f",
   "metadata": {},
   "source": [
    "I consider the identification code of the most popular author and I check which applications he has reviewed."
   ]
  },
  {
   "cell_type": "code",
   "execution_count": 7,
   "id": "35cab56c-162c-439d-878f-691bbf3f32df",
   "metadata": {},
   "outputs": [
    {
     "data": {
      "text/plain": [
       "array(['The Witcher 3: Wild Hunt', 'Half-Life', 'Counter-Strike: Source',\n",
       "       'Half-Life 2: Episode Two', 'Portal 2', \"Garry's Mod\",\n",
       "       \"Sid Meier's Civilization V\"], dtype=object)"
      ]
     },
     "execution_count": 7,
     "metadata": {},
     "output_type": "execute_result"
    }
   ],
   "source": [
    "dataset[dataset['author.steamid']==76561197974092119].app_name.unique()"
   ]
  },
  {
   "cell_type": "code",
   "execution_count": 8,
   "id": "b97988e1-3eda-44d2-a600-4225e6ed7510",
   "metadata": {},
   "outputs": [
    {
     "data": {
      "text/html": [
       "<div>\n",
       "<style scoped>\n",
       "    .dataframe tbody tr th:only-of-type {\n",
       "        vertical-align: middle;\n",
       "    }\n",
       "\n",
       "    .dataframe tbody tr th {\n",
       "        vertical-align: top;\n",
       "    }\n",
       "\n",
       "    .dataframe thead th {\n",
       "        text-align: right;\n",
       "    }\n",
       "</style>\n",
       "<table border=\"1\" class=\"dataframe\">\n",
       "  <thead>\n",
       "    <tr style=\"text-align: right;\">\n",
       "      <th></th>\n",
       "      <th>Unnamed: 0</th>\n",
       "      <th>app_id</th>\n",
       "      <th>app_name</th>\n",
       "      <th>review_id</th>\n",
       "      <th>language</th>\n",
       "      <th>review</th>\n",
       "      <th>timestamp_created</th>\n",
       "      <th>timestamp_updated</th>\n",
       "      <th>recommended</th>\n",
       "      <th>votes_helpful</th>\n",
       "      <th>...</th>\n",
       "      <th>steam_purchase</th>\n",
       "      <th>received_for_free</th>\n",
       "      <th>written_during_early_access</th>\n",
       "      <th>author.steamid</th>\n",
       "      <th>author.num_games_owned</th>\n",
       "      <th>author.num_reviews</th>\n",
       "      <th>author.playtime_forever</th>\n",
       "      <th>author.playtime_last_two_weeks</th>\n",
       "      <th>author.playtime_at_review</th>\n",
       "      <th>author.last_played</th>\n",
       "    </tr>\n",
       "  </thead>\n",
       "  <tbody>\n",
       "    <tr>\n",
       "      <th>468155</th>\n",
       "      <td>468155</td>\n",
       "      <td>292030</td>\n",
       "      <td>The Witcher 3: Wild Hunt</td>\n",
       "      <td>15899913</td>\n",
       "      <td>polish</td>\n",
       "      <td>Ciesze się że w ogóle mi działa ^^\\n\\n\\n\\n\\n\\n</td>\n",
       "      <td>2015-05-19 13:28:37</td>\n",
       "      <td>2015-05-19 13:28:37</td>\n",
       "      <td>True</td>\n",
       "      <td>86</td>\n",
       "      <td>...</td>\n",
       "      <td>False</td>\n",
       "      <td>False</td>\n",
       "      <td>False</td>\n",
       "      <td>76561197974092119</td>\n",
       "      <td>1776</td>\n",
       "      <td>3468</td>\n",
       "      <td>665.0</td>\n",
       "      <td>0.0</td>\n",
       "      <td>371.0</td>\n",
       "      <td>2016-07-08 23:12:25</td>\n",
       "    </tr>\n",
       "    <tr>\n",
       "      <th>522006</th>\n",
       "      <td>522007</td>\n",
       "      <td>70</td>\n",
       "      <td>Half-Life</td>\n",
       "      <td>12267334</td>\n",
       "      <td>polish</td>\n",
       "      <td>klasyka</td>\n",
       "      <td>2014-09-27 22:19:33</td>\n",
       "      <td>2014-09-27 22:19:33</td>\n",
       "      <td>True</td>\n",
       "      <td>2</td>\n",
       "      <td>...</td>\n",
       "      <td>False</td>\n",
       "      <td>False</td>\n",
       "      <td>False</td>\n",
       "      <td>76561197974092119</td>\n",
       "      <td>1774</td>\n",
       "      <td>3456</td>\n",
       "      <td>1389.0</td>\n",
       "      <td>0.0</td>\n",
       "      <td>1387.0</td>\n",
       "      <td>2019-05-27 17:13:09</td>\n",
       "    </tr>\n",
       "    <tr>\n",
       "      <th>574858</th>\n",
       "      <td>574859</td>\n",
       "      <td>240</td>\n",
       "      <td>Counter-Strike: Source</td>\n",
       "      <td>43593853</td>\n",
       "      <td>polish</td>\n",
       "      <td>[h1]꧁ GRA LEGENDA ꧂ [/h1]                     ...</td>\n",
       "      <td>2018-07-17 22:21:17</td>\n",
       "      <td>2018-07-17 22:21:17</td>\n",
       "      <td>True</td>\n",
       "      <td>4</td>\n",
       "      <td>...</td>\n",
       "      <td>False</td>\n",
       "      <td>False</td>\n",
       "      <td>False</td>\n",
       "      <td>76561197974092119</td>\n",
       "      <td>1774</td>\n",
       "      <td>3456</td>\n",
       "      <td>7946.0</td>\n",
       "      <td>0.0</td>\n",
       "      <td>7946.0</td>\n",
       "      <td>2012-09-09 07:00:00</td>\n",
       "    </tr>\n",
       "    <tr>\n",
       "      <th>655868</th>\n",
       "      <td>655869</td>\n",
       "      <td>420</td>\n",
       "      <td>Half-Life 2: Episode Two</td>\n",
       "      <td>44688869</td>\n",
       "      <td>polish</td>\n",
       "      <td>SKRZYDALTA REKOMENDACJA *  \\n\\n[h1]꧁ CIEKAWE C...</td>\n",
       "      <td>2018-09-11 20:46:28</td>\n",
       "      <td>2018-09-11 20:46:28</td>\n",
       "      <td>True</td>\n",
       "      <td>7</td>\n",
       "      <td>...</td>\n",
       "      <td>False</td>\n",
       "      <td>True</td>\n",
       "      <td>False</td>\n",
       "      <td>76561197974092119</td>\n",
       "      <td>1774</td>\n",
       "      <td>3456</td>\n",
       "      <td>87.0</td>\n",
       "      <td>0.0</td>\n",
       "      <td>82.0</td>\n",
       "      <td>2020-02-12 23:03:09</td>\n",
       "    </tr>\n",
       "    <tr>\n",
       "      <th>896474</th>\n",
       "      <td>896475</td>\n",
       "      <td>620</td>\n",
       "      <td>Portal 2</td>\n",
       "      <td>644900</td>\n",
       "      <td>polish</td>\n",
       "      <td>SKRZYDALTA REKOMENDACJA *\\n[h1]꧁GRA Z NAJLEPSZ...</td>\n",
       "      <td>2011-07-05 21:25:34</td>\n",
       "      <td>2018-12-08 23:54:24</td>\n",
       "      <td>True</td>\n",
       "      <td>6</td>\n",
       "      <td>...</td>\n",
       "      <td>False</td>\n",
       "      <td>True</td>\n",
       "      <td>False</td>\n",
       "      <td>76561197974092119</td>\n",
       "      <td>1774</td>\n",
       "      <td>3446</td>\n",
       "      <td>4835.0</td>\n",
       "      <td>0.0</td>\n",
       "      <td>4833.0</td>\n",
       "      <td>2020-07-13 17:14:16</td>\n",
       "    </tr>\n",
       "    <tr>\n",
       "      <th>1237841</th>\n",
       "      <td>1237842</td>\n",
       "      <td>4000</td>\n",
       "      <td>Garry's Mod</td>\n",
       "      <td>44574142</td>\n",
       "      <td>polish</td>\n",
       "      <td>[h1]꧁ WIECZNIE ŻYWY …  ꧂ [/h1] \\nGra mnie zaws...</td>\n",
       "      <td>2018-09-04 23:00:29</td>\n",
       "      <td>2018-09-06 15:59:54</td>\n",
       "      <td>True</td>\n",
       "      <td>14</td>\n",
       "      <td>...</td>\n",
       "      <td>False</td>\n",
       "      <td>False</td>\n",
       "      <td>False</td>\n",
       "      <td>76561197974092119</td>\n",
       "      <td>1774</td>\n",
       "      <td>3462</td>\n",
       "      <td>963.0</td>\n",
       "      <td>0.0</td>\n",
       "      <td>963.0</td>\n",
       "      <td>2016-02-08 22:57:20</td>\n",
       "    </tr>\n",
       "    <tr>\n",
       "      <th>1605174</th>\n",
       "      <td>1605175</td>\n",
       "      <td>8930</td>\n",
       "      <td>Sid Meier's Civilization V</td>\n",
       "      <td>49019196</td>\n",
       "      <td>polish</td>\n",
       "      <td>[h1]꧁ CYWILIZACJA꧂ [/h1] \\nfani gatunku beda z...</td>\n",
       "      <td>2019-02-16 00:58:36</td>\n",
       "      <td>2019-02-16 00:58:36</td>\n",
       "      <td>True</td>\n",
       "      <td>3</td>\n",
       "      <td>...</td>\n",
       "      <td>False</td>\n",
       "      <td>False</td>\n",
       "      <td>False</td>\n",
       "      <td>76561197974092119</td>\n",
       "      <td>1774</td>\n",
       "      <td>3462</td>\n",
       "      <td>889.0</td>\n",
       "      <td>0.0</td>\n",
       "      <td>889.0</td>\n",
       "      <td>2018-05-04 14:23:47</td>\n",
       "    </tr>\n",
       "  </tbody>\n",
       "</table>\n",
       "<p>7 rows × 23 columns</p>\n",
       "</div>"
      ],
      "text/plain": [
       "         Unnamed: 0  app_id                    app_name  review_id language  \\\n",
       "468155       468155  292030    The Witcher 3: Wild Hunt   15899913   polish   \n",
       "522006       522007      70                   Half-Life   12267334   polish   \n",
       "574858       574859     240      Counter-Strike: Source   43593853   polish   \n",
       "655868       655869     420    Half-Life 2: Episode Two   44688869   polish   \n",
       "896474       896475     620                    Portal 2     644900   polish   \n",
       "1237841     1237842    4000                 Garry's Mod   44574142   polish   \n",
       "1605174     1605175    8930  Sid Meier's Civilization V   49019196   polish   \n",
       "\n",
       "                                                    review  \\\n",
       "468155      Ciesze się że w ogóle mi działa ^^\\n\\n\\n\\n\\n\\n   \n",
       "522006                                             klasyka   \n",
       "574858   [h1]꧁ GRA LEGENDA ꧂ [/h1]                     ...   \n",
       "655868   SKRZYDALTA REKOMENDACJA *  \\n\\n[h1]꧁ CIEKAWE C...   \n",
       "896474   SKRZYDALTA REKOMENDACJA *\\n[h1]꧁GRA Z NAJLEPSZ...   \n",
       "1237841  [h1]꧁ WIECZNIE ŻYWY …  ꧂ [/h1] \\nGra mnie zaws...   \n",
       "1605174  [h1]꧁ CYWILIZACJA꧂ [/h1] \\nfani gatunku beda z...   \n",
       "\n",
       "          timestamp_created   timestamp_updated  recommended  votes_helpful  \\\n",
       "468155  2015-05-19 13:28:37 2015-05-19 13:28:37         True             86   \n",
       "522006  2014-09-27 22:19:33 2014-09-27 22:19:33         True              2   \n",
       "574858  2018-07-17 22:21:17 2018-07-17 22:21:17         True              4   \n",
       "655868  2018-09-11 20:46:28 2018-09-11 20:46:28         True              7   \n",
       "896474  2011-07-05 21:25:34 2018-12-08 23:54:24         True              6   \n",
       "1237841 2018-09-04 23:00:29 2018-09-06 15:59:54         True             14   \n",
       "1605174 2019-02-16 00:58:36 2019-02-16 00:58:36         True              3   \n",
       "\n",
       "         ...  steam_purchase  received_for_free  written_during_early_access  \\\n",
       "468155   ...           False              False                        False   \n",
       "522006   ...           False              False                        False   \n",
       "574858   ...           False              False                        False   \n",
       "655868   ...           False               True                        False   \n",
       "896474   ...           False               True                        False   \n",
       "1237841  ...           False              False                        False   \n",
       "1605174  ...           False              False                        False   \n",
       "\n",
       "            author.steamid  author.num_games_owned  author.num_reviews  \\\n",
       "468155   76561197974092119                    1776                3468   \n",
       "522006   76561197974092119                    1774                3456   \n",
       "574858   76561197974092119                    1774                3456   \n",
       "655868   76561197974092119                    1774                3456   \n",
       "896474   76561197974092119                    1774                3446   \n",
       "1237841  76561197974092119                    1774                3462   \n",
       "1605174  76561197974092119                    1774                3462   \n",
       "\n",
       "         author.playtime_forever  author.playtime_last_two_weeks  \\\n",
       "468155                     665.0                             0.0   \n",
       "522006                    1389.0                             0.0   \n",
       "574858                    7946.0                             0.0   \n",
       "655868                      87.0                             0.0   \n",
       "896474                    4835.0                             0.0   \n",
       "1237841                    963.0                             0.0   \n",
       "1605174                    889.0                             0.0   \n",
       "\n",
       "         author.playtime_at_review  author.last_played  \n",
       "468155                       371.0 2016-07-08 23:12:25  \n",
       "522006                      1387.0 2019-05-27 17:13:09  \n",
       "574858                      7946.0 2012-09-09 07:00:00  \n",
       "655868                        82.0 2020-02-12 23:03:09  \n",
       "896474                      4833.0 2020-07-13 17:14:16  \n",
       "1237841                      963.0 2016-02-08 22:57:20  \n",
       "1605174                      889.0 2018-05-04 14:23:47  \n",
       "\n",
       "[7 rows x 23 columns]"
      ]
     },
     "execution_count": 8,
     "metadata": {},
     "output_type": "execute_result"
    }
   ],
   "source": [
    "dataset[dataset['author.steamid']==76561197974092119]"
   ]
  },
  {
   "cell_type": "markdown",
   "id": "7acdf3a0-d7f7-406d-a89b-372627b6a09f",
   "metadata": {},
   "source": [
    "#### 3 - How many applications did he purchase, and how many did he get as free? Provide the number (count) and the percentage."
   ]
  },
  {
   "cell_type": "markdown",
   "id": "d27026ec-033f-4d40-8b2c-e31204ddb970",
   "metadata": {},
   "source": [
    "I check among the apps he reviewed which ones he bought on steam and which ones he didn't buy on steam and how many are these apps."
   ]
  },
  {
   "cell_type": "code",
   "execution_count": 9,
   "id": "7d5750d7-a0a5-4366-bcca-7e1d9373385b",
   "metadata": {},
   "outputs": [
    {
     "data": {
      "text/plain": [
       "array([], dtype=object)"
      ]
     },
     "execution_count": 9,
     "metadata": {},
     "output_type": "execute_result"
    }
   ],
   "source": [
    "dataset[(dataset['author.steamid']==76561197974092119) & (dataset['steam_purchase']==True)].app_name.unique()"
   ]
  },
  {
   "cell_type": "code",
   "execution_count": 10,
   "id": "ef26d547-c87b-4c71-8ee8-a5fef3857303",
   "metadata": {},
   "outputs": [
    {
     "data": {
      "text/plain": [
       "array(['The Witcher 3: Wild Hunt', 'Half-Life', 'Counter-Strike: Source',\n",
       "       'Half-Life 2: Episode Two', 'Portal 2', \"Garry's Mod\",\n",
       "       \"Sid Meier's Civilization V\"], dtype=object)"
      ]
     },
     "execution_count": 10,
     "metadata": {},
     "output_type": "execute_result"
    }
   ],
   "source": [
    "dataset[(dataset['author.steamid']==76561197974092119) & (dataset['steam_purchase']==False)].app_name.unique()"
   ]
  },
  {
   "cell_type": "code",
   "execution_count": 11,
   "id": "60ea276b-3139-4a53-ad0e-f8012f877542",
   "metadata": {},
   "outputs": [
    {
     "data": {
      "text/plain": [
       "7"
      ]
     },
     "execution_count": 11,
     "metadata": {},
     "output_type": "execute_result"
    }
   ],
   "source": [
    "dataset[(dataset['author.steamid']==76561197974092119) & (dataset['steam_purchase']==False)].app_name.nunique()"
   ]
  },
  {
   "cell_type": "markdown",
   "id": "a1a3987b-53b4-43ba-b9cb-336ed14bb047",
   "metadata": {},
   "source": [
    "I see that this person hasn't bought any apps on steam."
   ]
  },
  {
   "cell_type": "markdown",
   "id": "ab11d0be-582b-4a76-8a16-bf28d8fc0c57",
   "metadata": {},
   "source": [
    "I check how many apps the author has received for free and how many are these apps."
   ]
  },
  {
   "cell_type": "code",
   "execution_count": 12,
   "id": "a5e89068-4796-46c3-b5a3-6437478c624c",
   "metadata": {},
   "outputs": [
    {
     "data": {
      "text/plain": [
       "array(['Half-Life 2: Episode Two', 'Portal 2'], dtype=object)"
      ]
     },
     "execution_count": 12,
     "metadata": {},
     "output_type": "execute_result"
    }
   ],
   "source": [
    "dataset[(dataset['author.steamid']==76561197974092119) & (dataset['received_for_free']==True)].app_name.unique()"
   ]
  },
  {
   "cell_type": "code",
   "execution_count": 13,
   "id": "bedd6024-714d-4978-a4f8-c94fde8958ea",
   "metadata": {},
   "outputs": [
    {
     "data": {
      "text/plain": [
       "2"
      ]
     },
     "execution_count": 13,
     "metadata": {},
     "output_type": "execute_result"
    }
   ],
   "source": [
    "dataset[(dataset['author.steamid']==76561197974092119) & (dataset['received_for_free']==True)].app_name.nunique()"
   ]
  },
  {
   "cell_type": "markdown",
   "id": "782ece86-f54d-4483-8dde-0d0149018699",
   "metadata": {},
   "source": [
    "I calculate the percentage of apps received for free."
   ]
  },
  {
   "cell_type": "code",
   "execution_count": 14,
   "id": "3d96ffb0-d92a-4921-b7aa-1fe0b2309671",
   "metadata": {},
   "outputs": [
    {
     "data": {
      "text/plain": [
       "28.57142857142857"
      ]
     },
     "execution_count": 14,
     "metadata": {},
     "output_type": "execute_result"
    }
   ],
   "source": [
    "ds1=dataset[dataset['author.steamid']==76561197974092119].app_name.nunique()\n",
    "ds2=dataset[(dataset['author.steamid']==76561197974092119) & (dataset['received_for_free']==True)].app_name.nunique()\n",
    "perc1=ds2/ds1*100\n",
    "perc1"
   ]
  },
  {
   "cell_type": "markdown",
   "id": "0eeb1b98-d2c9-4512-8ec3-5eeca85fc336",
   "metadata": {},
   "source": [
    "I check how many apps the author has not received for free and how many are these apps."
   ]
  },
  {
   "cell_type": "code",
   "execution_count": 15,
   "id": "9e254baa-679f-421f-929c-50e6dc6c2613",
   "metadata": {},
   "outputs": [
    {
     "data": {
      "text/plain": [
       "array(['The Witcher 3: Wild Hunt', 'Half-Life', 'Counter-Strike: Source',\n",
       "       \"Garry's Mod\", \"Sid Meier's Civilization V\"], dtype=object)"
      ]
     },
     "execution_count": 15,
     "metadata": {},
     "output_type": "execute_result"
    }
   ],
   "source": [
    "dataset[(dataset['author.steamid']==76561197974092119) & (dataset['received_for_free']==False)].app_name.unique()"
   ]
  },
  {
   "cell_type": "code",
   "execution_count": 15,
   "id": "da3490ce-9100-4b01-bff8-0358c0eed1c3",
   "metadata": {},
   "outputs": [
    {
     "data": {
      "text/plain": [
       "5"
      ]
     },
     "execution_count": 15,
     "metadata": {},
     "output_type": "execute_result"
    }
   ],
   "source": [
    "dataset[(dataset['author.steamid']==76561197974092119) & (dataset['received_for_free']==False)].app_name.nunique()"
   ]
  },
  {
   "cell_type": "markdown",
   "id": "3bd36db8-4c6a-4be1-a6ab-224ce9a5d804",
   "metadata": {},
   "source": [
    "I calculate the percentage of apps not received for free."
   ]
  },
  {
   "cell_type": "code",
   "execution_count": 16,
   "id": "77bd1080-950b-4918-9496-20288770508d",
   "metadata": {},
   "outputs": [
    {
     "data": {
      "text/plain": [
       "71.42857142857143"
      ]
     },
     "execution_count": 16,
     "metadata": {},
     "output_type": "execute_result"
    }
   ],
   "source": [
    "ds3=dataset[(dataset['author.steamid']==76561197974092119) & (dataset['received_for_free']==False)].app_name.nunique()\n",
    "perc2=ds3/ds1*100\n",
    "perc2"
   ]
  },
  {
   "cell_type": "markdown",
   "id": "a8a85cfb-e97c-4238-a35a-a7d9fb50ed03",
   "metadata": {},
   "source": [
    "#### 4 - How many of the applications he purchased reviewed positively, and how many negatively? How about the applications he received for free?"
   ]
  },
  {
   "cell_type": "markdown",
   "id": "f8cdf93c-07ce-4bc4-9e96-3f272a917b43",
   "metadata": {},
   "source": [
    "I check among the apps that he has reviewed and received for free which apps he recommended and which he did not recommend."
   ]
  },
  {
   "cell_type": "code",
   "execution_count": 17,
   "id": "4a54297c-b70a-40d9-92b2-dc703c557602",
   "metadata": {},
   "outputs": [
    {
     "data": {
      "text/plain": [
       "array(['Half-Life 2: Episode Two', 'Portal 2'], dtype=object)"
      ]
     },
     "execution_count": 17,
     "metadata": {},
     "output_type": "execute_result"
    }
   ],
   "source": [
    "dataset[(dataset['author.steamid']==76561197974092119) & (dataset['received_for_free']==True) & (dataset['recommended']==True)].app_name.unique()"
   ]
  },
  {
   "cell_type": "code",
   "execution_count": 18,
   "id": "2c156756-2216-4f0d-8c63-4148c5ac7e56",
   "metadata": {},
   "outputs": [
    {
     "data": {
      "text/plain": [
       "array([], dtype=object)"
      ]
     },
     "execution_count": 18,
     "metadata": {},
     "output_type": "execute_result"
    }
   ],
   "source": [
    "dataset[(dataset['author.steamid']==76561197974092119) & (dataset['received_for_free']==True) & (dataset['recommended']==False)].app_name.unique()"
   ]
  },
  {
   "cell_type": "markdown",
   "id": "9458a83c-2479-41b5-b150-06321dab5411",
   "metadata": {},
   "source": [
    "I check among the apps that he has reviewed and he has not received for free which apps he has recommended and which he has not recommended"
   ]
  },
  {
   "cell_type": "code",
   "execution_count": 19,
   "id": "218e496d-b45a-4c96-abec-597f0348e223",
   "metadata": {},
   "outputs": [
    {
     "data": {
      "text/plain": [
       "array(['The Witcher 3: Wild Hunt', 'Half-Life', 'Counter-Strike: Source',\n",
       "       \"Garry's Mod\", \"Sid Meier's Civilization V\"], dtype=object)"
      ]
     },
     "execution_count": 19,
     "metadata": {},
     "output_type": "execute_result"
    }
   ],
   "source": [
    "dataset[(dataset['author.steamid']==76561197974092119) & (dataset['received_for_free']==False) & (dataset['recommended']==True)].app_name.unique()"
   ]
  },
  {
   "cell_type": "code",
   "execution_count": 20,
   "id": "35668e70-f029-4eef-975a-9b5e7ccdabb7",
   "metadata": {},
   "outputs": [
    {
     "data": {
      "text/plain": [
       "array([], dtype=object)"
      ]
     },
     "execution_count": 20,
     "metadata": {},
     "output_type": "execute_result"
    }
   ],
   "source": [
    "dataset[(dataset['author.steamid']==76561197974092119) & (dataset['received_for_free']==False) & (dataset['recommended']==False)].app_name.unique()"
   ]
  },
  {
   "cell_type": "code",
   "execution_count": null,
   "id": "5c5bd977-c894-46bb-b40f-bb97d62de3ae",
   "metadata": {},
   "outputs": [],
   "source": []
  },
  {
   "cell_type": "code",
   "execution_count": null,
   "id": "c9e4d68d-999d-4e5f-9122-b677e61e1bde",
   "metadata": {},
   "outputs": [],
   "source": []
  },
  {
   "cell_type": "code",
   "execution_count": null,
   "id": "5e9f1f7c-10a0-45b6-b317-d02b0f29e71f",
   "metadata": {},
   "outputs": [],
   "source": []
  }
 ],
 "metadata": {
  "kernelspec": {
   "display_name": "Python 3",
   "language": "python",
   "name": "python3"
  },
  "language_info": {
   "codemirror_mode": {
    "name": "ipython",
    "version": 3
   },
   "file_extension": ".py",
   "mimetype": "text/x-python",
   "name": "python",
   "nbconvert_exporter": "python",
   "pygments_lexer": "ipython3",
   "version": "3.8.8"
  }
 },
 "nbformat": 4,
 "nbformat_minor": 5
}
