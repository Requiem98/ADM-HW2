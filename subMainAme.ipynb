{
 "cells": [
  {
   "cell_type": "markdown",
   "id": "02766084-c8b4-432d-b384-bfafa53b9adf",
   "metadata": {},
   "source": [
    "# Carico il dataset"
   ]
  },
  {
   "cell_type": "code",
   "execution_count": null,
   "id": "c195f821-192e-41e6-8353-ac1444198776",
   "metadata": {},
   "outputs": [],
   "source": [
    "import pandas as pd\n",
    "import numpy as np\n",
    "import dateFunctions as df\n",
    "print(pd.__version__)\n",
    "print(np.__version__)"
   ]
  },
  {
   "cell_type": "code",
   "execution_count": null,
   "id": "4813bd91-8450-48c6-b422-bcd4967fb76b",
   "metadata": {},
   "outputs": [],
   "source": [
    "steam = pd.read_csv(\"./steam_reviews.csv\", header=\"infer\", nrows=20000, index_col=0, parse_dates=['timestamp_created', 'timestamp_updated', 'author.last_played'], date_parser=df.dateparse);\n",
    "dataset.info()\n",
    "dataset.head(1)"
   ]
  },
  {
   "cell_type": "markdown",
   "id": "94e8a9c4-e261-4add-8e0e-2593a12e1b91",
   "metadata": {},
   "source": [
    "# Testing"
   ]
  },
  {
   "cell_type": "code",
   "execution_count": null,
   "id": "14ad9932-9de7-4192-a7b8-8d71c0647f0c",
   "metadata": {},
   "outputs": [],
   "source": [
    "steam[(steam[\"review\"].isnull())]"
   ]
  },
  {
   "cell_type": "code",
   "execution_count": null,
   "id": "dbe34f92-ef2c-4fc1-9633-49f3d0f4a4b0",
   "metadata": {},
   "outputs": [],
   "source": [
    "steam.describe()\n",
    "steam[\"app_name\"].describe()\n",
    "steam[\"author.num_games_owned\"].describe()"
   ]
  },
  {
   "cell_type": "code",
   "execution_count": null,
   "id": "626b26ef-fd1b-4da3-928a-b60e4f2393db",
   "metadata": {},
   "outputs": [],
   "source": [
    "corr = steam.corr()\n",
    "corr"
   ]
  },
  {
   "cell_type": "code",
   "execution_count": null,
   "id": "81d3cf4f-5827-4d30-851b-03a334d82ba4",
   "metadata": {},
   "outputs": [],
   "source": [
    "fig = plt.figure(figsize=(15,15))\n",
    "plt.matshow(corr, cmap=\"RdBu\", fignum=fig.number)\n",
    "plt.xticks(range(len(corr.columns)), corr.columns, rotation=\"vertical\");\n",
    "plt.yticks(range(len(corr.columns)), corr.columns);"
   ]
  },
  {
   "cell_type": "code",
   "execution_count": null,
   "id": "85d6eec2-025b-411b-a68d-5a13913d65b9",
   "metadata": {},
   "outputs": [],
   "source": [
    "steam.info()\n",
    "steam[\"app_name\"].drop_duplicates()"
   ]
  },
  {
   "cell_type": "markdown",
   "id": "96cf5fdf-f771-4f2e-8201-3456f1be0112",
   "metadata": {},
   "source": [
    "# RQ3"
   ]
  },
  {
   "cell_type": "markdown",
   "id": "2e58aa66-0386-4492-ad5c-612032e0f059",
   "metadata": {},
   "source": [
    "*Now it's important to understand the preferred time to do reviews.*\n",
    "   - What is the most common time that authors review an application? For example, authors usually write a review at 17:44.\n"
   ]
  },
  {
   "cell_type": "code",
   "execution_count": null,
   "id": "e4803544-6dfd-4b14-a954-f3a7b2108c4f",
   "metadata": {},
   "outputs": [],
   "source": [
    "plt.figure(1, figsize=(60,20))\n",
    "df.numbersOfReviewForTime(datetime_range(0,23,60), steam);\n",
    "plt.figure(2, figsize=(60,20))\n",
    "df.numbersOfReviewForTime(datetime_range(0,23,15),steam);"
   ]
  },
  {
   "cell_type": "markdown",
   "id": "94f7852c-830f-46a3-b51b-8c31979ee301",
   "metadata": {},
   "source": [
    "   - Create a function that receives as a parameter a list of time intervals and returns the plot the number of reviews for each of the intervals.\n"
   ]
  },
  {
   "cell_type": "code",
   "execution_count": null,
   "id": "62ff4eb4-5845-46b8-b4bf-b8851733eba5",
   "metadata": {},
   "outputs": [],
   "source": [
    "df.numbersOfReviewForTime([[\"8:00\", \"10:00\"]], steam)"
   ]
  },
  {
   "cell_type": "markdown",
   "id": "6a175273-3931-4306-a989-f441da56ac0c",
   "metadata": {},
   "source": [
    "    - Use the function that you created in the previous literal to plot the number of reviews between the following time intervals: \n",
    "    \n",
    "| Initial time | Final time |\n",
    "| ----------- | ----------- |\n",
    "|06:00:00 | 10:59:59|\n",
    "|11:00:00 | 13:59:59|\n",
    "|14:00:00 | 16:59:59|\n",
    "|17:00:00 | 19:59:59|\n",
    "|20:00:00 | 23:59:59|\n",
    "|00:00:00 | 02:59:59|\n",
    "|03:00:00 | 05:59:59|"
   ]
  },
  {
   "cell_type": "code",
   "execution_count": null,
   "id": "a8d0ff7d-370f-410a-8433-5de294d2c514",
   "metadata": {},
   "outputs": [],
   "source": [
    "plt.figure(figsize=(15,15))\n",
    "df.numbersOfReviewForTime([[\"06:00:00\", \"10:59:59\"],[\"11:00:00\", \"13:59:59\"], [\"14:00:00\",  \"16:59:59\"], [\"17:00:00\", \"19:59:59\"], [\"20:00:00\", \"23:59:59\"], [\"00:00:00\", \"02:59:59\"],[\"03:00:00\", \"05:59:59\"]]);"
   ]
  }
 ],
 "metadata": {
  "kernelspec": {
   "display_name": "Python 3",
   "language": "python",
   "name": "python3"
  },
  "language_info": {
   "codemirror_mode": {
    "name": "ipython",
    "version": 3
   },
   "file_extension": ".py",
   "mimetype": "text/x-python",
   "name": "python",
   "nbconvert_exporter": "python",
   "pygments_lexer": "ipython3",
   "version": "3.8.8"
  }
 },
 "nbformat": 4,
 "nbformat_minor": 5
}
