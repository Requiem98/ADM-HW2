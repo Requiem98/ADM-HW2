{
 "cells": [
  {
   "cell_type": "markdown",
   "id": "e1998915-efa4-4d80-8c3c-df58782df0c1",
   "metadata": {},
   "source": [
    "# RQ2"
   ]
  },
  {
   "cell_type": "code",
   "execution_count": null,
   "id": "e080d7eb-f74d-4ea8-a4b0-9c4c88cd399c",
   "metadata": {},
   "outputs": [],
   "source": [
    "import pandas as pd\n",
    "import numpy as np\n",
    "import matplotlib.pyplot as plt"
   ]
  },
  {
   "cell_type": "code",
   "execution_count": null,
   "id": "47aa1155-bbd6-4b98-8970-061035aea035",
   "metadata": {},
   "outputs": [],
   "source": [
    "def dateparse (time_in_secs):\n",
    "    return pd.to_datetime(time_in_secs,unit='s')"
   ]
  },
  {
   "cell_type": "code",
   "execution_count": null,
   "id": "3230e8c3-cfc4-4a9d-89b6-df7e5f2f8803",
   "metadata": {},
   "outputs": [],
   "source": [
    "dataset = pd.read_csv('./steam_reviews.csv', header='infer', nrows=2000000, parse_dates=['timestamp_created', 'timestamp_updated', 'author.last_played'], date_parser=dateparse)\n"
   ]
  },
  {
   "cell_type": "code",
   "execution_count": null,
   "id": "a0ec6161-f131-461e-b479-223e1e9715bf",
   "metadata": {},
   "outputs": [],
   "source": [
    "dataset.info()"
   ]
  },
  {
   "cell_type": "markdown",
   "id": "d70ea495-002f-47e8-b5ae-7e3ad936ffb1",
   "metadata": {},
   "source": [
    "#### 1 - Plot the number of reviews for each application in descending order."
   ]
  },
  {
   "cell_type": "markdown",
   "id": "3e209021-2436-4d20-9655-dbc97539ec44",
   "metadata": {},
   "source": [
    "I group the number of reviews by app name to see how many reviews each app received."
   ]
  },
  {
   "cell_type": "code",
   "execution_count": null,
   "id": "1b65c091-17c9-41a6-b086-d949761ddd9b",
   "metadata": {},
   "outputs": [],
   "source": [
    "dataset.groupby('app_name').review_id.count().sort_values(ascending=False)"
   ]
  },
  {
   "cell_type": "code",
   "execution_count": null,
   "id": "e01fe16e-3e2e-4b6b-b627-dce6f2a1125e",
   "metadata": {},
   "outputs": [],
   "source": [
    "dataset.groupby('app_name').review_id.count().sort_values(ascending=False).plot.bar(figsize=(18,9), xlabel='app_name', ylabel='Number of reviews', title='Reviews by app_name')"
   ]
  },
  {
   "cell_type": "markdown",
   "id": "9f8552a8-894a-41c6-a0d2-2e642bec9ca3",
   "metadata": {},
   "source": [
    "#### 2 - What applications have the best Weighted Vote Score?"
   ]
  },
  {
   "cell_type": "markdown",
   "id": "f6b3787b-25e8-49ca-b95e-ecbe8dea647e",
   "metadata": {},
   "source": [
    "I check the weighted vote score of the various apps, I sort them in descending order and see which apps have the best weighted vote scores."
   ]
  },
  {
   "cell_type": "code",
   "execution_count": null,
   "id": "1ee851a9-f023-4045-b21f-7d690195df9f",
   "metadata": {},
   "outputs": [],
   "source": [
    "dataset[['app_name', 'weighted_vote_score']].groupby(['app_name']).max().sort_values(['weighted_vote_score'],ascending=False)"
   ]
  },
  {
   "cell_type": "markdown",
   "id": "a5786a6a-3bb0-4505-8a28-7106e6d50290",
   "metadata": {},
   "source": [
    "#### 3 - Which applications have the most and the least recommendations?"
   ]
  },
  {
   "cell_type": "markdown",
   "id": "96e8a08e-1c13-4123-a892-89ef41dcf89c",
   "metadata": {},
   "source": [
    "Being \"recommended\" a boolean variable, I sum the various values for each app, I sort them in descending order and in this way I see which apps are more recommended and which are less recommended."
   ]
  },
  {
   "cell_type": "markdown",
   "id": "00f955e5-7a34-452f-bf72-6dcbde20ba03",
   "metadata": {},
   "source": [
    "Most recommended apps:"
   ]
  },
  {
   "cell_type": "code",
   "execution_count": null,
   "id": "3b54205e-c0ca-49da-974d-7e2ff38319f7",
   "metadata": {},
   "outputs": [],
   "source": [
    "dataset.groupby([\"app_name\"])[\"recommended\"].sum().sort_values(ascending=False).head()"
   ]
  },
  {
   "cell_type": "markdown",
   "id": "2b4f71b0-ea55-486e-a7d0-83f965fdcf34",
   "metadata": {},
   "source": [
    "Less recommended apps:"
   ]
  },
  {
   "cell_type": "code",
   "execution_count": null,
   "id": "d7477038-4aec-43aa-a5f2-279f6c87cee2",
   "metadata": {},
   "outputs": [],
   "source": [
    "dataset.groupby([\"app_name\"])[\"recommended\"].sum().sort_values(ascending=False).tail()"
   ]
  },
  {
   "cell_type": "markdown",
   "id": "e1e939e3-9fcd-4ea1-8b10-da6abadf3143",
   "metadata": {},
   "source": [
    "#### 4 - How many of these applications were purchased, and how many were given for free?"
   ]
  },
  {
   "cell_type": "markdown",
   "id": "61458da3-9a08-4077-93a6-8fdb58c75dcc",
   "metadata": {},
   "source": [
    "I consider the apps found in the previous point, the most recommended and the least recommended, and I see how many people have purchased a particular app on steam or received it for free.\n",
    "As in the previous point, being \"steam_purchase\" and \"received_for_free\" boolean variables, I added the various values that the variables assume for each application to see how many people purchased the app and how many received it for free."
   ]
  },
  {
   "cell_type": "code",
   "execution_count": null,
   "id": "50e11bce-ea78-4e34-ae70-db23c19653a1",
   "metadata": {},
   "outputs": [],
   "source": [
    "dataset[['app_name', 'recommended', 'received_for_free', 'steam_purchase']].groupby(['app_name']).sum().sort_values(['recommended'], ascending=False)"
   ]
  },
  {
   "cell_type": "code",
   "execution_count": null,
   "id": "4d576231-f937-4117-b3b5-944e6254672c",
   "metadata": {},
   "outputs": [],
   "source": []
  },
  {
   "cell_type": "code",
   "execution_count": null,
   "id": "30552de5-f8a0-42f5-a219-9ba056137f99",
   "metadata": {},
   "outputs": [],
   "source": []
  },
  {
   "cell_type": "code",
   "execution_count": null,
   "id": "f3632571-9da6-4723-80f9-6249c027ce74",
   "metadata": {},
   "outputs": [],
   "source": []
  },
  {
   "cell_type": "code",
   "execution_count": null,
   "id": "ef39664e-bb87-4795-9ce3-63a4e59fd5e8",
   "metadata": {},
   "outputs": [],
   "source": []
  }
 ],
 "metadata": {
  "kernelspec": {
   "display_name": "Python 3",
   "language": "python",
   "name": "python3"
  },
  "language_info": {
   "codemirror_mode": {
    "name": "ipython",
    "version": 3
   },
   "file_extension": ".py",
   "mimetype": "text/x-python",
   "name": "python",
   "nbconvert_exporter": "python",
   "pygments_lexer": "ipython3",
   "version": "3.8.8"
  }
 },
 "nbformat": 4,
 "nbformat_minor": 5
}
